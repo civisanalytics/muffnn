{
 "cells": [
  {
   "cell_type": "markdown",
   "metadata": {},
   "source": [
    "# Prediction gradient-based model interpretation\n",
    "\n",
    "This notebook is an example of investigating how different input features (a.k.a. predictors, independent variables) affect neural network predictions, to help understand and explain how a model works.\n",
    "\n",
    "This sort of model interpretation can be useful for various purposes:\n",
    "\n",
    "* to catch bugs (e.g., one might notice a strongly-weighted feature that was accidentally included in a model)\n",
    "* to explain a model, or its predictions on individual examples, to stakeholders\n",
    "* to help to avoid biases or other undesirable behavior (e.g., one might notice that the model is using demographics in undesirable ways when making predictions)\n",
    "\n",
    "Some examples of similar methods for other types of models include computing [feature importance](http://scikit-learn.org/stable/auto_examples/ensemble/plot_forest_importances.html) for tree ensembles, or examining coefficients of a linear model.  It is worth noting that all of these methods have limitations, especially for more complex types of models such as tree ensembles and neural networks.\n",
    "\n",
    "We'll use the toy \"digits\" dataset available in scikit-learn. Obviously, an MLP is not a great choice for a computer vision task, but the simple visual patterns in the digits data make for a decent demonstration.\n",
    "\n",
    "We'll use `muffnn.MLPClassifier.prediction_gradient`, which can be used for the \"gradient x input\" discussed by, e.g., [Shrikumar et al., ICML 2016](https://arxiv.org/abs/1704.02685).  This method computes the gradient of the output (the prediction) with respect to the input vector (e.g., Simonyan et al., ICLR 2014) and then multiplies by the input vector to discount less-active features.  Prediction gradient values are essentially coefficients for a local linear model around each example, and in that way, it's related to LIME, SHAP, and other methods.\n",
    "\n",
    "Note: Prediction gradients sometimes are referred to as sensitivity analysis."
   ]
  },
  {
   "cell_type": "markdown",
   "metadata": {},
   "source": [
    "## Setup\n",
    "\n",
    "We'll first import various modules and classes we need and define up some image display helper functions used for later visualizations."
   ]
  },
  {
   "cell_type": "code",
   "execution_count": 1,
   "metadata": {},
   "outputs": [],
   "source": [
    "import base64\n",
    "import io\n",
    "import logging\n",
    "\n",
    "from IPython.display import HTML, display\n",
    "import numpy as np\n",
    "import matplotlib.pyplot as plt\n",
    "import matplotlib as mpl\n",
    "import muffnn\n",
    "from sklearn.datasets import load_digits\n",
    "from sklearn.pipeline import Pipeline\n",
    "from sklearn.preprocessing import MinMaxScaler\n",
    "from sklearn.model_selection import GridSearchCV\n",
    "import tensorflow as tf\n",
    "\n",
    "# Ignore an irrelevant tensorflow deprecation warning triggered below.\n",
    "logging.getLogger('tensorflow').setLevel(logging.CRITICAL)"
   ]
  },
  {
   "cell_type": "code",
   "execution_count": 2,
   "metadata": {},
   "outputs": [],
   "source": [
    "def image_html(x, cmap, vmin=None, vmax=None):\n",
    "    \"\"\"Plot an image represented by the array x.\"\"\"\n",
    "    plt.figure(figsize=(1, 1))\n",
    "    img = plt.imshow(np.reshape(x, (8, 8)), interpolation='nearest', vmin=vmin, vmax=vmax)\n",
    "    img.set_cmap(cmap)\n",
    "    plt.axis('off')\n",
    "    buf = io.BytesIO()\n",
    "    plt.savefig(buf)\n",
    "    buf.seek(0)\n",
    "    image_bytes = buf.read()\n",
    "    plt.close()\n",
    "    return ('<img style=\"display:inline\" src=\"data:image/png;base64,%s\" />' %\n",
    "            base64.encodebytes(image_bytes).decode('ascii'))\n",
    "\n",
    "\n",
    "def show_images(X, cmap, vmin=None, vmax=None):\n",
    "    display(HTML(''.join([image_html(x, cmap, vmin=vmin, vmax=vmax) for x in X])))"
   ]
  },
  {
   "cell_type": "markdown",
   "metadata": {},
   "source": [
    "## Load the data\n",
    "\n",
    "Get the digits dataset and show a sample of it."
   ]
  },
  {
   "cell_type": "code",
   "execution_count": 3,
   "metadata": {},
   "outputs": [
    {
     "data": {
      "text/html": [
       "<img style=\"display:inline\" src=\"data:image/png;base64,iVBORw0KGgoAAAANSUhEUgAAAEgAAABICAYAAABV7bNHAAAABHNCSVQICAgIfAhkiAAAAAlwSFlz\n",
       "AAALEgAACxIB0t1+/AAAAWFJREFUeJzt2mGNg0AQQGF6OQFIqJRKQEIlgAKQUCcgAZzUAgo4Azvz\n",
       "ciR79JL3/dwNLXnZZFLo7TiOo1Ho6+ob+HQGAgYCBgIGAgYCBgIGAt9Xfvnr9SquL8sSXrOua6W7\n",
       "KfMEAQMBAwEDAQOB6lMsmzrDMBTXx3GsdDe/5wkCBgIGAgYCBgIGArfabzUej0e417ZtcT37sfrX\n",
       "PEHAQMBAwEDAQMBAoPqYj0Z50zRN13XF9fv9Hl6T7UWfR/eR8QQBAwEDAQMBA4FLp9i+78X17Jn0\n",
       "+/0O97IJN01TuJfxBAEDAQMBAwEDAQOB6q+eszEfjd6+7099V/b8+yxPEDAQMBAwEDAQMBCoPuaf\n",
       "z2e4F/37LBvz2WvpbdvCvbNPATxBwEDAQMBAwEDAQKD6mM8elkfjPBu7mXmew72zn+kJAgYCBgIG\n",
       "AgYCBgLV383/d54gYCBgIGAgYCBgIGAgYCDwAyBCQ/Kij9tUAAAAAElFTkSuQmCC\n",
       "\" /><img style=\"display:inline\" src=\"data:image/png;base64,iVBORw0KGgoAAAANSUhEUgAAAEgAAABICAYAAABV7bNHAAAABHNCSVQICAgIfAhkiAAAAAlwSFlz\n",
       "AAALEgAACxIB0t1+/AAAAX5JREFUeJzt2mGNwkAQQOHlcgKQgoQ6KFJAAUgAB0hoFQAKAAdIwEHP\n",
       "QGce7bXhLnnfz24aNi+bDJQuuq7rikJfn97AX2cgYCBgIGAgYCBgIGAg8D33B6zX63Ctbdve67vd\n",
       "Lrxnv9//dkuDeIKAgYCBgIGAgcAkU+x0OoVr0aQqpZS6rnuvN00T3vN6vcK1w+EQro3lCQIGAgYC\n",
       "BgIGAgYCk4z5bPRmonG+2WzCe47HY7jmmP8AAwEDAQMBAwEDgcUULy88n89wbbVaDV67Xq+j9nG7\n",
       "3UbtI+MJAgYCBgIGAgYCk0yxTPZ8OZt+ke12G66dz+dwraqqwZ9ViicIGQgYCBgIGAgYCHz0BapI\n",
       "9tUgM/bZeMYTBAwEDAQMBAwEDARmH/P3+z1cu1wuvdezX+zRW2mljPtKQTxBwEDAQMBAwEDAQGD2\n",
       "h/bZX76Px6P3ejbKs5fWl8vl2/t6lycIGAgYCBgIGAgYCMw+5v87TxAwEDAQMBAwEDAQMBAwEPgB\n",
       "g41VNfG6e9UAAAAASUVORK5CYII=\n",
       "\" /><img style=\"display:inline\" src=\"data:image/png;base64,iVBORw0KGgoAAAANSUhEUgAAAEgAAABICAYAAABV7bNHAAAABHNCSVQICAgIfAhkiAAAAAlwSFlz\n",
       "AAALEgAACxIB0t1+/AAAAV1JREFUeJzt2mFthDAcQPHesu8g4XCABCQgBQlIQAISkIIEJOCAGeDf\n",
       "d9eNsSXv95GmO/LSpKPwOI7jSAp93H0Df52BgIGAgYCBgIGAgYCBwOfVPzCOYzg2TdPp9bZti/5e\n",
       "13Uv3tXrXEHAQMBAwEDAQOBHdrFlWcKxeZ7fnhftbimltK5rOOYudgMDAQMBAwEDAQOBx51vNfZ9\n",
       "P72ee1jN/UuRm1fKFQQMBAwEDAQMBAwELj+T3rYtHIu25bquwznP5/Obd/QeVxAwEDAQMBAwELj1\n",
       "YTV6S5p7IM3tYrl5pVxBwEDAQMBAwEDAQODWbb5E6cdVfd8X/Z4rCBgIGAgYCBgIGAhcfiad++or\n",
       "+voseiWdUv68Onf+XcoVBAwEDAQMBAwEDAQu3+ZzW3bTNKfXq6oK5wzDUDRWyhUEDAQMBAwEDAQM\n",
       "BP7dof1vcwUBAwEDAQMBAwEDAQMBA4EvlZhGYpf4moIAAAAASUVORK5CYII=\n",
       "\" /><img style=\"display:inline\" src=\"data:image/png;base64,iVBORw0KGgoAAAANSUhEUgAAAEgAAABICAYAAABV7bNHAAAABHNCSVQICAgIfAhkiAAAAAlwSFlz\n",
       "AAALEgAACxIB0t1+/AAAAWRJREFUeJzt22Ftg1AUQGG6zAAOkIAEpCABCUgAB0jBAUhAAg6Ygd57\n",
       "spW3bsn5fvamYTl5yet77R7XdV2VQh/v/gP+OgMBAwEDAQMBAwEDAQOBz9IPOI4jnPV9f+uz2rYN\n",
       "Z8MwhLOmacKZKwgYCBgIGAgYCBTfxaZpCmf7vj99PduNzvMMZ/M8h7Ou68KZu9gLDAQMBAwEDAQM\n",
       "BB6lv9XIttdoNo5j+J5slh2Ml2UJZxlXEDAQMBAwEDAQMBC4ZZvPTth1XYezbdu+/azsY0N0O1BV\n",
       "+Yk94woCBgIGAgYCBgLF76SznSq6e852quyw+tOdKuMKAgYCBgIGAgYCBgLF76Qz67o+fT37sVN2\n",
       "IC3BFQQMBAwEDAQMBAwEip/mM9F2np3mf5srCBgIGAgYCBgIGAgU3+az03f0i7C7/03qFa4gYCBg\n",
       "IGAgYCBgIPDWS/v/wBUEDAQMBAwEDAQMBAwEDAS+AILNSrLwVanwAAAAAElFTkSuQmCC\n",
       "\" /><img style=\"display:inline\" src=\"data:image/png;base64,iVBORw0KGgoAAAANSUhEUgAAAEgAAABICAYAAABV7bNHAAAABHNCSVQICAgIfAhkiAAAAAlwSFlz\n",
       "AAALEgAACxIB0t1+/AAAAWVJREFUeJzt29FtgzAYAOGm6juMkJHCBKzACIzACLBBRmAE2AA2YAO6\n",
       "AL+vRU5JpfsesZygkyXHIbnt+75/KPR59Q28OwMBAwEDAQMBAwEDAQOBrxwvsixLOPZ4PMKxeZ4P\n",
       "r9d1Hc7p+/6nt5WFKwgYCBgIGAgYCGTZxcZxPDUv2q2GYQjnuIu9GQMBAwEDAQMBA4HblU812rY9\n",
       "vJ7aylMH41dwBQEDAQMBAwEDAQOBLKf5lG3bwrFoO099j/3XXEHAQMBAwEDAQODlu1h0IM0951Vc\n",
       "QcBAwEDAQMBAwEAgyzafOpA+n89wrGmaw+tlWWa/j7Ov6QoCBgIGAgYCBgIGAlm2+WmawrF1XcOx\n",
       "+/1+eL3runBO6mND6rH02UfWriBgIGAgYCBgIGAgkGWbT52Ui6IIx6qq+vV7pf4qlfoIcJYrCBgI\n",
       "GAgYCBgIGAhc+kPy/8AVBAwEDAQMBAwEDAQMBAwEvgFzIkegFKKypAAAAABJRU5ErkJggg==\n",
       "\" /><img style=\"display:inline\" src=\"data:image/png;base64,iVBORw0KGgoAAAANSUhEUgAAAEgAAABICAYAAABV7bNHAAAABHNCSVQICAgIfAhkiAAAAAlwSFlz\n",
       "AAALEgAACxIB0t1+/AAAAVxJREFUeJzt2tGJg0AUQNFk2QIswVJSgiXYgZZgCZaQdBI7MB1oB1qB\n",
       "+73gmwubTMzCPZ8+RLkMDGZy3rZtOyn0dfQLfDoDAQMBAwEDAQMBAwEDge/cDyjLMpxdLpfd69fr\n",
       "Ncu7/IUrCBgIGAgYCBgIZN/FlmUJZ+M45n7801xBwEDAQMBAwEDAQOAl23xVVeFsXddw9ng8dq9P\n",
       "0xTek/r4zcEVBAwEDAQMBAwEDARess13XRfOiqIIZ7fbbfd66ivfbf7DGAgYCBgIGAicj/wLXrQj\n",
       "RSeup9P7T11dQcBAwEDAQMBAwEAg+9FzSrSd3+/3t75HiisIGAgYCBgIGAgYCGTf5tu2DWfRdj7P\n",
       "c3hP6pg7NavrOpyluIKAgYCBgIGAgYCBQPYf7VM/wA/DkPPRvzRNE876vg9nriBgIGAgYCBgIGAg\n",
       "cOjZ/H/gCgIGAgYCBgIGAgYCBgIGAj/Vuj2VTlFJOwAAAABJRU5ErkJggg==\n",
       "\" /><img style=\"display:inline\" src=\"data:image/png;base64,iVBORw0KGgoAAAANSUhEUgAAAEgAAABICAYAAABV7bNHAAAABHNCSVQICAgIfAhkiAAAAAlwSFlz\n",
       "AAALEgAACxIB0t1+/AAAAW5JREFUeJzt2uGNgkAUAOH1cgVQAh1ICdoBHVCClkAJlKAd2AHYAR1x\n",
       "DfB2TsKeXjLfTzYomWzy4uJhWZYlKfT17gf4dAYCBgIGAgYCBgIGAgYC36W/oO/7cG2aptXrz+dz\n",
       "03ddLpdwbRiGTZ/pDgIGAgYCBgIGAoc9jjuiaZRSSufz+eXPOx6P4drpdArXrtdruFbX9cvPkZI7\n",
       "CBkIGAgYCBgIGAjsMubbtg3X5nkO12632+r13Cj/a+4gYCBgIGAgYCBgILDLmXRuLOd+6Udjvmma\n",
       "8J6qqn75VPtwBwEDAQMBAwEDgV1+rObkJlz0BjV3Jp2biiUmnDsIGAgYCBgIGAgYCBQf8znRyM69\n",
       "rh7HMVwrcZbtDgIGAgYCBgIGAgYCxf8n/Xg8Nq1FPJP+MAYCBgIGAgYCBgLFx3zukP1+v69e77ou\n",
       "vCf3WroEdxAwEDAQMBAwEDAQeOuh/X/gDgIGAgYCBgIGAgYCBgIGAj81rUk78N3ccAAAAABJRU5E\n",
       "rkJggg==\n",
       "\" /><img style=\"display:inline\" src=\"data:image/png;base64,iVBORw0KGgoAAAANSUhEUgAAAEgAAABICAYAAABV7bNHAAAABHNCSVQICAgIfAhkiAAAAAlwSFlz\n",
       "AAALEgAACxIB0t1+/AAAAWNJREFUeJzt2mFthDAAQOHdMgFIAAdIAAfgBAdYQAIScAASkIADcMAM\n",
       "0L7jLs1tyft+0pSRlyY9yh7neZ5fCvr+9AP8dQYCBgIGAgYCBgIGAgYCP6n/wLIswbG6rm/fb57n\n",
       "4FhVVbfvR1xBwEDAQMBAwEDgkfq4I7azZFl2e05sV5ym6cmnep4rCBgIGAgYCBgIGAgkf1ktyzI4\n",
       "1nXd5fV1XYNzjuN4+5nucAUBAwEDAQMBAwEDgeTb/DAMt+fE3spDJwCpuIKAgYCBgIGAgUDyXewV\n",
       "4zgGx0IvuKm4goCBgIGAgYCBgIFA8k/PMdu2XV4viiI4Z9/34FiKF1lXEDAQMBAwEDAQMBBIvs3H\n",
       "PhXneX77fk3TBMdi59+v/gRwBQEDAQMBAwEDAQOB5Nt87DNy27aX1/u+D86J/ffZq88R4woCBgIG\n",
       "AgYCBgIGAh89tP8PXEHAQMBAwEDAQMBAwEDAQOAXMC9Hu9loJUAAAAAASUVORK5CYII=\n",
       "\" /><img style=\"display:inline\" src=\"data:image/png;base64,iVBORw0KGgoAAAANSUhEUgAAAEgAAABICAYAAABV7bNHAAAABHNCSVQICAgIfAhkiAAAAAlwSFlz\n",
       "AAALEgAACxIB0t1+/AAAAW1JREFUeJzt2s1tg0AUAOE4SiGmArsEXIHpAEqgJEqgA0wHpgJcAh2Q\n",
       "Wy7x20niJU6k+Y5+4kejlVZavFvXdX1R6PXZL/DXGQgYCBgIGAgYCBgIGAi85bjJsizhrKqqcDaO\n",
       "Y47HfxiGIZyVZfmje7qCgIGAgYCBgIFAll3ser2Gs9ROVdf13d+bpgmvOR6PX36vHFxBwEDAQMBA\n",
       "wEDAQCDLNn+73cLZ4XAIZ13X5Xj8plxBwEDAQMBAwEDAQCDLNp8yTVM4i86J27YNr0mdcW/BFQQM\n",
       "BAwEDAQMBDb/sno+n799v9SZdOpZW3AFAQMBAwEDAQMBA4HdM/9pf7lc7v5+Op3Ca+Z5Dmf7/f7B\n",
       "N/rMFQQMBAwEDAQMBAwENt/mU5+lo/Pl1L/IfvtztSsIGAgYCBgIGAgYCGTZ5lNbeVEU4Sw60O/7\n",
       "/tFXysYVBAwEDAQMBAwEDASeemj/H7iCgIGAgYCBgIGAgYCBgIHAOxMHSS82N/xyAAAAAElFTkSu\n",
       "QmCC\n",
       "\" /><img style=\"display:inline\" src=\"data:image/png;base64,iVBORw0KGgoAAAANSUhEUgAAAEgAAABICAYAAABV7bNHAAAABHNCSVQICAgIfAhkiAAAAAlwSFlz\n",
       "AAALEgAACxIB0t1+/AAAAWxJREFUeJzt2tFtgzAUQFFS9R82ICNkBEbICGSDjEA2YYSMwAiMQiag\n",
       "C/S9K4gjWumez1p2oitLLjGndV3XSqGvo7/AX2cgYCBgIGAgYCBgIGAg8F1ikWmawrHr9bp5vfv9\n",
       "Ho4Nw7B5vXe4g4CBgIGAgYCBwMdPsdfrtXm9x+MRjmWn4uVy2fxZxB0EDAQMBAwEDAQMBE4lbjWW\n",
       "ZQnHmqbZPO98PodzxnEMx/Y8GBN3EDAQMBAwEDAQMBAo8jSfHeV75nVdF87J/qX4BHcQMBAwEDAQ\n",
       "MBAo8rC61zzPv/49O8WiOVWVP+Tu5Q4CBgIGAgYCBgIGAh8/5ve8XJVdV7dtG45lL1f1fR+OZdxB\n",
       "wEDAQMBAwEDAQKDIb9LZdfDtdtu8Xl3X4Vj2FplvmB3AQMBAwEDAQMBAoMgxn10HZ0/f0bH8fD7f\n",
       "/k6luIOAgYCBgIGAgYCBwKF38/+BOwgYCBgIGAgYCBgIGAgYCPwABOFIpdIPGxEAAAAASUVORK5C\n",
       "YII=\n",
       "\" /><img style=\"display:inline\" src=\"data:image/png;base64,iVBORw0KGgoAAAANSUhEUgAAAEgAAABICAYAAABV7bNHAAAABHNCSVQICAgIfAhkiAAAAAlwSFlz\n",
       "AAALEgAACxIB0t1+/AAAAUpJREFUeJzt22GJhFAUQOGdZQIYwQg2sYIRjGAEIxjBCNrACNpAE7gF\n",
       "vB6X4aED5/vpQ/ZxuHBhcF/7vu8/Cv3efYGnMxAwEDAQMBAwEDAQMBB4p/4DwzCEZ03THD5f1zV8\n",
       "p+u68Kwoiou3us4JAgYCBgIGAgYCybfYNE3h2TzPh8+XZQnfOdtibdtevdZlThAwEDAQMBAwEDAQ\n",
       "SL7m67oOz/q+P3x+tuazLPv4Tv/hBAEDAQMBAwEDAQOB5Gv+TFVVh8/HcQzfyfM8zWUCThAwEDAQ\n",
       "MBAwELh1i539Xv0UThAwEDAQMBAwEDAQ+Lo1n+IjqTNOEDAQMBAwEDAQMBC4dc2ffQ/9FE4QMBAw\n",
       "EDAQMBAwEHjd+X/z0ddi27aF75RlGZ5FX6x9wgkCBgIGAgYCBgIGAreu+W/gBAEDAQMBAwEDAQMB\n",
       "AwEDgT+mSDkJW1kb4gAAAABJRU5ErkJggg==\n",
       "\" /><img style=\"display:inline\" src=\"data:image/png;base64,iVBORw0KGgoAAAANSUhEUgAAAEgAAABICAYAAABV7bNHAAAABHNCSVQICAgIfAhkiAAAAAlwSFlz\n",
       "AAALEgAACxIB0t1+/AAAAW5JREFUeJzt28GNgkAYQGHcbAGWYAmUoB3YAS3YgdgJJdAB0IEdQAl0\n",
       "wN72svzzlMXFbN53ZDJm8jLJCOhumqYpU+hj6wW8OwMBAwEDAQMBAwEDAQOBz60XMKcsy3Csqqpw\n",
       "7Hg8LpqX4g4CBgIGAgYCBgKbnmKXy2X2+uFwCOecz+dw7H6//3ZJP7iDgIGAgYCBgIGAgcDLj/no\n",
       "KM+yLNvv90/PSd2Q5nn+8Loe5Q4CBgIGAgYCBgIGArs1frzQtm04djqdwrHr9fr053VdF471fR+O\n",
       "pZ4QpLiDgIGAgYCBgIHAKjer4zgumne73WavF0URzkk9d156UqW4g4CBgIGAgYCBgIHAKsd86nVw\n",
       "0zThWPR8ua7rcM7SrxRLuYOAgYCBgIGAgYCBwMtfPadeFUf++o49xR0EDAQMBAwEDAQMBN7y71DD\n",
       "MGy9hG/uIGAgYCBgIGAgYCCwyi/M/jN3EDAQMBAwEDAQMBAwEDAQ+AJ5jj79PmN/uQAAAABJRU5E\n",
       "rkJggg==\n",
       "\" /><img style=\"display:inline\" src=\"data:image/png;base64,iVBORw0KGgoAAAANSUhEUgAAAEgAAABICAYAAABV7bNHAAAABHNCSVQICAgIfAhkiAAAAAlwSFlz\n",
       "AAALEgAACxIB0t1+/AAAAXFJREFUeJzt3N1xglAQQOGYybstUIIlYAVagiXQCdABJWAHlmAJ0IEd\n",
       "kAbYPQNCzMP5Htm50TlzZ674k8M0TdOXQt+ffgL/nYGAgYCBgIGAgYCBgIHAz94P8Hw+w1lZlrPX\n",
       "m6YJ19xutzef0TLuIGAgYCBgIGAgsMkp9nq9wtn1eg1nRVEsuv4J7iBgIGAgYCBgIGAgsMkxn92Q\n",
       "juMYzqKb0vP5HK6p6zqcVVUVztZyBwEDAQMBAwEDAQOBTY75x+Oxal328iAyDEM46/s+nGXvKmTc\n",
       "QcBAwEDAQMBAYJNTLDtZMl3XLV7Ttu2qx/IU24mBgIGAgYCBgIHAJsd89l5w9rH0/X6fvX65XMI1\n",
       "2Zer9vjI2h0EDAQMBAwEDAQMBDY55k+nUzjLXgJEx3z29/7622fuIGAgYCBgIGAgYCCw+8+hsrv5\n",
       "4/E4ez36mdQnuIOAgYCBgIGAgYCBwMF/j5NzBwEDAQMBAwEDAQMBAwEDgV/RV0DdFZhdYwAAAABJ\n",
       "RU5ErkJggg==\n",
       "\" /><img style=\"display:inline\" src=\"data:image/png;base64,iVBORw0KGgoAAAANSUhEUgAAAEgAAABICAYAAABV7bNHAAAABHNCSVQICAgIfAhkiAAAAAlwSFlz\n",
       "AAALEgAACxIB0t1+/AAAAXBJREFUeJzt22GNgzAAQOHucgZAAhIYEoYVLAwJaJiFWZgFJICFSeAM\n",
       "rH2jV7K75H0/1zDIS5MGKKdt27agqK9PX8BfZyBgIGAgYCBgIGAgYCDwffQJ7vd7dGyappe/d123\n",
       "+5gQQqiq6v0Le5MzCBgIGAgYCBgInI5+3JGzsuSuRuu6Zh2X4gwCBgIGAgYCBgIGAkVuVud5jo41\n",
       "TRMdezweu891Pp+z/u9yuew+VwjOIGQgYCBgIGAgYCBQZJlPLa9930fHcu7ax3HMug6X+YMYCBgI\n",
       "GAgYCBRZxZ7PZ4m/ecsRb09TnEHAQMBAwEDAQMBAoMgyn3pOnNpAleN2u0XHrtdr0XOF4AxCBgIG\n",
       "AgYCBgIGAkV2mKXu5uu6jo4Nw/Dy99ROsWVZomPuMPsAAwEDAQMBAwEDgSJ386kH6anPl2Kvkdu2\n",
       "jR6TsyvtN5xBwEDAQMBAwEDAQODw78X+O2cQMBAwEDAQMBAwEDAQMBD4ARRsRIuLFUyWAAAAAElF\n",
       "TkSuQmCC\n",
       "\" /><img style=\"display:inline\" src=\"data:image/png;base64,iVBORw0KGgoAAAANSUhEUgAAAEgAAABICAYAAABV7bNHAAAABHNCSVQICAgIfAhkiAAAAAlwSFlz\n",
       "AAALEgAACxIB0t1+/AAAAW5JREFUeJzt22GNg0AQQOHt5YRUQh1QCUhAQusACZWAA5BQHCABCXXA\n",
       "GejMCz0Id8n7frJpIC+TbOi2p2VZlqLQ19EP8NcZCBgIGAgYCBgIGAgYCHwfefPH47HqeimlzPO8\n",
       "09O85wQBAwEDAQMBA4Hdd7Hn8xmu3e/3t9f7vt/padZzgoCBgIGAgYCBgIHAae9TjfP5HK7Vdf32\n",
       "evaymmmaJly73W7h2uVyCdecIGAgYCBgIGAgYCCwyTafbctt24Zrr9dr9b2y7brruk3vVYoThAwE\n",
       "DAQMBAwENvlOehiGjz4X7XDZ6Wl2r+jl9zecIGAgYCBgIGAgYCCwyTZ/vV7DtWmawrXoWHocx/Az\n",
       "VVWFa59+l51xgoCBgIGAgYCBgIHA7kfPmejNPDtCzn6xlh0hf8oJAgYCBgIGAgYCBgKH/h0q2rKz\n",
       "X6XtsZVnnCBgIGAgYCBgIGAgcOjb/H/gBAEDAQMBAwEDAQMBAwEDgR8aNE6iQVTBNQAAAABJRU5E\n",
       "rkJggg==\n",
       "\" /><img style=\"display:inline\" src=\"data:image/png;base64,iVBORw0KGgoAAAANSUhEUgAAAEgAAABICAYAAABV7bNHAAAABHNCSVQICAgIfAhkiAAAAAlwSFlz\n",
       "AAALEgAACxIB0t1+/AAAAWtJREFUeJzt22Ftg0AcQHFYJgAJSKgEJNQBSEACDrAAEuoACUhAAg7Y\n",
       "5yX93ytbL2zJ+33k0nJ5ueTaoy2P4zgKhT6unsBfZyBgIGAgYCBgIGAgYCDwmfsG9/s9HHs8Hk+v\n",
       "t20bvmaapt9O6RRXEDAQMBAwEDAQeMsultpZlmU5/X7zPIdjTdOEY13Xnb4XcQUBAwEDAQMBAwED\n",
       "gfLKpxrbtj293vd9+Jp938Oxn3ykIK4gYCBgIGAgYCBgIJD9TDqlrutT14uiKKqqyjOZgCsIGAgY\n",
       "CBgIGAhcuotFXy5TZ9zruuaZTMAVBAwEDAQMBAwEDATess2nzomHYQjHou089Qg5da8cXEHAQMBA\n",
       "wEDAQMBAIPuj57Isc779N+M4hmOpx9kpriBgIGAgYCBgIGAgkP3QPvXXpugAPvUXqtQPyW+328vz\n",
       "epUrCBgIGAgYCBgIGAhc+kPy/8AVBAwEDAQMBAwEDAQMBAwEvgCJvEHZzhHF+gAAAABJRU5ErkJg\n",
       "gg==\n",
       "\" /><img style=\"display:inline\" src=\"data:image/png;base64,iVBORw0KGgoAAAANSUhEUgAAAEgAAABICAYAAABV7bNHAAAABHNCSVQICAgIfAhkiAAAAAlwSFlz\n",
       "AAALEgAACxIB0t1+/AAAAXlJREFUeJzt21GRglAYQOF1ZwMYwQg0EBpgAolAA4xgBCNoA5qgDWjA\n",
       "FuC/RwRGHs73yD8oc+bO3AFxNwzD8KPQ77cvYOsMBAwEDAQMBAwEDAQMBP7W/oLL5RLObrfb6PG+\n",
       "78NzrtdrOKuq6s2rep8rCBgIGAgYCBgI7JZ43NG2bTgriiKcHY/H0ePP5zM8J8uycHa/38PZp1xB\n",
       "wEDAQMBAwEDAQGD1m9WmacJZXdejx1NbeZ7ncy9pElcQMBAwEDAQMBAwEFhkm09tvanZ4XAYPf56\n",
       "vSafsxZXEDAQMBAwEDAQWP1mNSW6KU3tYqfTKZx1XRfOPt39XEHAQMBAwEDAQMBAYJGfnpeWeoEq\n",
       "tV2nXtaKnn8TVxAwEDAQMBAwEDAQWP1uPvX2WfTOc+qn5/1+P/eSJnEFAQMBAwEDAQMBA4HV7+bL\n",
       "sgxnj8dj8uedz+dwFv29ag5XEDAQMBAwEDAQMBDY5EP7LXEFAQMBAwEDAQMBAwEDAQOBfxKPR1Xn\n",
       "LyiCAAAAAElFTkSuQmCC\n",
       "\" /><img style=\"display:inline\" src=\"data:image/png;base64,iVBORw0KGgoAAAANSUhEUgAAAEgAAABICAYAAABV7bNHAAAABHNCSVQICAgIfAhkiAAAAAlwSFlz\n",
       "AAALEgAACxIB0t1+/AAAAWNJREFUeJzt21GNg0AUQNHtZgXggDoACyiilVAFRQISkIADkIAEqoA1\n",
       "0DeXkhL4uOeTF7aTm0nYAr0sy7L8KPR79ALOzkDAQMBAwEDAQMBAwEDgb+8PaJomnN3v969+VlEU\n",
       "4Wwcx01/0x0EDAQMBAwEDAR2v4rN8xzO6rp+ezzLsvCc1FVxmqbV61rLHQQMBAwEDAQMBAwELmd8\n",
       "qtH3fTirqiqcPZ/PcHa73TatxR0EDAQMBAwEDAQMBHb/Np+6ZEez1Dkp1+t103kp7iBgIGAgYCBg\n",
       "IPCVq1jqqWXqy+UWeZ6HM+9JH8BAwEDAQMBAwEBg93vSqX8Buq57e/zxeITnDMMQzsqyXL+wldxB\n",
       "wEDAQMBAwEDAQODQR8/Rm2Spe8tb33feyh0EDAQMBAwEDAQMBA79OdTr9Xp7vG3bnVbzOXcQMBAw\n",
       "EDAQMBAwEDjli+Rn4g4CBgIGAgYCBgIGAgYCBgL/SCtI0ha6OBAAAAAASUVORK5CYII=\n",
       "\" /><img style=\"display:inline\" src=\"data:image/png;base64,iVBORw0KGgoAAAANSUhEUgAAAEgAAABICAYAAABV7bNHAAAABHNCSVQICAgIfAhkiAAAAAlwSFlz\n",
       "AAALEgAACxIB0t1+/AAAAWRJREFUeJzt2mGNg0AQQGF6OSFIwEGRgIRKQAISkIADLICD1gES6oAz\n",
       "0JmXbkroJe/72Qmhedlku9DLvu97pdDP2V/g2xkIGAgYCBgIGAgYCBgI/B59g/v9Hs76vn/7mrZt\n",
       "w9k4juGsrutwlnEFAQMBAwEDAQOBy9GPO7quC2fbtr38/Ha7hddM01R0r2EYwlnGFQQMBAwEDAQM\n",
       "BAwEPnJYzQ6Jy7KEs2ibL7mmqvJtvpQrCBgIGAgYCBgIGAh85DT/fD7DWbb1ruv69r3meS66VylX\n",
       "EDAQMBAwEDAQOPyZdKZpmpefZwfSTPZG1jerBzEQMBAwEDAQMBA4/A9UJVt2dvjNXku7zZ/AQMBA\n",
       "wEDAQMBA4NRtPtp6s1fP2U+AbFbKFQQMBAwEDAQMBAwEDn9oX/KPsMfjEV5zvV7DWfbzoJQrCBgI\n",
       "GAgYCBgIGAic+m7+P3AFAQMBAwEDAQMBAwEDAQOBPy91YxvkKvO8AAAAAElFTkSuQmCC\n",
       "\" /><img style=\"display:inline\" src=\"data:image/png;base64,iVBORw0KGgoAAAANSUhEUgAAAEgAAABICAYAAABV7bNHAAAABHNCSVQICAgIfAhkiAAAAAlwSFlz\n",
       "AAALEgAACxIB0t1+/AAAAXtJREFUeJzt2mGNwkAUAOHlcgKQUBwgARwgoRLqBAuVgIMiAQmtAxz0\n",
       "DPDeXMs2xyXz/WSzQCabbNvtbp7nuSj09dd/4NMZCBgIGAgYCBgIGAgYCHzX+JLn8xmOnU6nxfPu\n",
       "93s4p2maX/6rOlxBwEDAQMBAwECgyi7W9304lu1wl8vl5eePxyOc4y72YQwEDAQMBAwEDASqbPP7\n",
       "/X7VWNu2Lz/vui6ck102ZJcA2U1zxhUEDAQMBAwEDAQMBHY1Xl7Itt7j8RiORdvyOI7hnGmawrFh\n",
       "GMIxt/mNGAgYCBgIGAhsfrOanZIeDofFv3W9XsOxtTtVxhUEDAQMBAwEDAQMBKrcrGai4+VS4iPm\n",
       "6Fl1KaXcbrfF3/cOVxAwEDAQMBAwEDAQqLLNZ3fs5/M5HIueIa89Qt7i/WpXEDAQMBAwEDAQMBDY\n",
       "/Og5u5uPjpizQ4Ds7bPsKcBariBgIGAgYCBgIGAgsPlD+//OFQQMBAwEDAQMBAwEDAQMBH4AOHZc\n",
       "6zEr4j4AAAAASUVORK5CYII=\n",
       "\" /><img style=\"display:inline\" src=\"data:image/png;base64,iVBORw0KGgoAAAANSUhEUgAAAEgAAABICAYAAABV7bNHAAAABHNCSVQICAgIfAhkiAAAAAlwSFlz\n",
       "AAALEgAACxIB0t1+/AAAAUxJREFUeJzt29ENgjAYAGFrHIQNYARGYBRGYCQ2IGzACIzABrgAf0+J\n",
       "FR7ue6RRyaVJbdG07/v+UOh59Q3cnYGAgYCBgIGAgYCBgIHA68oPX9f18Hrbtl+/phRnEDAQMBAw\n",
       "EDAQuHQVG4bh8HrXdf+9kQxnEDAQMBAwEDAQMBBIpZ9qbNsWjlVVdXi97/vwNcuyhGPjOH58X59y\n",
       "BgEDAQMBAwEDAQOB4rv53M482s3nluvceXUJziBgIGAgYCBgIPCTVSy36szz/PX75TakuSerTdOE\n",
       "Y2fPuZ1BwEDAQMBAwEDAQOAny3xuWa7rOhyLluXcV4PoHJvGznIGAQMBAwEDAQMBA4Hij57PSCmF\n",
       "Y9M0hWMlzqudQcBAwEDAQMBAwEDg0h+Sn+HfoW7GQMBAwEDAQMBA4JbL/J0OGJxBwEDAQMBAwEDA\n",
       "QMBAwEDgDRlSPVCc3DoJAAAAAElFTkSuQmCC\n",
       "\" /><img style=\"display:inline\" src=\"data:image/png;base64,iVBORw0KGgoAAAANSUhEUgAAAEgAAABICAYAAABV7bNHAAAABHNCSVQICAgIfAhkiAAAAAlwSFlz\n",
       "AAALEgAACxIB0t1+/AAAAWRJREFUeJzt2sFtg0AUANE4yh2XQAm0QAfuBEpwB4hO7A6gAlyCSzAV\n",
       "kAbyd8Taq3CYd/TXEjRaaQXktG3b9qXQ93/fwNEZCBgIGAgYCBgIGAgYCPx84iKPxyOc9X2/e926\n",
       "rln3sSxLOGuaJuua7iBgIGAgYCBgIFD8FJvnOZx1Xbf7b43jmHUfnmKFGAgYCBgIGAgYCJxKf9XI\n",
       "OXovl0u4ZpqmcPZ8PsPZ+XwOZynuIGAgYCBgIGAgYCDwkaf5lNRTdHRk3+/3cM0wDOEs9yhPcQcB\n",
       "AwEDAQMBA4Hip1hK6kE2kvtuOZc7CBgIGAgYCBgIGAgUfyedI3WU13Udzm6328fvxR0EDAQMBAwE\n",
       "DAQMBIo/zac+Fb9erz9/T31CjtaU4g4CBgIGAgYCBgIGAsX/kbxt293Xq6oqnF2v193Xe4c7CBgI\n",
       "GAgYCBgIGAgc8qX9kbiDgIGAgYCBgIGAgYCBgIHAL3txTFy0VLelAAAAAElFTkSuQmCC\n",
       "\" /><img style=\"display:inline\" src=\"data:image/png;base64,iVBORw0KGgoAAAANSUhEUgAAAEgAAABICAYAAABV7bNHAAAABHNCSVQICAgIfAhkiAAAAAlwSFlz\n",
       "AAALEgAACxIB0t1+/AAAAXJJREFUeJzt22utgzAAQGF2cwUgYQ6YhOFgEiYBCUhAAjhAwiQgAQlM\n",
       "Aff3TWjPVsp9JOf7SQNrTpp03eO0rutaKOjjtyfw1xkIGAgYCBgIGAgYCBgIfB79Avf7PTg2juPm\n",
       "9bZtg/c0TbNzRu9xBQEDAQMBAwEDgVOOjzsej0dwrK7r4FhVVZvXz+dz0jxCu+IeriBgIGAgYCBg\n",
       "IGAgkOWw2vd90n1lWW5ej71teD6fwbHYfdfr9cVZfecKAgYCBgIGAgYCBgJZtvnY58TzPL/9vND2\n",
       "XxTxbf4IriBgIGAgYCBgIJBlF7tcLsGx2AEyJPZt7DAMbz9vD1cQMBAwEDAQMBAwEDj8B1QpYofV\n",
       "n+YKAgYCBgIGAgYCBgJZfmEWk3Kav91uSa+1LEvSfTGuIGAgYCBgIGAgYCCQ5TQf215jf22apmnz\n",
       "euxLgK7rXp5XDq4gYCBgIGAgYCBgIHD4af6/cwUBAwEDAQMBAwEDAQMBA4Ev94VCosRbKL4AAAAA\n",
       "SUVORK5CYII=\n",
       "\" /><img style=\"display:inline\" src=\"data:image/png;base64,iVBORw0KGgoAAAANSUhEUgAAAEgAAABICAYAAABV7bNHAAAABHNCSVQICAgIfAhkiAAAAAlwSFlz\n",
       "AAALEgAACxIB0t1+/AAAAWlJREFUeJzt2kGNhDAAQFFmswKQgARwMBJwgAUk4AAkgAMkIAEpoIC9\n",
       "7Yn2MzOwy+G/I80MzU+TpsBj27YtUdDXf0/g7gwEDAQMBAwEDAQMBAwEvq++QdM0wbGu63avr+sa\n",
       "/E1VVcGxvu+PTuswVxAwEDAQMBAwELh8F0vTNDhWluXL/zeO4yfTeZkrCBgIGAgYCBgIGAg87vhW\n",
       "I3SITZL4gXSe59Pn4goCBgIGAgYCBgIGApef5mOmadq9HtvmsywLji3LEhyLPVWIcQUBAwEDAQMB\n",
       "A4FTdrHYIbEoijNu8Su2i8Xm8Xw+37qfKwgYCBgIGAgYCBgInLLNx7be2AdPwzDsXm/bNvibuq4P\n",
       "z+sMriBgIGAgYCBgIGAgcPmr59h30qFnyLFn0n/NFQQMBAwEDAQMBAwELt/m8zwPjoVePb/7mvgK\n",
       "riBgIGAgYCBgIGAgcMsPye/EFQQMBAwEDAQMBAwEDAQMBH4A9+VD8ibq5YoAAAAASUVORK5CYII=\n",
       "\" /><img style=\"display:inline\" src=\"data:image/png;base64,iVBORw0KGgoAAAANSUhEUgAAAEgAAABICAYAAABV7bNHAAAABHNCSVQICAgIfAhkiAAAAAlwSFlz\n",
       "AAALEgAACxIB0t1+/AAAAWxJREFUeJzt2uGNgjAcQPHzcgO4gWyCIzACG+AG4gau4Ahs4AiMIBvA\n",
       "BNwC/vsUaLxL3u8jjdi8NGlq3c3zPH8p9P3pCfx1BgIGAgYCBgIGAgYCBgI/ub+g7/twrKqqp8+H\n",
       "YQg/czgcwrHH4/HyvF7lCgIGAgYCBgIGApvsYqmd6nQ6hWPRbnU+nxe9LwdXEDAQMBAwEDAQMBDY\n",
       "bXGrsd/vw7FpmsKxsiyfPr/f72untBlXEDAQMBAwEDAQMBDYZJuv6zocu91ub78vdZpv2/bt963h\n",
       "CgIGAgYCBgIGApvsYinX6zUciw6lqcNq6vY0dWheyhUEDAQMBAwEDAQMBLL/gWrJVXHXdRlmsowr\n",
       "CBgIGAgYCBgIGAhk3+ZTvyGnTvqRcRzDMU/zH2AgYCBgIGAgYCCQfZs/Ho/h2OVyefq8aZrwM0VR\n",
       "rJzRe1xBwEDAQMBAwEDAQCD73fx/5woCBgIGAgYCBgIGAgYCBgK/5BBJNfrB/30AAAAASUVORK5C\n",
       "YII=\n",
       "\" /><img style=\"display:inline\" src=\"data:image/png;base64,iVBORw0KGgoAAAANSUhEUgAAAEgAAABICAYAAABV7bNHAAAABHNCSVQICAgIfAhkiAAAAAlwSFlz\n",
       "AAALEgAACxIB0t1+/AAAAVlJREFUeJzt2stthDAYAOFslEIogQ6gBEqgBKgESqEESoAS6IAOyC2n\n",
       "9T+KF+chzXdcy2s0smRh8biu63pT0vtvP8BfZyBgIGAgYCBgIGAgYCDwUXqBbduSY13XPf19WZbk\n",
       "nLquX36m73AHAQMBAwEDAQOBR+nrjpxTJzr5fpo7CBgIGAgYCBgIGAgUf1nd9z05Nk1T6eVf5g4C\n",
       "BgIGAgYCBgIGArcc89EdcqRt2zuWL8odBAwEDAQMBAwEbjnFqqrKmreu69Pfz/PMWiv3OSLuIGAg\n",
       "YCBgIGAgYCBwyzEfHcuRcRzvWP5LdMc9DEPWf7qDgIGAgYCBgIGAgcAtX5hFx3z0hVlqXnTHPc9z\n",
       "cix1OxCtRdxBwEDAQMBAwEDAQKD4h+TRkZ16wz6OIzmnaZrkWN/3WWMRdxAwEDAQMBAwEDAQKH7M\n",
       "/3fuIGAgYCBgIGAgYCBgIGAg8AnrE0nCARkejAAAAABJRU5ErkJggg==\n",
       "\" /><img style=\"display:inline\" src=\"data:image/png;base64,iVBORw0KGgoAAAANSUhEUgAAAEgAAABICAYAAABV7bNHAAAABHNCSVQICAgIfAhkiAAAAAlwSFlz\n",
       "AAALEgAACxIB0t1+/AAAAXJJREFUeJzt2uGNgjAcQHG83AKswAjKCo6AK7gCI8gIOoKMILOwgm7A\n",
       "LcC/jxCqXvJ+H2kam5cmpoXdNE1TodDPpxfw7QwEDAQMBAwEDAQMBAwEfnP/wDiO4VjXdbPPH49H\n",
       "OOd0OoVjl8tl+cIWcgcBAwEDAQMBA4HdFtcdz+czHKuqKhyr63r2+eFwCOdcr9dV61jLHQQMBAwE\n",
       "DAQMBAwENjmstm27al50KC3LMpwTHXBzcQcBAwEDAQMBAwEDgU1O8ympO+lo7Hg8hnPe/a2FOwgY\n",
       "CBgIGAgYCGR/s5q6kx6GYfb5fr8P56Tuq/u+X7WOFHcQMBAwEDAQMBAwEMh+WN3a+XxeNS/1yjrF\n",
       "HQQMBAwEDAQMBAwEsp/mU6+Ro7Hb7RbOSX1F5hdmH2AgYCBgIGAgYCCQ/W8+upgvivhrsaZpwjmv\n",
       "1yscu9/vyxe2kDsIGAgYCBgIGAgYCPy7S/t3cwcBAwEDAQMBAwEDAQMBA4E/8sRPg5Y/8zIAAAAA\n",
       "SUVORK5CYII=\n",
       "\" /><img style=\"display:inline\" src=\"data:image/png;base64,iVBORw0KGgoAAAANSUhEUgAAAEgAAABICAYAAABV7bNHAAAABHNCSVQICAgIfAhkiAAAAAlwSFlz\n",
       "AAALEgAACxIB0t1+/AAAAW5JREFUeJzt2sFtwjAYQOFS9Q4jsEEYIRsAG8AEWQkmSDaAEWADRkgm\n",
       "SG895fcTrimp9L6jLRP0ZMkyYTGO4/ih0Oe7v8DcGQgYCBgIGAgYCBgIGAh8lfiQruvCuf1+X+IR\n",
       "P7bbbTh3Op3CudVqlfU8dxAwEDAQMBAwEChyiuWeEMvlcnJ8t9uFa9brddazcrmDgIGAgYCBgIGA\n",
       "gUCRYz7XZrOZHE9dOv+aOwgYCBgIGAgYCBgILEr8eaHv+3Curutw7n6/T463bRuuSd30X8EdBAwE\n",
       "DAQMBAwEipxiKamL5/F4nByvqipcc7vdfvuVnuIOAgYCBgIGAgYCBgIvP+ZTDofD5Pj5fA7XXC6X\n",
       "cC51Mc7lDgIGAgYCBgIGAgYCL3/1fL1ew7mcm7n/MJsZAwEDAQMBAwEDgSLH/OPxCOdSr4qHYZgc\n",
       "b5omXOMxPzMGAgYCBgIGAgYCb/3R/j9wBwEDAQMBAwEDAQMBAwEDgW9ZF0C/MGrWVAAAAABJRU5E\n",
       "rkJggg==\n",
       "\" /><img style=\"display:inline\" src=\"data:image/png;base64,iVBORw0KGgoAAAANSUhEUgAAAEgAAABICAYAAABV7bNHAAAABHNCSVQICAgIfAhkiAAAAAlwSFlz\n",
       "AAALEgAACxIB0t1+/AAAAXdJREFUeJzt29FtglAYQGFpOgAb6Ag4AY7gCI7gCG6iG8AIjgAbwASM\n",
       "QN/6xH9Pegu1Jud75OYWc3KTPyIt5nmedwp9vPoD/HcGAgYCBgIGAgYCBgIGAp9b3+DxeIRrt9tt\n",
       "8XrXdeGesix/+Yl+xhMEDAQMBAwEDAReOsVOp9Pi9b+eVCmeIGAgYCBgIGAgYCBQrPGrRurL5fF4\n",
       "DNemaVq87ph/IwYCBgIGAgYCBgKrfJsfhiFc2+/34Vo0zp/PZ7jncDhkreXyBAEDAQMBAwEDgc2n\n",
       "2DiO4VpRFGvc/lvTNOHa+XzO+pueIGAgYCBgIGAgYCCwypivqipr3/1+X7x+uVzCPdfrNVxL/czt\n",
       "mN+IgYCBgIGAgYCBwCpjPnpTbLdLP5OOngK0bRvuST2vTn2OXJ4gYCBgIGAgYCBgILDKG2YpqZEd\n",
       "/TtU3/fhnrqus+6V+9aaJwgYCBgIGAgYCBgIbD7m350nCBgIGAgYCBgIGAgYCBgIfAEXdkdD21kZ\n",
       "AwAAAABJRU5ErkJggg==\n",
       "\" /><img style=\"display:inline\" src=\"data:image/png;base64,iVBORw0KGgoAAAANSUhEUgAAAEgAAABICAYAAABV7bNHAAAABHNCSVQICAgIfAhkiAAAAAlwSFlz\n",
       "AAALEgAACxIB0t1+/AAAAX1JREFUeJzt2uFtgkAYgOGz6X/cAEZwBDYQN3AERnAUR3AER4ANcAOZ\n",
       "gC7gd69QiE3zPj/7hXJ5c8nVq7tpmqak0NenF/DXGQgYCBgIGAgYCBgIGAh8b/2CqqrC2ePxePnz\n",
       "oijCZ+73ezg7HA7vLutt7iBgIGAgYCBgILD5KXa5XMLZfr+f/cztdgtnnmIfYCBgIGAgYCBgILD5\n",
       "MX8+n8NZdJz3fT/7ma24g4CBgIGAgYCBgIHA5sd8Ttd1s5/JfZpvmuY3y3nJHQQMBAwEDAQMBHZr\n",
       "fAXv+XyGs2EYwll0h5z772nupGrbNpwt/ZDrDgIGAgYCBgIGAgYCqxzz1+s1nOWO3tyfB0t+X24d\n",
       "S96VkjsIGQgYCBgIGAgYCKxyJx19UyyllMZxDGfR/XLuSM7dSefWsZQ7CBgIGAgYCBgIGAiscszX\n",
       "dR3OjsdjODudTrPfVZZlOMtd9i/lDgIGAgYCBgIGAgYCq1za/2fuIGAgYCBgIGAgYCBgIGAg8ANH\n",
       "nU+8saL0xwAAAABJRU5ErkJggg==\n",
       "\" />"
      ],
      "text/plain": [
       "<IPython.core.display.HTML object>"
      ]
     },
     "metadata": {},
     "output_type": "display_data"
    }
   ],
   "source": [
    "# Load the data\n",
    "data = load_digits()\n",
    "\n",
    "# Normalize X to 0-1 range.\n",
    "X, y = data.data / 16, data.target\n",
    "\n",
    "# Define a monochromatic colormap for images with [0, 1] values.\n",
    "mono_cmap = mpl.colors.LinearSegmentedColormap.from_list('foo', [(1,1,1), (0, 0, 0)])\n",
    "# Define a blue to gray to red colormap for images with [-1, 1] values.\n",
    "dual_cmap = mpl.colors.LinearSegmentedColormap.from_list('foo', [(1.0, 0.2, 0.2),(0.5, 0.5, 0.5), (0.2,0.2,1.0)])\n",
    "\n",
    "# Show a sample.\n",
    "sample_ind = np.random.RandomState(42).choice(np.arange(X.shape[0]), 30, replace=False)\n",
    "show_images(X[sample_ind,:], mono_cmap)"
   ]
  },
  {
   "cell_type": "markdown",
   "metadata": {},
   "source": [
    "## Train a multilayer perceptron\n",
    "\n",
    "Next, we'll train a simple MLP to predict the digit class and print held-out accuracy.  The 10 labels (0-9) are balanced, so majority class accuracy would be 10%."
   ]
  },
  {
   "cell_type": "code",
   "execution_count": 4,
   "metadata": {},
   "outputs": [
    {
     "name": "stdout",
     "output_type": "stream",
     "text": [
      "MLPClassifier(activation=<function relu at 0x115bcc7b8>, batch_size=16,\n",
      "       hidden_units=[256], keep_prob=1.0, n_epochs=50, random_state=42,\n",
      "       solver=<class 'tensorflow.python.training.adam.AdamOptimizer'>,\n",
      "       solver_kwargs=None, transform_layer_index=None)\n",
      "accuracy: 0.9499165275459098\n"
     ]
    }
   ],
   "source": [
    "# Train and cross-validate a very, very simple model.\n",
    "params = {\n",
    "    'keep_prob': [1.0],\n",
    "    'hidden_units': [[256]]\n",
    "}\n",
    "gs = GridSearchCV(muffnn.MLPClassifier(batch_size=16, n_epochs=50, random_state=42),\n",
    "                  params)\n",
    "gs.fit(X, y)\n",
    "\n",
    "mlp = gs.best_estimator_\n",
    "print(mlp)\n",
    "print(\"accuracy:\", gs.best_score_)"
   ]
  },
  {
   "cell_type": "markdown",
   "metadata": {},
   "source": [
    "Now we can compute prediction gradients for the data.  We'll just use in-sample data for simplicity.  In practice, one might want to do this with held-out data, depending on the task.\n",
    "\n",
    "The output will be a 3-dimensional tensor with the gradient of each class (dimension 1) with respect to each input (dimension 2) for each example (dimension 0)."
   ]
  },
  {
   "cell_type": "code",
   "execution_count": 5,
   "metadata": {},
   "outputs": [
    {
     "data": {
      "text/plain": [
       "(1797, 10, 64)"
      ]
     },
     "execution_count": 5,
     "metadata": {},
     "output_type": "execute_result"
    }
   ],
   "source": [
    "pg_vals = mlp.prediction_gradient(X)\n",
    "pg_vals.shape"
   ]
  },
  {
   "cell_type": "markdown",
   "metadata": {},
   "source": [
    "## Aggregate prediction gradients\n",
    "\n",
    "Let's try to get an idea of which inputs (pixels) the model is associating with which output classes (digits 0, 1, 2, ... 9).\n",
    "\n",
    "We'll compare aggregating gradients only to aggregating gradient x input.\n",
    "For each, we'll plot 10 images, one for each class (digit) in increasing order from left to right, with blue colors indicating that a pixel has a positive mean gradient for the given class, red indicating negative, and gray indicating that pixels have little effect on predictions.\n",
    "\n",
    "### Gradient Only\n",
    "\n",
    "First, we'll just average across the examples for each class. We can see some patterns related to the typical shapes of digits (e.g., the circle shape for \"0\").\n",
    "However, note how a lot of the pixels around the edges, which are mostly just black in the data, are fairly red or blue."
   ]
  },
  {
   "cell_type": "code",
   "execution_count": 6,
   "metadata": {},
   "outputs": [
    {
     "data": {
      "text/html": [
       "<img style=\"display:inline\" src=\"data:image/png;base64,iVBORw0KGgoAAAANSUhEUgAAAEgAAABICAYAAABV7bNHAAAABHNCSVQICAgIfAhkiAAAAAlwSFlz\n",
       "AAALEgAACxIB0t1+/AAAAgxJREFUeJztnM1OwkAUhadTQsqPmhqBEBMVNy7d+HgukIdz6dLEGBOj\n",
       "xgQtBEqRSmnrC/TMadzo4nzLOZ3QfNzktuUWryzL0giI/esT+O9IEEGCCBJEkCCCBBEkiCBBhEbd\n",
       "A8fjG5i1si3Mtr4Ps9xWZ818B/ccrtcwKzwPZvNOB2bXkwnMVEEECSJIEEGCCBJEqN3FNpt9mHX8\n",
       "T/wBRQGzNK/uLDsP74mbIcz65gNmQZbBzIUqiCBBBAkiSBBBgggSRKjd5kfZK8xiP4DZNDmFWbu9\n",
       "qFy/mj7CPbfhJcyW7TbMOlkKMxeqIIIEESSIIEEECSJIEKF2m18FuJW/f53DzFr8fPli9VK5fjab\n",
       "wT13wyXMomgEsyB8gJkLVRBBgggSRJAgggQRanextIEPTZIjmPV6TzA7iDeV64tWy3Em+Du1NodZ\n",
       "bn9XC6ogggQRJIggQQQJIkgQoXab9x0D+YMBvhGMInwjez+sfibd2uKBrKLAA1lh+AazOMWXIi5U\n",
       "QQQJIkgQQYIIEkSQIELtNo9nvow5TvFkV9rdg9m66Fauryw+La/Ed+z9r+rLBmOM6SX4EsCFKogg\n",
       "QQQJIkgQQYIIEkSo3eYz24TZHA92mZPvZ5ihybSmwa08czx8d/08vnO8luVCFUSQIIIEESSIIEEE\n",
       "CSJ4+nscN6ogggQRJIggQQQJIkgQQYIIEkT4AUVhaAcgfae7AAAAAElFTkSuQmCC\n",
       "\" /><img style=\"display:inline\" src=\"data:image/png;base64,iVBORw0KGgoAAAANSUhEUgAAAEgAAABICAYAAABV7bNHAAAABHNCSVQICAgIfAhkiAAAAAlwSFlz\n",
       "AAALEgAACxIB0t1+/AAAAhtJREFUeJztnM8uA1EcRm/NUNRQLSnasCVhxUZi1cQTeBjbWtjYeQZb\n",
       "T2BhKRYiIhZWQqSq/rRo2plWO+MF5rvfWLH4zvIe1zTHL7nTyUQqiqLICMjQX3+A/44CERSIoEAE\n",
       "BSIoEEGBCApEcJP+4F6lAl2u3YauP4T/Bj03/vJr1Srcc5Ldgm509Au6aecdut39feg0QQQFIigQ\n",
       "QYEICkRIfIplOx3oVi2nTjOTga7uebHrZ6VluKcY3kG3UqtBd7m4CJ0NTRBBgQgKRFAgggIRFIiQ\n",
       "+Jg/Oj2Arlw+hK5o8C3ARW07dt3zXuGe2Ykr6O7zeejcMITOhiaIoEAEBSIoEEGBCApESHzMz8/f\n",
       "QDcx1oCu/j0D3cIC/p2It5EsdLneJ3S+Sf/6WsZogigKRFAgggIRFIiQ+BTbWD/G0vIS32AwDF0p\n",
       "fIpdf4iW4J5u18HXclrQOc4AOhuaIIICERSIoEAEBSIoECHxMW8j3e9D9z3iQ3f9vBm7Pjd3C/cs\n",
       "tV6gKzWb+FrFInQ2NEEEBSIoEEGBCApEUCBC4mN+vNeDzvYudMHHz6s7k/XY9SCIf/PMGGM+xvA3\n",
       "di8IoDu/3YHOhiaIoEAEBSIoEEGBCApESHzMDw/wQ2+bC223AO5j7HrfwQ/mn338rfx1qgCd28C3\n",
       "ADY0QQQFIigQQYEICkRQIEJK/x7HjiaIoEAEBSIoEEGBCApEUCCCAhF+ADiKaC3wu4wmAAAAAElF\n",
       "TkSuQmCC\n",
       "\" /><img style=\"display:inline\" src=\"data:image/png;base64,iVBORw0KGgoAAAANSUhEUgAAAEgAAABICAYAAABV7bNHAAAABHNCSVQICAgIfAhkiAAAAAlwSFlz\n",
       "AAALEgAACxIB0t1+/AAAAh9JREFUeJztnE1Kw1AYRdPEktC0NVKt2EmLE4Wik67AHThwJU7dgIIL\n",
       "cQu6BUELiiA6kFIs/UHaVGm1JHED776bmQ7uGeb0kXJ48CWP0kKWZZkjIO5ff4H/jgIRFIigQAQF\n",
       "IigQQYEICkRYy/vBi7Mz6N4/d6GrVEbQpan59iUvhmtWbhG6aPkFXVYoQHd6fg6ddhBBgQgKRFAg\n",
       "ggIRck+x424XustGB7ogmENXd4fG62/TfbhmO3qFbuTWodvKxtDZ0A4iKBBBgQgKRFAgggIRco/5\n",
       "63YbuqZ/D936cgnd1sz8CDAo40eD0moF3WCOx/xmdQKdDe0gggIRFIigQAQFIigQIfeY//E86Dq9\n",
       "HnT1OR7ZX75vvH5QfIZreqUN6PbCB+iSFJ9J29AOIigQQYEICkRQIELuKRYXQ+gm5TJ0xSSB7rVu\n",
       "frn8CPG99ofmc2zHcZzA8iL72GhAZ0M7iKBABAUiKBBBgQgKRMg95sNkAd1LbQe6pyr+cVW/f2i8\n",
       "fjK7gmu8NIXurVaDbvjZgs6GdhBBgQgKRFAgggIRFIiQe8yPv/Eo933L75MzfBacpuZz7pvgCK5J\n",
       "EvyVvQV+m4+id+hsaAcRFIigQAQFIigQQYEIucf8bIbHfBxvQ9ds3kHXat0ar3seHtfTKT58n0zw\n",
       "ycFiEUFnQzuIoEAEBSIoEEGBCApEKOjvcexoBxEUiKBABAUiKBBBgQgKRFAgwi/Me2o7IUSTXQAA\n",
       "AABJRU5ErkJggg==\n",
       "\" /><img style=\"display:inline\" src=\"data:image/png;base64,iVBORw0KGgoAAAANSUhEUgAAAEgAAABICAYAAABV7bNHAAAABHNCSVQICAgIfAhkiAAAAAlwSFlz\n",
       "AAALEgAACxIB0t1+/AAAAiRJREFUeJztnM1KAmEUhr/RFPNv1MjQICNa9OMmhNrVLXQxrV0F3lCr\n",
       "KIigS6hAW6gLU9RC7UcttRv43nmHNrV4n+V5PSgPB87MNzLOYrFYGAEJ/PUP+O9IEEGCCBJEkCCC\n",
       "BBEkiCBBhCW/HyyXz2FWrZ7A7KhwAbOXcMJaf37ehz2u24ZZPN6FWWL6CbOzSgVmmiCCBBEkiCBB\n",
       "BAki+N5iB606zPormzDrOGswC5mxtZ5I4G0UCuFt1G7vwGwjcgczLzRBBAkiSBBBgggSRJAggu81\n",
       "P3ccmBXcB5gVWy385fO5tX6ZPYQ92+MmzOqrU5gNvpdh5oUmiCBBBAkiSBBBgggSRPC95t8iEZhl\n",
       "RyOYxScTmNWyWWs9HP6APYVOH2alRgNm1zv4Tt8LTRBBgggSRJAgggQRfG+xpxQ+W97t4xvSZjoN\n",
       "s04yaa3PpmHYc5/Pw2zosWlnJggzLzRBBAkiSBBBgggSRJAggu81H5/jR74t14XZVq8Hs+Nq1Vq/\n",
       "2t2DPbVuEWbjnv2ywRhjSqlbmHmhCSJIEEGCCBJEkCCCBBF8r/n3IH50u/6Bz4nRubMxxrxGo9b6\n",
       "ZBKDPYGA/XE1I/WJL1O80AQRJIggQQQJIkgQQYIIvtf81xc+EL9pn8Isl3uE2SA2tNaDgW/Yk8ng\n",
       "f5i5Ln544PR/93oATRBBgggSRJAgggQRJIjg6PU43miCCBJEkCCCBBEkiCBBBAkiSBDhBx0HZVxs\n",
       "jc2DAAAAAElFTkSuQmCC\n",
       "\" /><img style=\"display:inline\" src=\"data:image/png;base64,iVBORw0KGgoAAAANSUhEUgAAAEgAAABICAYAAABV7bNHAAAABHNCSVQICAgIfAhkiAAAAAlwSFlz\n",
       "AAALEgAACxIB0t1+/AAAAh5JREFUeJztnDtOAlEYRu8A4RkMyNuCSIyFjdENGN2Cra0LwR2wB/fg\n",
       "DixsCImFwWAiGh+IRiA8ZAwzbuB+801stPhOeY8X8Myf3PB0fN/3jYBE/voB/HcUiKBABAUiKBBB\n",
       "gQgKRFAgQizsH541m9BtDYfQTZJJ6PLzuXV9FcHXrTidQveWzULXju1B12qdQqcJIigQQYEICkRQ\n",
       "IELoU2w03oCuV3Kgq07G+DZTKet6YTaDex7zeejwozAmGnUDLEYTRFAgggIRFIigQAQFIoQ+5jOZ\n",
       "D+hcNw3dXXQdOs+z3/2o9AT3zB385Dftf0E3GVShC0ITRFAgggIRFIigQAQFIoQ+5rvdI+jK5R50\n",
       "sxk+5uv1tnV9YfBRbnx8TS87J9DVajf4NgPQBBEUiKBABAUiKBAh9Cm2u3MBXf95H7pCoQ/d2rf9\n",
       "tecXtw73eB6+ptVqF7p6rQOdMcfQaIIICkRQIIICERSIoECE0Mf8eF6GbjDYhm6zZn9Caowx1w8H\n",
       "1vVEAr/1XKncQpdOj6Bbeva3uRmaIIICERSIoEAEBSIoECH0MR+PL6DL5V6gKwV8rnnVuLKuZ5ZL\n",
       "uKfx+g5dEPfF4q/2aYIICkRQIIICERSIoECE0Md8znxCd+icQ9eNVaBDX6OaJhJwzxh8+NwYY9wY\n",
       "/neWAS4ITRBBgQgKRFAgggIRFIjg6OdxgtEEERSIoEAEBSIoEEGBCApEUCDCD53xY3SZqbcUAAAA\n",
       "AElFTkSuQmCC\n",
       "\" /><img style=\"display:inline\" src=\"data:image/png;base64,iVBORw0KGgoAAAANSUhEUgAAAEgAAABICAYAAABV7bNHAAAABHNCSVQICAgIfAhkiAAAAAlwSFlz\n",
       "AAALEgAACxIB0t1+/AAAAh5JREFUeJztnM1KQkEYhuccLbUf8pcSLMIIdFcERYugbXQdXYa7LsA7\n",
       "6CqCFrWsRQTVDWgkokm1SDR/OsduYN55z64W77OcxxF5GPh0FL3ZbDYzAuL/9Qv47ygQQYEICkRQ\n",
       "IIICERSIoECEeNQH1mrn0DWbh9D5fgDdbvHGuj6em4N7Gr0d6Hq9behONy+gO6vXodMJIigQQYEI\n",
       "CkRQIELkKRaGeLIcFK+gewnL0L1O7G7DNOCeSvYBuq3CI34dpgidC50gggIRFIigQAQFIigQIfKY\n",
       "9/0pdINEAjpvhD+splJ96/pe8xXuCTwPutW+/fmMMea6WoXOhU4QQYEICkRQIIICERSIEHnMJ8wY\n",
       "uvfRGnTDYRa6QqJjXb/c2Id7yhP8FmDkuMv+XFiEzoVOEEGBCApEUCCCAhEiTzEXQYCnRy73Al22\n",
       "P7Cup70h3NNezkF3/3UM3bp5gs6FThBBgQgKRFAgggIRFIgQeczHHT/IP/m4ha43XsLPGYbW9c7K\n",
       "CtwznSahK5WeoYuF+G7chU4QQYEICkRQIIICERSIEHnMf8fmoXON5VYmA11qav86e+i4W055+Ovl\n",
       "SrcLXTOfh86FThBBgQgKRFAgggIRFIgQecwngwl0d5Mj6H7a+NdnmUzLup6Ov8E9McetQgzcDhhj\n",
       "TBK8pWDoBBEUiKBABAUiKBBBgQie/h7HjU4QQYEICkRQIIICERSIoEAEBSL8AhgPZndCP+/jAAAA\n",
       "AElFTkSuQmCC\n",
       "\" /><img style=\"display:inline\" src=\"data:image/png;base64,iVBORw0KGgoAAAANSUhEUgAAAEgAAABICAYAAABV7bNHAAAABHNCSVQICAgIfAhkiAAAAAlwSFlz\n",
       "AAALEgAACxIB0t1+/AAAAhJJREFUeJztnLtOwlAAhlsuRSiVq8YQExMGjYMODuwOvoWv4cpkeDYH\n",
       "42Ac3IAAIgaBASg3W1+g//kbFh3+b+zXk5CvJzk9J4AdhmFoCUjirz/Af0eBCApEUCCCAhEUiKBA\n",
       "BAUipOLe+NhsQpfbbKDLGpy3WkVeXzkOHLNN4GeaCgLoZrkcdA+tFnSaQQQFIigQQYEICkSIvYrN\n",
       "lsfQ3YyfoRsWCtD1y+XI6+ejERzTrlahMxHY9l7jNIMICkRQIIICERSIoECE2Mu8lx9D9546ge5j\n",
       "dwpd6Ec/n+ttH465Ggyg64LXBssyv26Y0AwiKBBBgQgKRFAgggIRYi/zprPlwfYMOsdZQmfb0WfI\n",
       "vVIJjvkxnElvk0no/I0HnQnNIIICERSIoEAEBSLEXsXWKXzrsHMJXaXSha5YjN54Tl13r8+xWOLN\n",
       "6mEab7ZNaAYRFIigQAQFIigQQYEIsZf5g90Ounr9Cbp2uwFdEERvLtfuBI7J2HPofB+fO8/n+BXA\n",
       "hGYQQYEICkRQIIICERSIEHuZN533Xkx60M2P8DfCXPc78no2uYBjRtM6dJ73Bd1t7xU6y7qHRjOI\n",
       "oEAEBSIoEEGBCApEiL3M24af13cqFega4xfoxk4+8vpniF8NMhm8m0+nfejeajXo7qDRDKIoEEGB\n",
       "CApEUCCCAhFs/T2OGc0gggIRFIigQAQFIigQQYEICkT4BbbrZhTgj3ohAAAAAElFTkSuQmCC\n",
       "\" /><img style=\"display:inline\" src=\"data:image/png;base64,iVBORw0KGgoAAAANSUhEUgAAAEgAAABICAYAAABV7bNHAAAABHNCSVQICAgIfAhkiAAAAAlwSFlz\n",
       "AAALEgAACxIB0t1+/AAAAgpJREFUeJztnMtOwkAYhTsEKKSNFypGDQuN8bYw4aF8DxKfgJdyZdy5\n",
       "MRojCSRc2mAUsAi0vsCcOXWli/Mt5zB08uVPfmYmxeR5nnsCUvrrBfx3JIggQQQJIkgQQYIIEkSQ\n",
       "IEK56Ac7nVuYjUYXMGs0ejAzxv4bNcvwsqrVOcwGg2uYhWECs273BmaqIIIEESSIIEEECSIU7mKn\n",
       "yRhms6AJs82mih9eXlrH4/gYzrmK7mFWP3iA2XCGv9OFKoggQQQJIkgQQYIIEkQo3OZ7jQbM2skj\n",
       "zHJjYFbKMvuijuzt3/M8b7zch1nZw/PCMIaZC1UQQYIIEkSQIIIEESSIULjNf3zhHfvcn8EsDgKY\n",
       "tft9+6LyNX7WGp8OxPEJftbOHcxcqIIIEkSQIIIEESSIULiLhQG+mXz+PMPzSniT+Nq0d0ZXx0zT\n",
       "LZi5bmQnAZ7nQhVEkCCCBBEkiCBBBAkiFG7zq7UPM2M2MKtt8DnxwBxax/0q3vxG/ghm2S4+/wbH\n",
       "3xRVEEGCCBJEkCCCBBEkiFC4zbvYqw1htr1YwGzitazj5+kbnNOaTmGWhCHMXsDJAUMVRJAgggQR\n",
       "JIggQQQJIvyizeOd8szD18vTSgSzy+8n63g0x688pZUKzN7rdZitMjzPhSqIIEEECSJIEEGCCBJE\n",
       "MPp7HDeqIIIEESSIIEEECSJIEEGCCBJE+AHLuWV+QLH3PgAAAABJRU5ErkJggg==\n",
       "\" /><img style=\"display:inline\" src=\"data:image/png;base64,iVBORw0KGgoAAAANSUhEUgAAAEgAAABICAYAAABV7bNHAAAABHNCSVQICAgIfAhkiAAAAAlwSFlz\n",
       "AAALEgAACxIB0t1+/AAAAhhJREFUeJztnLtKA1EURWdGx2Q0BvEVfEbxGVLY+gkWfpKk0S/xE+wF\n",
       "v0AsFBRNkSBKYtQYZPKaTCxs7757SKPFXuVdDgzLAyfegO5wOBw6AuL99Qv8dxSIoEAEBSIoEEGB\n",
       "CApEUCDCeNIfLJXOoDt4rUD3mMtB5w8GxvPWxCR8JtsLocu/v0N3b3mPk9NT6DRBBAUiKBBBgQgK\n",
       "REi8xe7ujqDzixfQdQZT0GW9lvF886MOn7lN7UH3Mr0O3XJUhc6GJoigQAQFIigQQYEICkRIvOaP\n",
       "V86hK8dL0HW7eM2HU13jeWVuDj7jhTF0vV4aOtsfwDY0QQQFIigQQYEICkRQIELiNb/RaEDXyGSg\n",
       "mwzwHXK1VjSe787cwGf81Bt0aa8PXcsNoLOhCSIoEEGBCApEUCBC4i12tbMPXabfgQ59e/qLazz9\n",
       "9PFW3GrWoNuu47vsy0LB8h4YTRBBgQgKRFAgggIRFIiQeM2POXhdfzoz0H1/z0OXzZpXdhThu+WH\n",
       "TH4kNz34gs6GJoigQAQFIigQQYEICkRIvOZTUQRd2mlC1x7DHwH2O0/G89jDv7dysAad7WvuxRjf\n",
       "ZdvQBBEUiKBABAUiKBBBgQiJ13zsmi/YHcdxAstHgMP2NXS3C6vG8zCchc/k3Gfo0uP4Qj9yR5sF\n",
       "TRBBgQgKRFAgggIRFIjg6t/j2NEEERSIoEAEBSIoEEGBCApEUCDCD8cnZloC0KZ+AAAAAElFTkSu\n",
       "QmCC\n",
       "\" /><img style=\"display:inline\" src=\"data:image/png;base64,iVBORw0KGgoAAAANSUhEUgAAAEgAAABICAYAAABV7bNHAAAABHNCSVQICAgIfAhkiAAAAAlwSFlz\n",
       "AAALEgAACxIB0t1+/AAAAhJJREFUeJztnE1Kw1AUhZO2sU3rX9CiVWgHItWR4A7EiRNX4FpEcEMO\n",
       "HLgGwR8cSKE4UFEaB/5VWpqk9rmBd94JTnRwvuE9vZB8vXAfCa1vjDGegBT++gL+OxJEkCCCBBEk\n",
       "iCBBBAkiSBChlPeDR0fHMNvtdmB22WzC7CFZt9bD8AP2RP4bzNISvh3XafjwGN+bJoggQQQJIkgQ\n",
       "QYIIubeYi5PlHZjVArx1FsqP1nowmcCeTzMHs2RYg9l8+AIzF5ogggQRJIggQQQJIkgQIfearw/6\n",
       "MMvCEGaTCf4ORsa+luOPFdgTx5swa7UuYFYZj2HmQhNEkCCCBBEkiCBBBAki5F7z42IRZsZgz2mK\n",
       "jwBJMm2tR9ET7JmaGjquw4fZb9EEESSIIEEECSJIECH3Fnuv4Oe9+51zmF053qzG84vWevsdb7Hn\n",
       "aACz+tcXzO5LdZi50AQRJIggQQQJIkgQQYIIude869lyp9GA2UYcw2zv9dZav3YcDcpZBrOC40cD\n",
       "QQH3udAEESSIIEEECSJIEEGCCLnXfNlLYHZjtmCWLNlXued5Xjw7a+8JAthTdKzyu5lVmA37Ecxc\n",
       "aIIIEkSQIIIEESSIIEGE3Gs+9cswO+idwey0vQ2zXvXbWq+aEezJXK/AM/zqea3YhZkLTRBBgggS\n",
       "RJAgggQRJIjg6+9x3GiCCBJEkCCCBBEkiCBBBAkiSBDhB3VgaGNApqqLAAAAAElFTkSuQmCC\n",
       "\" />"
      ],
      "text/plain": [
       "<IPython.core.display.HTML object>"
      ]
     },
     "metadata": {},
     "output_type": "display_data"
    }
   ],
   "source": [
    "# Recall from above that axis/dimension 0 is for example number, so we're summing over examples here.\n",
    "vmax_abs = np.abs(pg_vals.sum(axis=0)).max()  # adjust color scale\n",
    "show_images(pg_vals.sum(axis=0), dual_cmap, vmin=-vmax_abs, vmax=vmax_abs)"
   ]
  },
  {
   "cell_type": "markdown",
   "metadata": {},
   "source": [
    "### Gradient x Input\n",
    "\n",
    "Multiplying by the input (the \"gradient x input\" method), as below, will focus the outputs more on the effects of frequently active features.\n",
    "\n",
    "Note how red pixels appear for areas that, when absent distinguish the digit from other digits.  For example, the image for \"6\" (4th from right) has red pixels in the upper-right.  If one takes a \"6\" and adds pixels to that area, it would start to look like an \"8\".  Similarly, the image for \"0\" has red in the center, indicating that the inactivity of those pixels distinguishes \"0\" from other digits (e.g., \"8\"). "
   ]
  },
  {
   "cell_type": "code",
   "execution_count": 7,
   "metadata": {},
   "outputs": [
    {
     "data": {
      "text/html": [
       "<img style=\"display:inline\" src=\"data:image/png;base64,iVBORw0KGgoAAAANSUhEUgAAAEgAAABICAYAAABV7bNHAAAABHNCSVQICAgIfAhkiAAAAAlwSFlz\n",
       "AAALEgAACxIB0t1+/AAAAe1JREFUeJztnDFPwkAYhq+lLcUCCZoYJwnR2cXE1dGfJf4wVxMHN8Ng\n",
       "nNRBCKgRBQuU8w/ce29DSnR4n/F7ufTy5EuO75I2sNZaIyDhX2/gvyNBBAkiSBBBgggSRJAgggQR\n",
       "orI/7PevYBYY/F8zXK9hVoQ1Z72Z/8A1zTyH2VuWwWxZcz/LGGMu+32YqYMIEkSQIIIEESSIUPoU\n",
       "8xEXBczqqxXMhsWes76I8Ek1TvCW2+YdZpuiDiJIEEGCCBJEkCCCBBFKH/O+gRSPo8Y8fpzArNN5\n",
       "dtbPX+7hmuuDU5j5BtJNUQcRJIggQQQJIkgQQYIIlUzzs6IFszjG98tnowdn/WIwgGtuescwyxc7\n",
       "MKsnM5j5UAcRJIggQQQJIkgQofQpZk2AM4s9Z9kEZvuvn876sIVPRd+zrMXDqm//PtRBBAkiSBBB\n",
       "gggSRJAgQiV30o1kCrPR5Ahmt72es37X7cI1RRHDLK3jfeiY3xISRJAgggQRJIggQYRK7qQDzzt5\n",
       "aeqe2I0xZhztOuvLZQOuiSy+427P5zCbpinMfKiDCBJEkCCCBBEkiCBBhEou7dch9nwYPsHsO0ic\n",
       "9aYdwzVfYR1nEc5soGl+K0gQQYIIEkSQIIIEEQJ9HsePOoggQQQJIkgQQYIIEkSQIIIEEX4BAKRd\n",
       "aZJO6X8AAAAASUVORK5CYII=\n",
       "\" /><img style=\"display:inline\" src=\"data:image/png;base64,iVBORw0KGgoAAAANSUhEUgAAAEgAAABICAYAAABV7bNHAAAABHNCSVQICAgIfAhkiAAAAAlwSFlz\n",
       "AAALEgAACxIB0t1+/AAAAf9JREFUeJztnM9KAlEYxe84YuPoQGCFSiFB0CaCFu3a1y6I3qfpAdr1\n",
       "QK2CFuEiWgQSBv3BpFAmrNTm9gJz7hlEqMX5Lb/jxeHnB9+9MzietdYaASn89QX8dySIIEEECSJI\n",
       "EEGCCBJEkCBCMe8H4/gUZp7Be83F0QhmBbBHPWq34Zqz7WOYRdEr/i4vhdlJHON1MBHGGAmiSBBB\n",
       "gggSRMg9xVyTajlJYLbX6cDsrl7PrJ/vHsA1q7YLM/8TT6pBGMLMhTqIIEEECSJIEEGCCBJEyD3m\n",
       "rfFg9lxegtnV+g/MLvqHmfXIw4fOZtSD2TAIYDYr6iCCBBEkiCBBBAkiSBAh95h3UfK/YNatNGDW\n",
       "KN5m1q3Fv1tvoQaziv2AGd5suFEHESSIIEEECSJIEGEuUww9ITXGmOm0BLON9D6zfvO9A9e4Jlwl\n",
       "xFPMddh2oQ4iSBBBgggSRJAgggQR5vLo2TXmgwCP3suX/cx6q3UN12y+PcJsOvFh9lDDh1wX6iCC\n",
       "BBEkiCBBBAkiSBBhLqf5iY/Ha3P4DrN+tZ9ZT5IVvCYawiwcj2GWWnyNLtRBBAkiSBBBgggSRJAg\n",
       "wlzGvIvUwzfLt8rZf3salfCN/qfJGszK1QHMvBnfDqAOIkgQQYIIEkSQIIIEETy9HseNOoggQQQJ\n",
       "IkgQQYIIEkSQIIIEEX4B/X5fQFlQkuAAAAAASUVORK5CYII=\n",
       "\" /><img style=\"display:inline\" src=\"data:image/png;base64,iVBORw0KGgoAAAANSUhEUgAAAEgAAABICAYAAABV7bNHAAAABHNCSVQICAgIfAhkiAAAAAlwSFlz\n",
       "AAALEgAACxIB0t1+/AAAAflJREFUeJztnL1OAkEUhWcBd7OiSDCAMZhYESsSO219Aztbn0R8Ehtb\n",
       "K5+CjpLEH2JI0IYYl8DCBhhfYM4cQki0OF95D3ezfNwwsLMQWGutEZDcX5/Af0eCCBJEkCCCBBEk\n",
       "iCBBBAkiFNZ9YLt9DzNrA5itVvg1SNOys14Ph7BnGoYwyy+XMFvm8zC7a7dhpgkiSBBBgggSRJAg\n",
       "wtqrWGDwVZF0VoJZlu3C7Mz0nPXO1xXsaR538HnkI5jlDF7hfGiCCBJEkCCCBBEkiCBBhLWXeR97\n",
       "0TfMTqbvMNufzZz1SuUD9pTSFGZJhD9uROEUZj40QQQJIkgQQYIIEkSQIMJWlvnDyQRm190uzEbF\n",
       "orMeLRawp9towKxkE5jNN3yqmiCCBBEkiCBBBAkirP3Wbg3ePZ0X8GFeajWY9ep1Z31Ydu+4GmPM\n",
       "Rb8Ps7dqFWafB/iYPjRBBAkiSBBBgggSRJAgwla2npM4htlT8xJmg8G5s36bPMCeOMtg5ru5alM0\n",
       "QQQJIkgQQYIIEkSQIMJWvs37wX2j0amz/nh0gw+3g6OaeYVZbH5wowdNEEGCCBJEkCCCBBEkiLCV\n",
       "rWdrsWffT6VarWdnPfTcDTYe400A/3lsNguaIIIEESSIIEEECSJIECHQ3+P40QQRJIggQQQJIkgQ\n",
       "QYIIEkSQIMIv+jFbmCANYtoAAAAASUVORK5CYII=\n",
       "\" /><img style=\"display:inline\" src=\"data:image/png;base64,iVBORw0KGgoAAAANSUhEUgAAAEgAAABICAYAAABV7bNHAAAABHNCSVQICAgIfAhkiAAAAAlwSFlz\n",
       "AAALEgAACxIB0t1+/AAAAetJREFUeJztnL1KA0EYRTOr0SgmGCMqIWBjkdrOZ7DwBXwX4/tYWlrZ\n",
       "2hiDaCuKSiKCipIfzVoLe+cuIaLFOeXcDDscPvgyM5uENE3TAkiSv17AfwdBBgQZEGRAkAFBBgQZ\n",
       "EGSYzfvBVutQZmmqPVeGHzJ7TpYzx9vtPTmn2TyRWXnpSWYxDlotmVFBBgQZEGRAkAFBhtxdLBT0\n",
       "qchwVJLZ/XBVZvPzb5njjUZbzkmSL5n1B2WZlcSzHFSQAUEGBBkQZECQAUGG3G0+xuKsbqH7nVOZ\n",
       "dcvZbfm4vijnbL9eyexqvS6zSaGCDAgyIMiAIAOCDAgyTKXNL4xGMitFMtXmYzv2rV5PZh9zczK7\n",
       "XVmRWQwqyIAgA4IMCDIgyJC7i6WFILMQeYvvotGQ2U2tljn+NSjKOWebmzLrVioyi60/BhVkQJAB\n",
       "QQYEGRBkQJBhKlfPsU1ibLO62+lkjh9t6zZ//rgjs4Xxi8yqy3cyi0EFGRBkQJABQQYEGRBkmMpu\n",
       "PvaLvMu6vg7uF7Pb+Xu/mndZP9eRTnbiEIMKMiDIgCADggwIMiDIMJWr58+gd98PozWZPVazvwLM\n",
       "BH0CsLFxLbMQxjJLxrT5XwFBBgQZEGRAkAFBhsDf48ShggwIMiDIgCADggwIMiDIgCDDN1ZWWl6T\n",
       "OMChAAAAAElFTkSuQmCC\n",
       "\" /><img style=\"display:inline\" src=\"data:image/png;base64,iVBORw0KGgoAAAANSUhEUgAAAEgAAABICAYAAABV7bNHAAAABHNCSVQICAgIfAhkiAAAAAlwSFlz\n",
       "AAALEgAACxIB0t1+/AAAAe5JREFUeJztnM9KAlEYxeeOpo6CyiQWDUK0lSha9ABBz9X0Vj1Au4IW\n",
       "tTAIlAQJgphkwiH/3F7gnjkyTNTi/Jbf8crw84PPe53RWGutJyD+X1/Af0eCCBJEkCCCBBEkiCBB\n",
       "BAkiVLd9YRxfw8y3G5h1FguYnU8mzvrKx5/bZxDA7CmKYJZVd2AWx1cwUwcRJIggQQQJIkgQYesp\n",
       "lsfGYM+7aQqzWafjrO/N53BN0mzCzPzCyY06iCBBBAkiSBBBgggSRChlzK/XFZjd185gZuprZ32/\n",
       "/wrXpD7erNbMN8yKog4iSBBBgggSRJAgggQRShnzyyXeYU+npzAbDm+c9dS2Cl3He3IIszCcFnpP\n",
       "dRBBgggSRJAgggQRSpli1mLPg8EDzHqZ++z5+esYrjEGnzs3GvgsuyjqIIIEESSIIEEECSJIEKGU\n",
       "Mb9a1WHWa+NN4t340lmvVJZwTRQ9wswYfCNXUdRBBAkiSBBBgggSRJAgQiljPggSmB0kONsc3Trr\n",
       "7SyDa07G+GvDS78Ps1m3C7M81EEECSJIEEGCCBJEkCDC1mPeePiwvO7jR57yHl+6GI2c9Tdwg7nn\n",
       "ed40DGH20cI/WVvPwCwPdRBBgggSRJAgggQRJIhg9Pc4+aiDCBJEkCCCBBEkiCBBBAkiSBDhB+8g\n",
       "VJT7bquAAAAAAElFTkSuQmCC\n",
       "\" /><img style=\"display:inline\" src=\"data:image/png;base64,iVBORw0KGgoAAAANSUhEUgAAAEgAAABICAYAAABV7bNHAAAABHNCSVQICAgIfAhkiAAAAAlwSFlz\n",
       "AAALEgAACxIB0t1+/AAAAgBJREFUeJztnM1Kw0AUhSeJtOkfFaUWrNjuREQEQVy68MGMb+NzuBJc\n",
       "uBD/Cm5EqmDRlrSlMbbxBebMKRLRxfmW93RC+LhwmUwaL8uyzAiI/9c38N+RIIIEESSIIEEECSJI\n",
       "EEGCCEuL/jCKTmGWZdhzr7cDs8PKubU+Khbhmm68B7Nq9Q1mlfIHzE6iCGbqIIIEESSIIEEECSIs\n",
       "PMVclGYJzAqFCcwuRkfW+oFnn27GGLNduYLZMCzB7MsEMHOhDiJIEEGCCBJEkCCCBBEWHvOewYcf\n",
       "qY89B0EKs2aza63v3z/h6zkOYS7bbZi91uswc6EOIkgQQYIIEkSQIIIEEXLZzSdzvIuO4wbMOuUH\n",
       "a/2scwzX7H7ewSwN8I49Mx7MXKiDCBJEkCCCBBEkiLDwFHNPAZy1WtcwW+8P7GuMvW6MMTdrGzAb\n",
       "j1dgVjP41NWFOoggQQQJIkgQQYIIEkTI5Zn0aopfTmoN8MgO5nNrvbe8DNckSRVmtRoe5a77d6EO\n",
       "IkgQQYIIEkSQIIIEEXJ5Jj12vNf82MDPpGvTqbU+DEO4puq9w6w5jGH2oqPn30GCCBJEkCCCBBEk\n",
       "iJDLmE89fJnn/hbMfH9mrW+Gt3CN62/+k0IBZt4PPw+gDiJIEEGCCBJEkCCCBBE8fR7HjTqIIEEE\n",
       "CSJIEEGCCBJEkCCCBBG+AQiJW5YGq0hCAAAAAElFTkSuQmCC\n",
       "\" /><img style=\"display:inline\" src=\"data:image/png;base64,iVBORw0KGgoAAAANSUhEUgAAAEgAAABICAYAAABV7bNHAAAABHNCSVQICAgIfAhkiAAAAAlwSFlz\n",
       "AAALEgAACxIB0t1+/AAAAfFJREFUeJztnDFPwkAYhltaY6GYSAkwGiYxcXPQwfjXrL/LxNnBzU00\n",
       "GCRhIGCQQkiFnn/g3nuJKdHhfcZ7+Qg8fMnd9S74xhjjCUjlrz/Af0eCCBJEkCCCBBEkiCBBBAki\n",
       "hLu+ME3vYOZ7eK3ZzDKYXQyH1vHPWg3WvDebMJtXqzDLQ/xVb9MUZuogggQRJIggQQQJIuw8i7lI\n",
       "lkuYncxmMHvsdq3jN/0+rHlrtWC2rZT/e6uDCBJEkCCCBBEkiCBBhJ2nedeGNDs8hNl9/RpmB5u1\n",
       "dXwRfcCay8EAZg+9Hsx+uwRQBxEkiCBBBAkiSBBBggil7OYzcwSzKFrALAg21vFpHMOa13YbZq5b\n",
       "GMbzHSlGHUSQIIIEESSIIEGEnWcx1yyQ5/gkdLU6hlmS2Delo0YD1iyiCGbrAp+shl4OMxfqIIIE\n",
       "ESSIIEEECSJIEKGUZ9L1eAqz8fjM+a421jXH5tfgza9ruRGGmub3ggQRJIggQQQJIkgQoZRn0kFR\n",
       "wCxJ7HehPc/z4th++ywO57BmNDmHWafzArOg2MLMhTqIIEEECSJIEEGCCBJEKGWad93euto84bov\n",
       "+27+OT6FNfX6BGah+YaZ8XX0vBckiCBBBAkiSBBBggi+/h7HjTqIIEEECSJIEEGCCBJEkCCCBBF+\n",
       "AIaWWZEepcDXAAAAAElFTkSuQmCC\n",
       "\" /><img style=\"display:inline\" src=\"data:image/png;base64,iVBORw0KGgoAAAANSUhEUgAAAEgAAABICAYAAABV7bNHAAAABHNCSVQICAgIfAhkiAAAAAlwSFlz\n",
       "AAALEgAACxIB0t1+/AAAAf5JREFUeJztnM1KAlEYhs/410z+RYEIKaQEQat2bVq467KyC+oa2gRt\n",
       "W5a2KLBAW8SYOOrMON3Aec/rQqnF+yzP6wfDw4HvnG9UL8uyzAhI7q8f4L8jQQQJIkgQQYIIEkSQ\n",
       "IIIEEQqbfrDfv4VZlnkwS9MSzJLEni2XZVhTq41hFsc+zEqlCGb9/g3MtIMIEkSQIIIEESSIsHEX\n",
       "8wyeiqTrIszm8wOYFYsL6/podAFrrjp3MJv6CcxSk4eZC+0gggQRJIggQQQJIkgQYeM27+JwFcLs\n",
       "8nsIs6hkv6z651NY8xEdwyzw8HO4jikutIMIEkSQIIIEESSIIEGEjdt8ZvDcOc7jm/Jzswmz3mBg\n",
       "XX9pNGDNzDHjXiyqMNsP8BHAhXYQQYIIEkSQIIIEEbZyWf3JV2CWy+E58VO7bV2fhB1YE0V4xl2v\n",
       "f8LM1YVdaAcRJIggQQQJIkgQQYIIW2nzxqxhUo7tr5eNMWa4d2JdrxUnsKZVeYXZynFp1qvnHSFB\n",
       "BAkiSBBBgggSRNhKmy/k8Y29PsPfT35fHVnXe8kDrDmd4CPAY7cLs68qnle70A4iSBBBgggSRJAg\n",
       "ggQRttLmXQPxN78Fs+vw3rp+NsY/eRo6XkuHQQAzDe13hAQRJIggQQQJIkgQwdPf47jRDiJIEEGC\n",
       "CBJEkCCCBBEkiCBBhF8EUF2YU+MjiwAAAABJRU5ErkJggg==\n",
       "\" /><img style=\"display:inline\" src=\"data:image/png;base64,iVBORw0KGgoAAAANSUhEUgAAAEgAAABICAYAAABV7bNHAAAABHNCSVQICAgIfAhkiAAAAAlwSFlz\n",
       "AAALEgAACxIB0t1+/AAAAfRJREFUeJztnDFPwkAYhnvSQlETweqgNk6SOJqocdD/Zv1bTs664OJm\n",
       "0IguJhg1QKC05+B6770NgejwPuO9XAMPX7jv2gvGWmsDAVn56zfw35EgggQRJIggQQQJIkgQQYII\n",
       "YdUXZtkVzGplAbOoLGG2ORw6x1/WEzinNXPPCYIg8HW8w0YDZpdZBjNVEEGCCBJEkCCCBBEqr2I+\n",
       "rDEw+yzaMFuNps7xs/4jnHOTHMMsjr9hFgUTmPlQBREkiCBBBAkiSBBBggiVl3nj2QoWQQ1mo1EL\n",
       "Zh9t97LcTVM4J8zdrcEvuN2YF1UQQYIIEkSQIIIEESSIsJDdfFTmMNtbwzvzh6cL5/h56xrOiZsz\n",
       "mOWedmM650dVBREkiCBBBAkiSBCh8k+79WwEQ88pvniGVx1j3E9d+xv4yerR6zPMvppNmPWSLZj5\n",
       "UAURJIggQQQJIkgQQYIIC7knPQnxZd7HuzBL065zPM/xYafb7UOY1etjmK0E+JCXD1UQQYIIEkSQ\n",
       "IIIEESSIsJB70sazm7cWfwcnbz3nuK9t6CYHMPO1B436CGY+VEEECSJIEEGCCBJEkCDC0g+Sn47v\n",
       "YXa303GODwb7cE6nwNebetqDidWj56UgQQQJIkgQQYIIEkQw+nscP6ogggQRJIggQQQJIkgQQYII\n",
       "EkT4ATrRXJacw6H3AAAAAElFTkSuQmCC\n",
       "\" /><img style=\"display:inline\" src=\"data:image/png;base64,iVBORw0KGgoAAAANSUhEUgAAAEgAAABICAYAAABV7bNHAAAABHNCSVQICAgIfAhkiAAAAAlwSFlz\n",
       "AAALEgAACxIB0t1+/AAAAfRJREFUeJztnMFKAlEYhWfujKZmGAZmYBEErqW14FP0PE1P1DO0bOGm\n",
       "IFpIlEVRJGULm9FxpheYc89kAwWdb/kffxk+frhz5466aZqmjoCY376Av44EESSIIEEECSJIEEGC\n",
       "CBJE8PN+MAhO8JckS5jV5nOYXT73M+vN5hj2bK89wOyzXIZZ6rgwC4JjmGmCCBJEkCCCBBEkiJB7\n",
       "FbMRJlWYzcwGzA4655n1ShzDnjd3E2ZmiVdT38OrqQ1NEEGCCBJEkCCCBBEkiJB7mXcdfPhhDF5e\n",
       "F4sKzEKznll/nO7BnvH4EGa93inMVkUTRJAgggQRJIggQQQJIhSym7cRRXWYTSb7mfVWawR7fD/8\n",
       "6SV9C00QQYIIEkSQIIIEEXKvYraTyd2PV5h5yQvMbto7mfXB3RXsueh0YGYWCcymfg1mNjRBBAki\n",
       "SBBBgggSRJAgQiGb1Ukdb0j7I7zxPBoOM+tn3S7sqUURzGLPg5ntmboNTRBBgggSRJAgggQRJIhQ\n",
       "yNHzzODj5et2G/eB95rDUgn2eJbf/z1VGzAzDj4et6EJIkgQQYIIEkSQIIIEEQp5aF928Eva940t\n",
       "mN3Ws28BmvE77EG3BgyT4gf61r6Vuv4REkSQIIIEESSIIEEEV3+PY0cTRJAgggQRJIggQQQJIkgQ\n",
       "QYIIX/apV5MMyztkAAAAAElFTkSuQmCC\n",
       "\" />"
      ],
      "text/plain": [
       "<IPython.core.display.HTML object>"
      ]
     },
     "metadata": {},
     "output_type": "display_data"
    }
   ],
   "source": [
    "# Multiply the prediction gradients ndarray by the input features,\n",
    "# using np.newaxis to add an axis for classes to broadcast over. \n",
    "# pg_vals is of (n_examples, n_classes, n_inputs).\n",
    "# X is of shape (n_examples, n_inputs).\n",
    "# Then, take the mean across examples.\n",
    "gi_vals_mean = (pg_vals * X[:, np.newaxis, :]).mean(axis=0)\n",
    "\n",
    "# define a sensible color scale, then plot\n",
    "vabs_max = np.max(np.abs(gi_vals_mean))\n",
    "show_images(gi_vals_mean, dual_cmap, vmin=-vabs_max, vmax=vabs_max)"
   ]
  },
  {
   "cell_type": "markdown",
   "metadata": {},
   "source": [
    "In general, distinguishing positive from negative effects seems useful, but one can also take the absolute value."
   ]
  },
  {
   "cell_type": "code",
   "execution_count": 8,
   "metadata": {},
   "outputs": [
    {
     "data": {
      "text/html": [
       "<img style=\"display:inline\" src=\"data:image/png;base64,iVBORw0KGgoAAAANSUhEUgAAAEgAAABICAYAAABV7bNHAAAABHNCSVQICAgIfAhkiAAAAAlwSFlz\n",
       "AAALEgAACxIB0t1+/AAAAcJJREFUeJzt2z2KwkAchvGN+AEKKgQLU4uWHsBDeATv5hG8gXV6WxsL\n",
       "UwTBRvArXiDvvGyYZZfl+ZX5MyIPA6MmJlVVVV+QWr/9Bv46AhkEMghkEMggkEEgg0BGO8aLhD5r\n",
       "Pp9POet0OrXXi6KQa87ns5zNZjM5GwwGchbCDjIIZBDIIJBBICPKKXa73eTser1+e91oNJJrJpOJ\n",
       "nCVJImdNsYMMAhkEMghkEMggkBHlmA8dr3mey9lqtaq9vt1u5Zr1ei1n/X5fzppiBxkEMghkEMgg\n",
       "kEEgI4nx8EJZlnJ2OBzk7Hg81l7fbDZyzev1krPL5SJnaZrKWQg7yCCQQSCDQAaBjChfVkMny2Kx\n",
       "kLPdbld7fblcyjWhO7WPx0POmmIHGQQyCGQQyCCQQSAjypfV0DG/3+/lbD6f114P3coO3Xoej8dy\n",
       "1hQ7yCCQQSCDQAaBDAIZP/6c9HQ6lTP17PL9fpdrQh8pTqeTnGVZJmetlt4n7CCDQAaBDAIZBDII\n",
       "ZEQ55ttt/TK9Xk/O1N+h3u+3XNPtduVsOBzKWdOHzNlBBoEMAhkEMghkEMiI8qP9f8YOMghkEMgg\n",
       "kEEgg0AGgQwCGR98aF9JZ9ZobwAAAABJRU5ErkJggg==\n",
       "\" /><img style=\"display:inline\" src=\"data:image/png;base64,iVBORw0KGgoAAAANSUhEUgAAAEgAAABICAYAAABV7bNHAAAABHNCSVQICAgIfAhkiAAAAAlwSFlz\n",
       "AAALEgAACxIB0t1+/AAAAdpJREFUeJztmb2pAkEYRVfRQDASQQQRDUVtQSuwA3N7sQRbsAFTSxAM\n",
       "NjRUUQTRQPzZ18DeuSAD7/E4J5zD7Mrhg3F3C1mWZQlIir/9A/46BDIQyEAgA4EMBDIQyEAgQynG\n",
       "RUL/NXe7nXSv1yt3fTqdyj2LxUK64XAoXbH43SwwQQYCGQhkIJCBQIZCjNcd2+1Wuvl8Lt1kMsld\n",
       "H41Gco86+ZIkSZ7Pp3SdTke6EEyQgUAGAhkIZCCQgUCGKMf87XaTLk1T6VarVe76YDCQe/r9vnSt\n",
       "Vku6SqUiXQgmyEAgA4EMBDIQyEAgQ5Rj/v1+S3e9XqU7HA6566En9na7LV3ovXO1WpUuBBNkIJCB\n",
       "QAYCGQhkiPJlNXTq3O936R6PR+768XiUez6fj3Tdble6b2GCDAQyEMhAIAOBDAQyRDnmQw+rjUZD\n",
       "uuVymbs+m83knvV6Ld3lcpFuPB5LF4IJMhDIQCADgQwEMhDIEOWddOgSm81Guv1+n7teq9Xknmaz\n",
       "Kd3pdJIu9Dm7XC5LxwQZCGQgkIFABgIZCGSI8jQfvEFJ30J9Rq7X63LP+XyWrtfrSRd62R+CCTIQ\n",
       "yEAgA4EMBDIQyBDlaf4/wwQZCGQgkIFABgIZCGQgkIFAhh8bz3Nx2yOeRQAAAABJRU5ErkJggg==\n",
       "\" /><img style=\"display:inline\" src=\"data:image/png;base64,iVBORw0KGgoAAAANSUhEUgAAAEgAAABICAYAAABV7bNHAAAABHNCSVQICAgIfAhkiAAAAAlwSFlz\n",
       "AAALEgAACxIB0t1+/AAAAdNJREFUeJztmzuKAkEYBp1FAzMfCCaamYuJRxAEExMj8QRexty7mBgZ\n",
       "mhhrIKggGImv2QvM1x9KL7ssVWEXPSPFD+0MmqRpmuZA8vXbH+CvQyADgQwEMhDIQCADgQwEMuRj\n",
       "XOT1ekl3u92k2263meuVSkXuqVar0l2vV+mKxaJ0IZggA4EMBDIQyEAgQxLjdcdut5PudDrpmydJ\n",
       "5vpqtZJ7RqORdKGTqlAoSBeCCTIQyEAgA4EMBDIQyBDlmH88HtItl0vp9vt95nqn0/noXvV6XbrQ\n",
       "A3AIJshAIAOBDAQyEMhAIEOUd9KbzUa6yWQiXavVyly/XC5yz3g8li70/vtTmCADgQwEMhDIQCBD\n",
       "lFOsVCpJ1+/3pRsMBpnr3W5X7pnNZtL1ej3p2u22dCGYIAOBDAQyEMhAIAOBDFHeSYcucTwepZvP\n",
       "52/f63w+SzedTqVrNBpv3yuXY4IsBDIQyEAgA4EMBDJEeZoP8Xw+pVssFpnrw+FQ7imXy9L9xH8D\n",
       "mSADgQwEMhDIQCADgQxRnubv97t0h8NBOvVrsVqtJves12vpQvuazaZ0+bz+tsMEGQhkIJCBQAYC\n",
       "GQhkiHLM/2eYIAOBDAQyEMhAIAOBDAQyEMjwDftya3yVmwh+AAAAAElFTkSuQmCC\n",
       "\" /><img style=\"display:inline\" src=\"data:image/png;base64,iVBORw0KGgoAAAANSUhEUgAAAEgAAABICAYAAABV7bNHAAAABHNCSVQICAgIfAhkiAAAAAlwSFlz\n",
       "AAALEgAACxIB0t1+/AAAAdlJREFUeJztm8+qQVEcRu/h5k9GEikvoDA18AjKlJGJqffwLCYeQN7E\n",
       "wEgiiZlEzn2B8+2vtOvebmsN92pzWv1qt48kaZqmXyDJ/fYD/HUIZCCQgUAGAhkIZCCQgUCG7xgf\n",
       "8nw+pbtcLtKVSqXM9dlsJvcsFgvp2u22dJ/CBBkIZCCQgUAGAhminGK320268/ksXavVylyfTqdy\n",
       "T7FYlO54PErXbDalC8EEGQhkIJCBQAYCGQhkSGL8qvF4PKQLHdmdTidzfTweyz3b7Va60WgkXS73\n",
       "2SwwQQYCGQhkIJCBQAYCGaLc5q/Xq3Shm36v18tcL5fLcs96vZauXq9LNxgMpAvBBBkIZCCQgUAG\n",
       "AhmiXFYPh4N0m81GuuFwmLl+Op3kntDjdrtd6ZIkkS4EE2QgkIFABgIZCGQgkCHKZbVWq0kXuqzO\n",
       "5/PM9eVyKfesVivp7ve7dP1+X7oQTJCBQAYCGQhkIJCBQIYox3zoZ93JZCJdtVrNXN/v9x89x/v9\n",
       "/siFnp8JMhDIQCADgQwEMhDIEOWl/ev1km632+kvFy/SK5WK3NNoNKTL5/PShf6yVSgUpGOCDAQy\n",
       "EMhAIAOBDAQyRDnm/zNMkIFABgIZCGQgkIFABgIZCGT4AYllZJscMaQfAAAAAElFTkSuQmCC\n",
       "\" /><img style=\"display:inline\" src=\"data:image/png;base64,iVBORw0KGgoAAAANSUhEUgAAAEgAAABICAYAAABV7bNHAAAABHNCSVQICAgIfAhkiAAAAAlwSFlz\n",
       "AAALEgAACxIB0t1+/AAAAdpJREFUeJztms/qqVEYRs93SKIkGTFiZqJESrkAtyAXpZQL4HoURoaS\n",
       "lAxMGCj/zg18z37q165zOq013KtXWr312Ui+3+/3F0h+/+038K9DIAOBDAQyEMhAIAOBDAQyZGO8\n",
       "yPv9lu54PEo3m81SzwuFgpyp1+vSTSYT6UqlknQh2CADgQwEMhDIQCBDlKdYJpORbrfbSdfv91PP\n",
       "1+u1nGk2m9J9Ph/pfgobZCCQgUAGAhkIZCCQIYnxq8bj8ZBuu91Kl8vlUs8bjYacyefz0mWz+lNL\n",
       "yIVggwwEMhDIQCADgQwEMkS5zV+vV+kWi4V00+k09fz1esmZ0Pffq9VKuuFwKF0INshAIAOBDAQy\n",
       "EMgQ5bJ6OByku1wu0lUqldTz/X4vZ5Ikka5Wq0nXarWkC8EGGQhkIJCBQAYCGQhkiHJZvd1u0rXb\n",
       "benUH6iKxaKcGY/H0v30e+cQbJCBQAYCGQhkIJCBQIYot/n7/S7dZrORbjAYpJ6fTic5s1wupRuN\n",
       "RtL1ej3pQrBBBgIZCGQgkIFABgIZojzmn8+ndOfzWbr5fJ563ul05Ey1WpWu2+1KVy6XpQvBBhkI\n",
       "ZCCQgUAGAhkIZIjymP+fYYMMBDIQyEAgA4EMBDIQyEAgwx8R8WQmV1EUjgAAAABJRU5ErkJggg==\n",
       "\" /><img style=\"display:inline\" src=\"data:image/png;base64,iVBORw0KGgoAAAANSUhEUgAAAEgAAABICAYAAABV7bNHAAAABHNCSVQICAgIfAhkiAAAAAlwSFlz\n",
       "AAALEgAACxIB0t1+/AAAAdJJREFUeJztmj+KwkAcRjf+Qewt1EILwcJKEC8hHkTwDJ7I3s4L2AlC\n",
       "QCzFzsLKRMXsBfLNBzLLLst75TxG5PGDIZkkRVEUXyCp/PYf+OsQyEAgA4EMBDIQyEAgA4EMtRg/\n",
       "8nw+pVuv19INBoPS9U6nI/ccDgfpRqORdP1+X7okSaRjggwEMhDIQCADgQxRTrH7/S5dq9WS7ng8\n",
       "lq43Gg25ZzgcStftdqULnVQhmCADgQwEMhDIQCADgQxRjvlms/mRm8/npeur1UruyfNcuuVyKd14\n",
       "PJYuBBNkIJCBQAYCGQhkIJAhyjGfZZl0aZpKp95JLxYLued6vUoXegvwKUyQgUAGAhkIZCCQIYnx\n",
       "Cd7tdpOuWq1Kt91uS9dDf2k2m0l3Op2kC926hmCCDAQyEMhAIAOBDAQyRDnmz+ezdLvdTjr1fnk6\n",
       "nco99Xpdul6vJx1Xzz8EgQwEMhDIQCADgQxRjvnQdfDj8ZDucrmUroe+aa7V9Gv0/X4v3WQykS4E\n",
       "E2QgkIFABgIZCGQgkCHK1XPoCXuz2Uinrorb7bbc83q9pAt9tP5+v6WrVPScMEEGAhkIZCCQgUAG\n",
       "AhmiPM3/Z5ggA4EMBDIQyEAgA4EMBDIQyPANTjhe/iNFLE0AAAAASUVORK5CYII=\n",
       "\" /><img style=\"display:inline\" src=\"data:image/png;base64,iVBORw0KGgoAAAANSUhEUgAAAEgAAABICAYAAABV7bNHAAAABHNCSVQICAgIfAhkiAAAAAlwSFlz\n",
       "AAALEgAACxIB0t1+/AAAAc1JREFUeJztmjGuQUEYRt8VQUOhE4UE0diBQqmyGXuwCluQqPVqiduK\n",
       "Qi0kCg0R1wbmmy+Rkffyck45JyNy8idz55IVRVH8gKT021/gr0MgA4EMBDIQyEAgA4EMBDKUU3xI\n",
       "7Flzv99Lt1gsguu9Xk/uGY/H0nU6Henq9bp0MZggA4EMBDIQyEAgQ5JT7HA4SLfZbKSbzWbB9fl8\n",
       "LvdMJhPpKpWKdJ/CBBkIZCCQgUAGAhkIZMhS/Kpxu92k2+120jWbzeD6crmUey6Xi3Sxx4NGoyFd\n",
       "DCbIQCADgQwEMhDIQCBDktv88/mUrt1uS1er1YLrg8FA7ul2u9JlWSbdpzBBBgIZCGQgkIFAhiSX\n",
       "1dg76ePxKN1oNAqun04nuafVakn3eDyk45fVL0EgA4EMBDIQyEAgQ5LLauwPT6vVSrrX6xVcj11I\n",
       "Yxfj8/ksHcf8lyCQgUAGAhkIZCCQIclt/n6/S7fdbqXr9/vB9diRvF6vpZtOp9LF3leXy/pphwky\n",
       "EMhAIAOBDAQyEMiQ5DZfrValu16v0uV5HlyPvR0YDofSxY7yUumzWWCCDAQyEMhAIAOBDAQyJLnN\n",
       "/2eYIAOBDAQyEMhAIAOBDAQyEMjwBjllXVdZhciaAAAAAElFTkSuQmCC\n",
       "\" /><img style=\"display:inline\" src=\"data:image/png;base64,iVBORw0KGgoAAAANSUhEUgAAAEgAAABICAYAAABV7bNHAAAABHNCSVQICAgIfAhkiAAAAAlwSFlz\n",
       "AAALEgAACxIB0t1+/AAAAdRJREFUeJztmsGqAVEch2ekkI1io8jWQlZewtPIG3gBnsErWHkEG2Vp\n",
       "I8oWSVIKzX2B+Z1f6dS93b5veb6O9M2/jpmRZlmWJSAp/PYX+OsQyEAgA4EMBDIQyEAgA4EMxRgf\n",
       "8vl8pHs8HtLd7/fc9dPpJPf0+33prterdPV6XboQTJCBQAYCGQhkIJAhyin2fD6lOxwO0tVqtdz1\n",
       "+Xwu94xGI+larZZ038IEGQhkIJCBQAYCGQhkiHLMh24SV6uVdI1GI3d9NpvJPcfjUbpCIf71ZoIM\n",
       "BDIQyEAgA4EMBDKkMf68cLlcpAs9r55MJrnr0+lU7tntdtKppwNJkiTtdlu6EEyQgUAGAhkIZCCQ\n",
       "IcopFnp7WqlUpFuv17nr7/db7tnv99INBgPput2udCGYIAOBDAQyEMhAIAOBDFGO+dCr59BPAOVC\n",
       "N52v10u6arUqXblcli4EE2QgkIFABgIZCGQgkCHKq+dSqSTddruV7nw+567fbje5Z7lcSjcej6Xr\n",
       "9XrShWCCDAQyEMhAIAOBDAQyRDnm0zSVrtlsSrfZbHLXF4uF3DMcDqXrdDrSfQsTZCCQgUAGAhkI\n",
       "ZCCQIcpD+/8ME2QgkIFABgIZCGQgkIFABgIZfgDvE2yfCpbR+wAAAABJRU5ErkJggg==\n",
       "\" /><img style=\"display:inline\" src=\"data:image/png;base64,iVBORw0KGgoAAAANSUhEUgAAAEgAAABICAYAAABV7bNHAAAABHNCSVQICAgIfAhkiAAAAAlwSFlz\n",
       "AAALEgAACxIB0t1+/AAAActJREFUeJztmr2KMkEQRR1ZE1FBExMRDM3MNFMfwaf0HUwNBSMxMjI0\n",
       "ECMV/Jl9gb51Yb+WbxfOCetSImcKerp7irIsywpIqv/7D/x2EGRAkAFBBgQZEGRAkAFBhq8cP/J8\n",
       "PmV2vV5ldjgckvXhcCh7LpeLzKpV/by73a7MIpggA4IMCDIgyIAgQ5HjuOP9fsvsdDrJTK1wq9VK\n",
       "9sxmM5n1ej2ZNRoNmUUwQQYEGRBkQJABQQYEGbIs86/XS2abzUZm4/E4Wb/f77LnfD7LrNlsyqzV\n",
       "asksggkyIMiAIAOCDAgyIMiQZZm/3W4yi86kl8tlsj6ZTGRPv9+XWb1elxm7+Q+BIAOCDAgyIMiQ\n",
       "5Wb18XjILLoJrdVqyfpoNJI9auWrVOIz6fl8LrMIJsiAIAOCDAgyIMiAIEOWzWrEfr+X2WAwSNaj\n",
       "zW/0sVa73ZaZeqVwMEEGBBkQZECQAUEGBBk+/oXZbreT2Xa7TdajK+TpdCqzoihk1ul0ftTHBBkQ\n",
       "ZECQAUEGBBkQZMhyaB8tk8fjUWaLxSJZX6/Xsif6+iy6Xo7eZljm/wEEGRBkQJABQQYEGT5+aP/X\n",
       "YYIMCDIgyIAgA4IMCDIgyIAgwzc36XDRZBoF2AAAAABJRU5ErkJggg==\n",
       "\" /><img style=\"display:inline\" src=\"data:image/png;base64,iVBORw0KGgoAAAANSUhEUgAAAEgAAABICAYAAABV7bNHAAAABHNCSVQICAgIfAhkiAAAAAlwSFlz\n",
       "AAALEgAACxIB0t1+/AAAAdRJREFUeJztmz1qQkEYRfPEPwQFRRvBUuxcgBuwtrFxKS7ALVhYuQYX\n",
       "YC+uw0YLEcU/eNnA3LkgExLCOeUcvpAcPhicJFme5/kXSAq//Q38dQhkIJCBQAYCGQhkIJCBQIZi\n",
       "ii/yfD6lOx6P0m02m+D5aDSSM91uV7pmsyldlmXSxWCDDAQyEMhAIAOBDFmK547L5SLd/X6Xrl6v\n",
       "B8/P57OcqVQq0pXLZelqtZp0MdggA4EMBDIQyEAgA4EMST6sxq7X2JWt5vb7vZxZrVbSrddr6T6F\n",
       "DTIQyEAgA4EMBDIQyJDkmo+99x4OB+m2223wfDwey5lGoyHdT/wdBhtkIJCBQAYCGQhkSPImvdvt\n",
       "pHu9XtINh8Pg+XK5lDOz2Uy69/stXa/Xky4GG2QgkIFABgIZCGQgkCHJh9XBYCDdYrGQbjqdBs/n\n",
       "87mcOZ1O0sV+Lf0pbJCBQAYCGQhkIJCBQIYk13y1WpVuMplI1+l0guetVkvOPB4P6fr9vnSxR4vY\n",
       "mzobZCCQgUAGAhkIZCCQIcmjfezfoWJX6O12C55fr1c50263pYv9KKVSSbpCQe8JG2QgkIFABgIZ\n",
       "CGQgkCHJNf+fYYMMBDIQyEAgA4EMBDIQyEAgwzdK4l/Bpx7JowAAAABJRU5ErkJggg==\n",
       "\" />"
      ],
      "text/plain": [
       "<IPython.core.display.HTML object>"
      ]
     },
     "metadata": {},
     "output_type": "display_data"
    }
   ],
   "source": [
    "show_images(np.abs(gi_vals_mean),\n",
    "            mono_cmap, vmin=0, vmax=vabs_max)"
   ]
  },
  {
   "cell_type": "markdown",
   "metadata": {},
   "source": [
    "One can also average the results across classes, though this doesn't seem particularly useful for the digits case."
   ]
  },
  {
   "cell_type": "code",
   "execution_count": 9,
   "metadata": {},
   "outputs": [
    {
     "data": {
      "text/html": [
       "<img style=\"display:inline\" src=\"data:image/png;base64,iVBORw0KGgoAAAANSUhEUgAAAEgAAABICAYAAABV7bNHAAAABHNCSVQICAgIfAhkiAAAAAlwSFlz\n",
       "AAALEgAACxIB0t1+/AAAAdhJREFUeJztnLGOQUEYRveuRacgUQqNKEXBM+i0HsB7eAu1VuIRlFrR\n",
       "ikZBIjQSCQVy9wXuN19iZ7NbnFPOyYic/MlkrhtJmqbpB0g+//oL/HcIZCCQgUAGAhkIZCCQgUCG\n",
       "rxgfcr/fpVssFtLN5/PM9fV6LfeMRiPp+v2+dPV6XbokSaRjggwEMhDIQCADgQxRTrHNZiPdbDaT\n",
       "rtlsZq4vl0u5p1wuS/cbT26YIAOBDAQyEMhAIAOBDFGO+Wq1Kt1+v5euVCplrrfbbblnMplI1+v1\n",
       "pAtdSEMwQQYCGQhkIJCBQAYCGaIc86fTSbrtdivd8XjMXG+1WnLPYDCQLvRUodFoSBeCCTIQyEAg\n",
       "A4EMBDJEOcUul4t0w+FQuuv1mrm+2+3knvP5LF2tVpPuXZggA4EMBDIQyEAgA4EMUY750EUwdJGd\n",
       "TqeZ6+PxWO4pFovSVSoV6d6FCTIQyEAgA4EMBDIQyBDlmA+99dXpdKQ7HA6Z67fbTe5ZrVbShW7z\n",
       "j8dDunw+Lx0TZCCQgUAGAhkIZCCQIcoxXygUpHs+n9KpN8lyuZzcE/rpudvtSvd6vaTjmP8BBDIQ\n",
       "yEAgA4EMBDIk/D1OGCbIQCADgQwEMhDIQCADgQwEMnwDg3VZH1AycDYAAAAASUVORK5CYII=\n",
       "\" />"
      ],
      "text/plain": [
       "<IPython.core.display.HTML object>"
      ]
     },
     "metadata": {},
     "output_type": "display_data"
    }
   ],
   "source": [
    "# Compute the sum of absolute values across all classes.\n",
    "# Then, add an axis with np.newaxis since that expects an array of (n_examples, n_inputs).\n",
    "show_images(np.abs(gi_vals_mean).sum(axis=0)[np.newaxis, :],\n",
    "            mono_cmap)"
   ]
  },
  {
   "cell_type": "markdown",
   "metadata": {},
   "source": [
    "## Analyzing predictions for individual examples with gradient x input\n",
    "\n",
    "In addition to aggregating across examples to get an idea of the overall model, one can also investigate individual predictions."
   ]
  },
  {
   "cell_type": "code",
   "execution_count": 10,
   "metadata": {
    "scrolled": false
   },
   "outputs": [
    {
     "name": "stdout",
     "output_type": "stream",
     "text": [
      "==============================\n",
      "yhat=6 [0.000 0.000 0.000 0.000 0.000 0.000 1.000 0.000 0.000 0.000] (example 0)\n"
     ]
    },
    {
     "data": {
      "text/html": [
       "<img style=\"display:inline\" src=\"data:image/png;base64,iVBORw0KGgoAAAANSUhEUgAAAEgAAABICAYAAABV7bNHAAAABHNCSVQICAgIfAhkiAAAAAlwSFlz\n",
       "AAALEgAACxIB0t1+/AAAAWFJREFUeJzt2mGNg0AQQGF6OQFIqJRKQEIlgAKQUCcgAZzUAgo4Azvz\n",
       "ciR79JL3/dwNLXnZZFLo7TiOo1Ho6+ob+HQGAgYCBgIGAgYCBgIGAt9Xfvnr9SquL8sSXrOua6W7\n",
       "KfMEAQMBAwEDAQOB6lMsmzrDMBTXx3GsdDe/5wkCBgIGAgYCBgIGArfabzUej0e417ZtcT37sfrX\n",
       "PEHAQMBAwEDAQMBAoPqYj0Z50zRN13XF9fv9Hl6T7UWfR/eR8QQBAwEDAQMBA4FLp9i+78X17Jn0\n",
       "+/0O97IJN01TuJfxBAEDAQMBAwEDAQOB6q+eszEfjd6+7099V/b8+yxPEDAQMBAwEDAQMBCoPuaf\n",
       "z2e4F/37LBvz2WvpbdvCvbNPATxBwEDAQMBAwEDAQKD6mM8elkfjPBu7mXmew72zn+kJAgYCBgIG\n",
       "AgYCBgLV383/d54gYCBgIGAgYCBgIGAgYCDwAyBCQ/Kij9tUAAAAAElFTkSuQmCC\n",
       "\" />"
      ],
      "text/plain": [
       "<IPython.core.display.HTML object>"
      ]
     },
     "metadata": {},
     "output_type": "display_data"
    },
    {
     "data": {
      "text/html": [
       "<img style=\"display:inline\" src=\"data:image/png;base64,iVBORw0KGgoAAAANSUhEUgAAAEgAAABICAYAAABV7bNHAAAABHNCSVQICAgIfAhkiAAAAAlwSFlz\n",
       "AAALEgAACxIB0t1+/AAAAZBJREFUeJzt3MtOwlAUQNGWFkGpgiRq+FrxJx06c+YrELAUpP5ATzcQ\n",
       "qw72Gt5j02bnJlfCI63ruk4U6v31A/x3BgIGAgYCBgIGAgYCBgL5oX84nz/8+M2v16vG9Wy/D695\n",
       "KS5//Dnm8/tw5g4CBgIGAgYCBgIHn2KnGu624azKm29flGVXj3M0dxAwEDAQMBAwEDAQ6PyY/9hN\n",
       "w1ldp43rq6tFV49zNHcQMBAwEDAQMBAwEOj8mO/1vsJZlm0a1y+q5nVS9vvhbJ+ethfcQcBAwEDA\n",
       "QMBAoPNTbLm8DWc306fG9c/sLLxmuxuEs826CGej0Vs4a+MOAgYCBgIGAgYCBgKdH/OLxV04GwyW\n",
       "jetF8Rpek+dVy7085n+dgYCBgIGAgYCBQOfH/Gz2GM7SNP48dGSziY/y8fg5nJ1v438P2riDgIGA\n",
       "gYCBgIGAgUD3HyQfNr9iT5IkGQVvMb9Xk/Casoy/DjUZx/dqeyOgjTsIGAgYCBgIGAgYCKT+PE47\n",
       "dxAwEDAQMBAwEDAQMBAwEPgGjxZCizADPpIAAAAASUVORK5CYII=\n",
       "\" />"
      ],
      "text/plain": [
       "<IPython.core.display.HTML object>"
      ]
     },
     "metadata": {},
     "output_type": "display_data"
    },
    {
     "name": "stdout",
     "output_type": "stream",
     "text": [
      "==============================\n",
      "yhat=9 [0.000 0.000 0.000 0.000 0.000 0.001 0.000 0.000 0.000 0.999] (example 1)\n"
     ]
    },
    {
     "data": {
      "text/html": [
       "<img style=\"display:inline\" src=\"data:image/png;base64,iVBORw0KGgoAAAANSUhEUgAAAEgAAABICAYAAABV7bNHAAAABHNCSVQICAgIfAhkiAAAAAlwSFlz\n",
       "AAALEgAACxIB0t1+/AAAAX5JREFUeJzt2mGNwkAQQOHlcgKQgoQ6KFJAAUgAB0hoFQAKAAdIwEHP\n",
       "QGce7bXhLnnfz24aNi+bDJQuuq7rikJfn97AX2cgYCBgIGAgYCBgIGAg8D33B6zX63Ctbdve67vd\n",
       "Lrxnv9//dkuDeIKAgYCBgIGAgcAkU+x0OoVr0aQqpZS6rnuvN00T3vN6vcK1w+EQro3lCQIGAgYC\n",
       "BgIGAgYCk4z5bPRmonG+2WzCe47HY7jmmP8AAwEDAQMBAwEDgcUULy88n89wbbVaDV67Xq+j9nG7\n",
       "3UbtI+MJAgYCBgIGAgYCk0yxTPZ8OZt+ke12G66dz+dwraqqwZ9ViicIGQgYCBgIGAgYCHz0BapI\n",
       "9tUgM/bZeMYTBAwEDAQMBAwEDARmH/P3+z1cu1wuvdezX+zRW2mljPtKQTxBwEDAQMBAwEDAQGD2\n",
       "h/bZX76Px6P3ejbKs5fWl8vl2/t6lycIGAgYCBgIGAgYCMw+5v87TxAwEDAQMBAwEDAQMBAwEPgB\n",
       "g41VNfG6e9UAAAAASUVORK5CYII=\n",
       "\" />"
      ],
      "text/plain": [
       "<IPython.core.display.HTML object>"
      ]
     },
     "metadata": {},
     "output_type": "display_data"
    },
    {
     "data": {
      "text/html": [
       "<img style=\"display:inline\" src=\"data:image/png;base64,iVBORw0KGgoAAAANSUhEUgAAAEgAAABICAYAAABV7bNHAAAABHNCSVQICAgIfAhkiAAAAAlwSFlz\n",
       "AAALEgAACxIB0t1+/AAAAcVJREFUeJzt3NFKwlAcx/FtTpeajijCpEfoxttervVCPU0QQQQhhNFF\n",
       "ONzUOV0vcP77yZjUxfdzef4dGl8OnBySX1VV5cEU/PUD/HcEEggkEEggkEAggUACgYTw2B9MksdG\n",
       "v2C8WZuzt/TOuR7HC3NPFGWNnqNOkjyYM06QQCCBQAKBBAIJR99idbbboTn76XbN2fTy1bk+2O3M\n",
       "PanXP/7BWsAJEggkEEggkEAggUBCK9d8GG7MWVGcm7NO332dz1e35p73l3tzNps9mbOmOEECgQQC\n",
       "CQQSCCQQSGjlmg+Cgzmr+6S/XE6c66PRt7lnOn02Z2XZM2dhWJizOpwggUACgQQCCQQSWrnFfN/+\n",
       "Ft/VeG7Osn7sXL/Zf5l7guGHOcsP9i2We5E5q8MJEggkEEggkEAggUBCK9d8nTLomLMoWjnX/cz+\n",
       "syEqS3O27tnXfFOcIIFAAoEEAgkEEggknPyaDyr7ffVFnjvXJ2lq7vmM3W8APM/zsl6zT+x1OEEC\n",
       "gQQCCQQSCCQQSDj5NV/s7S9+L3oD5/ry+szcs+/YbwdOgRMkEEggkEAggUACgQSff49TjxMkEEgg\n",
       "kEAggUACgQQCCQQSfgEAfEiGLPqf5gAAAABJRU5ErkJggg==\n",
       "\" />"
      ],
      "text/plain": [
       "<IPython.core.display.HTML object>"
      ]
     },
     "metadata": {},
     "output_type": "display_data"
    },
    {
     "name": "stdout",
     "output_type": "stream",
     "text": [
      "==============================\n",
      "yhat=3 [0.000 0.000 0.000 1.000 0.000 0.000 0.000 0.000 0.000 0.000] (example 2)\n"
     ]
    },
    {
     "data": {
      "text/html": [
       "<img style=\"display:inline\" src=\"data:image/png;base64,iVBORw0KGgoAAAANSUhEUgAAAEgAAABICAYAAABV7bNHAAAABHNCSVQICAgIfAhkiAAAAAlwSFlz\n",
       "AAALEgAACxIB0t1+/AAAAV1JREFUeJzt2mFthDAcQPHesu8g4XCABCQgBQlIQAISkIIEJOCAGeDf\n",
       "d9eNsSXv95GmO/LSpKPwOI7jSAp93H0Df52BgIGAgYCBgIGAgYCBwOfVPzCOYzg2TdPp9bZti/5e\n",
       "13Uv3tXrXEHAQMBAwEDAQOBHdrFlWcKxeZ7fnhftbimltK5rOOYudgMDAQMBAwEDAQOBx51vNfZ9\n",
       "P72ee1jN/UuRm1fKFQQMBAwEDAQMBAwELj+T3rYtHIu25bquwznP5/Obd/QeVxAwEDAQMBAwELj1\n",
       "YTV6S5p7IM3tYrl5pVxBwEDAQMBAwEDAQODWbb5E6cdVfd8X/Z4rCBgIGAgYCBgIGAhcfiad++or\n",
       "+voseiWdUv68Onf+XcoVBAwEDAQMBAwEDAQu3+ZzW3bTNKfXq6oK5wzDUDRWyhUEDAQMBAwEDAQM\n",
       "BP7dof1vcwUBAwEDAQMBAwEDAQMBA4EvlZhGYpf4moIAAAAASUVORK5CYII=\n",
       "\" />"
      ],
      "text/plain": [
       "<IPython.core.display.HTML object>"
      ]
     },
     "metadata": {},
     "output_type": "display_data"
    },
    {
     "data": {
      "text/html": [
       "<img style=\"display:inline\" src=\"data:image/png;base64,iVBORw0KGgoAAAANSUhEUgAAAEgAAABICAYAAABV7bNHAAAABHNCSVQICAgIfAhkiAAAAAlwSFlz\n",
       "AAALEgAACxIB0t1+/AAAAZxJREFUeJzt3EtPwkAUQOG2QpuahgUsWfpDxV9q3BkfCUYI8mrduuid\n",
       "QxqqLs637HWkOU4yoQHzruu6TKHir2/gvzMQMBAwEDAQMBAwEDAQmFz6g6vVw6AXKM+ncLY5z3qv\n",
       "r9fLcM18/hTOJpPD5Tf2w2p1H87cQcBAwEDAQMBA4OJTLGW/b+JZFj9NKctd7/W6Xodr2jZ1y8NO\n",
       "sRR3EDAQMBAwEDAQMBC4yjFfVZthL96eg0kerrmdfIazU3Yz6D5S3EHAQMBAwEDAQMBA4CrHfEp9\n",
       "jN9hL9f979q3s/5n1VmWJZ4NjMMdBAwEDAQMBAwERj/FdtMynD0uFr3X2318W23xu39TdxAwEDAQ\n",
       "MBAwEDAQGP2YTzkX/c+Q6/ojXPPyehfOmuY9nKV+Z4o7CBgIGAgYCBgIGAiMfsw3+69wtptOe68f\n",
       "uvgJQFVtw9npFK8byh0EDAQMBAwEDAQMBEY/5p+P8Vebyrz/g+R53oZrmuYtnBVF9Im14dxBwEDA\n",
       "QMBAwEDAQCD33+OkuYOAgYCBgIGAgYCBgIGAgcA37bhAn4CnpHoAAAAASUVORK5CYII=\n",
       "\" />"
      ],
      "text/plain": [
       "<IPython.core.display.HTML object>"
      ]
     },
     "metadata": {},
     "output_type": "display_data"
    },
    {
     "name": "stdout",
     "output_type": "stream",
     "text": [
      "==============================\n",
      "yhat=7 [0.000 0.000 0.000 0.000 0.000 0.000 0.000 0.999 0.000 0.001] (example 3)\n"
     ]
    },
    {
     "data": {
      "text/html": [
       "<img style=\"display:inline\" src=\"data:image/png;base64,iVBORw0KGgoAAAANSUhEUgAAAEgAAABICAYAAABV7bNHAAAABHNCSVQICAgIfAhkiAAAAAlwSFlz\n",
       "AAALEgAACxIB0t1+/AAAAWRJREFUeJzt22Ftg1AUQGG6zAAOkIAEpCABCUgAB0jBAUhAAg6Ygd57\n",
       "spW3bsn5fvamYTl5yet77R7XdV2VQh/v/gP+OgMBAwEDAQMBAwEDAQOBz9IPOI4jnPV9f+uz2rYN\n",
       "Z8MwhLOmacKZKwgYCBgIGAgYCBTfxaZpCmf7vj99PduNzvMMZ/M8h7Ou68KZu9gLDAQMBAwEDAQM\n",
       "BB6lv9XIttdoNo5j+J5slh2Ml2UJZxlXEDAQMBAwEDAQMBC4ZZvPTth1XYezbdu+/azsY0N0O1BV\n",
       "+Yk94woCBgIGAgYCBgLF76SznSq6e852quyw+tOdKuMKAgYCBgIGAgYCBgLF76Qz67o+fT37sVN2\n",
       "IC3BFQQMBAwEDAQMBAwEip/mM9F2np3mf5srCBgIGAgYCBgIGAgU3+az03f0i7C7/03qFa4gYCBg\n",
       "IGAgYCBgIPDWS/v/wBUEDAQMBAwEDAQMBAwEDAS+AILNSrLwVanwAAAAAElFTkSuQmCC\n",
       "\" />"
      ],
      "text/plain": [
       "<IPython.core.display.HTML object>"
      ]
     },
     "metadata": {},
     "output_type": "display_data"
    },
    {
     "data": {
      "text/html": [
       "<img style=\"display:inline\" src=\"data:image/png;base64,iVBORw0KGgoAAAANSUhEUgAAAEgAAABICAYAAABV7bNHAAAABHNCSVQICAgIfAhkiAAAAAlwSFlz\n",
       "AAALEgAACxIB0t1+/AAAAaZJREFUeJzt3MFKAlEYQGFHNFOkQCOoRURu2/V2rQrfrXW0blUUgQRm\n",
       "AxqptxeY/54Uh1qcbzl/d5TThcukVKSUUkOh5l+/gf/OQMBAwEDAQMBAwEDAQKD12x+8ubnd6gVS\n",
       "KjLT6tli0Q9XdLuzcDaZXISzweA5nI3H1+HMHQQMBAwEDAQMBH59im1rtdrLzNqV1yeTUbjm8vgu\n",
       "nA17D+Hs5fsknOW4g4CBgIGAgYCBgIFA7cf8aPYazr5a1S/fOSvDNdN1/CDbbK7C2X7jM5zluIOA\n",
       "gYCBgIGAgYCBwE6O+WZah7OnwSCcHcznG99vOjsNZ/3+ezhrtb7CWY47CBgIGAgYCBgI7OQUW+Vu\n",
       "k/mC30e3V3m9LIfhmqKIb7jtSZXjDgIGAgYCBgIGAgYCOznmiyJ+uMxZLqs/lm634+M690BaB3cQ\n",
       "MBAwEDAQMBAwEKj9o+ecsjyqvH7eeQzXTBvVfwGoizsIGAgYCBgIGAgYCNR+zKcU/w6uvu8rr7/1\n",
       "Dut6OxtzBwEDAQMBAwEDAQOBwn+Pk+cOAgYCBgIGAgYCBgIGAgYCP+0/RYu4SDHGAAAAAElFTkSu\n",
       "QmCC\n",
       "\" />"
      ],
      "text/plain": [
       "<IPython.core.display.HTML object>"
      ]
     },
     "metadata": {},
     "output_type": "display_data"
    },
    {
     "name": "stdout",
     "output_type": "stream",
     "text": [
      "==============================\n",
      "yhat=2 [0.000 0.000 1.000 0.000 0.000 0.000 0.000 0.000 0.000 0.000] (example 4)\n"
     ]
    },
    {
     "data": {
      "text/html": [
       "<img style=\"display:inline\" src=\"data:image/png;base64,iVBORw0KGgoAAAANSUhEUgAAAEgAAABICAYAAABV7bNHAAAABHNCSVQICAgIfAhkiAAAAAlwSFlz\n",
       "AAALEgAACxIB0t1+/AAAAWVJREFUeJzt29FtgzAYAOGm6juMkJHCBKzACIzACLBBRmAE2AA2YAO6\n",
       "AL+vRU5JpfsesZygkyXHIbnt+75/KPR59Q28OwMBAwEDAQMBAwEDAQOBrxwvsixLOPZ4PMKxeZ4P\n",
       "r9d1Hc7p+/6nt5WFKwgYCBgIGAgYCGTZxcZxPDUv2q2GYQjnuIu9GQMBAwEDAQMBA4HblU812rY9\n",
       "vJ7aylMH41dwBQEDAQMBAwEDAQOBLKf5lG3bwrFoO099j/3XXEHAQMBAwEDAQODlu1h0IM0951Vc\n",
       "QcBAwEDAQMBAwEAgyzafOpA+n89wrGmaw+tlWWa/j7Ov6QoCBgIGAgYCBgIGAlm2+WmawrF1XcOx\n",
       "+/1+eL3runBO6mND6rH02UfWriBgIGAgYCBgIGAgkGWbT52Ui6IIx6qq+vV7pf4qlfoIcJYrCBgI\n",
       "GAgYCBgIGAhc+kPy/8AVBAwEDAQMBAwEDAQMBAwEvgFzIkegFKKypAAAAABJRU5ErkJggg==\n",
       "\" />"
      ],
      "text/plain": [
       "<IPython.core.display.HTML object>"
      ]
     },
     "metadata": {},
     "output_type": "display_data"
    },
    {
     "data": {
      "text/html": [
       "<img style=\"display:inline\" src=\"data:image/png;base64,iVBORw0KGgoAAAANSUhEUgAAAEgAAABICAYAAABV7bNHAAAABHNCSVQICAgIfAhkiAAAAAlwSFlz\n",
       "AAALEgAACxIB0t1+/AAAAaJJREFUeJzt3MtKw0AYQOEkRE0FoWJFiujOreATWp/Rhe6UguKq2loQ\n",
       "7WV8gfw5NcbL4nzL+R0YTgdGRcxTSilTqPjrA/x3BgIGAgYCBgIGAgYCBgLlpl84Gl2Fs+VyO5yl\n",
       "FH8GRbEK1pfhnjzv/vva0egynHmDgIGAgYCBgIHAxq9Yk/n8MJxV1Syc7eWvtet3T+fhnuHwZvOD\n",
       "dcAbBAwEDAQMBAwEDAQ6eeb7/YdW+wYv89r15/7jd47TKW8QMBAwEDAQMBAwEOjkmW+yvYp/v3wx\n",
       "Hteuv57thHum2e63z/QV3iBgIGAgYCBgIPDjr9jpZBLOro+Pa9envd99qZp4g4CBgIGAgYCBgIFA\n",
       "J898Snk4u90/CWfT6bB2/SC7b3WOPIv/uCpl8RmbeIOAgYCBgIGAgYCBQCfP/Gq1Fc7W6/gzKMv3\n",
       "2vXZ7Cjc8/HR7if9weCu1T5vEDAQMBAwEDAQMBDo5JlvenoXiyqcVVX9H5KX5Vu4pyj64azXewln\n",
       "bXmDgIGAgYCBgIGAgUDuv8dp5g0CBgIGAgYCBgIGAgYCBgKfG3JBkQ6B6fwAAAAASUVORK5CYII=\n",
       "\" />"
      ],
      "text/plain": [
       "<IPython.core.display.HTML object>"
      ]
     },
     "metadata": {},
     "output_type": "display_data"
    },
    {
     "name": "stdout",
     "output_type": "stream",
     "text": [
      "==============================\n",
      "yhat=1 [0.000 0.994 0.006 0.000 0.000 0.000 0.000 0.000 0.000 0.000] (example 5)\n"
     ]
    },
    {
     "data": {
      "text/html": [
       "<img style=\"display:inline\" src=\"data:image/png;base64,iVBORw0KGgoAAAANSUhEUgAAAEgAAABICAYAAABV7bNHAAAABHNCSVQICAgIfAhkiAAAAAlwSFlz\n",
       "AAALEgAACxIB0t1+/AAAAVxJREFUeJzt2tGJg0AUQNFk2QIswVJSgiXYgZZgCZaQdBI7MB1oB1qB\n",
       "+73gmwubTMzCPZ8+RLkMDGZy3rZtOyn0dfQLfDoDAQMBAwEDAQMBAwEDge/cDyjLMpxdLpfd69fr\n",
       "Ncu7/IUrCBgIGAgYCBgIZN/FlmUJZ+M45n7801xBwEDAQMBAwEDAQOAl23xVVeFsXddw9ng8dq9P\n",
       "0xTek/r4zcEVBAwEDAQMBAwEDARess13XRfOiqIIZ7fbbfd66ivfbf7DGAgYCBgIGAicj/wLXrQj\n",
       "RSeup9P7T11dQcBAwEDAQMBAwEAg+9FzSrSd3+/3t75HiisIGAgYCBgIGAgYCGTf5tu2DWfRdj7P\n",
       "c3hP6pg7NavrOpyluIKAgYCBgIGAgYCBQPYf7VM/wA/DkPPRvzRNE876vg9nriBgIGAgYCBgIGAg\n",
       "cOjZ/H/gCgIGAgYCBgIGAgYCBgIGAj/Vuj2VTlFJOwAAAABJRU5ErkJggg==\n",
       "\" />"
      ],
      "text/plain": [
       "<IPython.core.display.HTML object>"
      ]
     },
     "metadata": {},
     "output_type": "display_data"
    },
    {
     "data": {
      "text/html": [
       "<img style=\"display:inline\" src=\"data:image/png;base64,iVBORw0KGgoAAAANSUhEUgAAAEgAAABICAYAAABV7bNHAAAABHNCSVQICAgIfAhkiAAAAAlwSFlz\n",
       "AAALEgAACxIB0t1+/AAAAZRJREFUeJzt3E9KQlEYQPGe9fpjSjMpnDgQZ05aTbvJFtUGoh0EQRFB\n",
       "QYSEQRZporw2cL93RJ7W4PyG9/Pi43DhIopZURTFlkK1v36A/85AwEDAQMBAwEDAQMBAYGfZFw4G\n",
       "Fyu9QetzHM7e6/Xk+nx76ceqxGBwHs48QcBAwEDAQMBAYO3XRW84DGc37XZy/eNgs7dYGU8QMBAw\n",
       "EDAQMBAwEKjkPv35OQxnD61WOLu6P0uu9/uX4Z5abbH8g1XAEwQMBAwEDAQMBAwEKrnm9/e+wtlz\n",
       "dhLOut3r5Pp/+jmFJwgYCBgIGAgYCFRyixVbWTjb3f0OZ8fzt+T603cn3NNspvesiycIGAgYCBgI\n",
       "GAgYCPzpd7y349Pk+qav8jKeIGAgYCBgIGAgYCCw9mv+aBJ/mh/l0+T6dNoM95xsv4SzfBF/LT06\n",
       "bISzMp4gYCBgIGAgYCBgILD2a74+m4WzTuMuuT7J83DP6yT943MyfOyttM8TBAwEDAQMBAwEDAQy\n",
       "/x6nnCcIGAgYCBgIGAgYCBgIGAj8Ao7/O3V4UtfmAAAAAElFTkSuQmCC\n",
       "\" />"
      ],
      "text/plain": [
       "<IPython.core.display.HTML object>"
      ]
     },
     "metadata": {},
     "output_type": "display_data"
    },
    {
     "name": "stdout",
     "output_type": "stream",
     "text": [
      "==============================\n",
      "yhat=5 [0.000 0.000 0.000 0.000 0.000 1.000 0.000 0.000 0.000 0.000] (example 6)\n"
     ]
    },
    {
     "data": {
      "text/html": [
       "<img style=\"display:inline\" src=\"data:image/png;base64,iVBORw0KGgoAAAANSUhEUgAAAEgAAABICAYAAABV7bNHAAAABHNCSVQICAgIfAhkiAAAAAlwSFlz\n",
       "AAALEgAACxIB0t1+/AAAAW5JREFUeJzt2uGNgkAUAOH1cgVQAh1ICdoBHVCClkAJlKAd2AHYAR1x\n",
       "DfB2TsKeXjLfTzYomWzy4uJhWZYlKfT17gf4dAYCBgIGAgYCBgIGAgYC36W/oO/7cG2aptXrz+dz\n",
       "03ddLpdwbRiGTZ/pDgIGAgYCBgIGAoc9jjuiaZRSSufz+eXPOx6P4drpdArXrtdruFbX9cvPkZI7\n",
       "CBkIGAgYCBgIGAjsMubbtg3X5nkO12632+r13Cj/a+4gYCBgIGAgYCBgILDLmXRuLOd+6Udjvmma\n",
       "8J6qqn75VPtwBwEDAQMBAwEDgV1+rObkJlz0BjV3Jp2biiUmnDsIGAgYCBgIGAgYCBQf8znRyM69\n",
       "rh7HMVwrcZbtDgIGAgYCBgIGAgYCxf8n/Xg8Nq1FPJP+MAYCBgIGAgYCBgLFx3zukP1+v69e77ou\n",
       "vCf3WroEdxAwEDAQMBAwEDAQeOuh/X/gDgIGAgYCBgIGAgYCBgIGAj81rUk78N3ccAAAAABJRU5E\n",
       "rkJggg==\n",
       "\" />"
      ],
      "text/plain": [
       "<IPython.core.display.HTML object>"
      ]
     },
     "metadata": {},
     "output_type": "display_data"
    },
    {
     "data": {
      "text/html": [
       "<img style=\"display:inline\" src=\"data:image/png;base64,iVBORw0KGgoAAAANSUhEUgAAAEgAAABICAYAAABV7bNHAAAABHNCSVQICAgIfAhkiAAAAAlwSFlz\n",
       "AAALEgAACxIB0t1+/AAAAalJREFUeJzt3M8uA1EYQHHTUR2EkjSkC6uKbfdeTj2bxNpC0oVILATR\n",
       "RKNEGv3nBeabM2qKxfkt72fSm+MmN4xIFovFYk2h2l9v4L8zEDAQMBAwEDAQMBAwEFgv+4W93vlS\n",
       "HzAYdMJZZ+c6d31ai79v/cfTcDadNuLP6lyGs17vLJx5goCBgIGAgYCBQOlbrMjm5DOc1evjcHbz\n",
       "2s1dP9m9Cp/pHlyEs1GWhbP5kmfBEwQMBAwEDAQMBAwEKrnmk8IXI/Gs1brNXX9Nt364o+p4goCB\n",
       "gIGAgYCBgIFAJdf8y7wVzkajw3DW3r7LXf+oxb9bTpLf/VsLTxAwEDAQMBAwEKjkFsuyt3DWbvfD\n",
       "2dFwmLv+sbERPnO/t19+YxXwBAEDAQMBAwEDAQOBSq75IkWvnh+azdz1bDIJn5nN0nCWprPyGyvJ\n",
       "EwQMBAwEDAQMBAwEVn7NJwWvnsf1eu560U/zaVL9VV7EEwQMBAwEDAQMBAwEVn7NPw+Ow1mj8Z67\n",
       "3tx9WtV2vs0TBAwEDAQMBAwEDAQS/z1OMU8QMBAwEDAQMBAwEDAQMBD4Ah/kPrdvJD8lAAAAAElF\n",
       "TkSuQmCC\n",
       "\" />"
      ],
      "text/plain": [
       "<IPython.core.display.HTML object>"
      ]
     },
     "metadata": {},
     "output_type": "display_data"
    },
    {
     "name": "stdout",
     "output_type": "stream",
     "text": [
      "==============================\n",
      "yhat=2 [0.000 0.000 0.998 0.002 0.000 0.000 0.000 0.000 0.000 0.000] (example 7)\n"
     ]
    },
    {
     "data": {
      "text/html": [
       "<img style=\"display:inline\" src=\"data:image/png;base64,iVBORw0KGgoAAAANSUhEUgAAAEgAAABICAYAAABV7bNHAAAABHNCSVQICAgIfAhkiAAAAAlwSFlz\n",
       "AAALEgAACxIB0t1+/AAAAWNJREFUeJzt2mFthDAAQOHdMgFIAAdIAAfgBAdYQAIScAASkIADcMAM\n",
       "0L7jLs1tyft+0pSRlyY9yh7neZ5fCvr+9AP8dQYCBgIGAgYCBgIGAgYCP6n/wLIswbG6rm/fb57n\n",
       "4FhVVbfvR1xBwEDAQMBAwEDgkfq4I7azZFl2e05sV5ym6cmnep4rCBgIGAgYCBgIGAgkf1ktyzI4\n",
       "1nXd5fV1XYNzjuN4+5nucAUBAwEDAQMBAwEDgeTb/DAMt+fE3spDJwCpuIKAgYCBgIGAgUDyXewV\n",
       "4zgGx0IvuKm4goCBgIGAgYCBgIFA8k/PMdu2XV4viiI4Z9/34FiKF1lXEDAQMBAwEDAQMBBIvs3H\n",
       "PhXneX77fk3TBMdi59+v/gRwBQEDAQMBAwEDAQOB5Nt87DNy27aX1/u+D86J/ffZq88R4woCBgIG\n",
       "AgYCBgIGAh89tP8PXEHAQMBAwEDAQMBAwEDAQOAXMC9Hu9loJUAAAAAASUVORK5CYII=\n",
       "\" />"
      ],
      "text/plain": [
       "<IPython.core.display.HTML object>"
      ]
     },
     "metadata": {},
     "output_type": "display_data"
    },
    {
     "data": {
      "text/html": [
       "<img style=\"display:inline\" src=\"data:image/png;base64,iVBORw0KGgoAAAANSUhEUgAAAEgAAABICAYAAABV7bNHAAAABHNCSVQICAgIfAhkiAAAAAlwSFlz\n",
       "AAALEgAACxIB0t1+/AAAAaBJREFUeJzt3L1KA0EUQOFZNYmKCUSDnYgvIFjb+WLGd/I1BAuL1GIh\n",
       "KqIY/wLJ2Frs3bNZWWJxvnJvhh0OAwPBWOScc1JobdUb+O8MBAwEDAQMBAwEDAQMBDbqfnA8vmj0\n",
       "gsVivWJW/vp+fgvXfHU64Synov7GfhmPz8OZJwgYCBgIGAgYCNS+xZqazbbD2ah4LH3+uNgP1+zl\n",
       "8jUppfTR7dXfWE2eIGAgYCBgIGAgYCDQ+jUfXeUppTTbKH99N72Ha/rvX+HMa34FDAQMBAwEDAQM\n",
       "BFq/5qe9zaXX7H3G30k/DAZ/2c7SPEHAQMBAwEDAQKD1W6yJ514/nO1W3HAvW/H33015goCBgIGA\n",
       "gYCBgIHASq/57++d0uen9zfhmuuDg7a2U8oTBAwEDAQMBAwEDARav+Zzjv92eTI5K33+NDoK12y9\n",
       "vIaz4fAunBXFIpxV8QQBAwEDAQMBAwEDgdav+fk8/vnS8fFl6fOqn1BNp6Nwdnt7Es4OD6/CWRVP\n",
       "EDAQMBAwEDAQMBAo/Pc41TxBwEDAQMBAwEDAQMBAwEDgB2k3QaD1B0dGAAAAAElFTkSuQmCC\n",
       "\" />"
      ],
      "text/plain": [
       "<IPython.core.display.HTML object>"
      ]
     },
     "metadata": {},
     "output_type": "display_data"
    },
    {
     "name": "stdout",
     "output_type": "stream",
     "text": [
      "==============================\n",
      "yhat=5 [0.000 0.000 0.000 0.000 0.000 1.000 0.000 0.000 0.000 0.000] (example 8)\n"
     ]
    },
    {
     "data": {
      "text/html": [
       "<img style=\"display:inline\" src=\"data:image/png;base64,iVBORw0KGgoAAAANSUhEUgAAAEgAAABICAYAAABV7bNHAAAABHNCSVQICAgIfAhkiAAAAAlwSFlz\n",
       "AAALEgAACxIB0t1+/AAAAW1JREFUeJzt2s1tg0AUAOE4SiGmArsEXIHpAEqgJEqgA0wHpgJcAh2Q\n",
       "Wy7x20niJU6k+Y5+4kejlVZavFvXdX1R6PXZL/DXGQgYCBgIGAgYCBgIGAi85bjJsizhrKqqcDaO\n",
       "Y47HfxiGIZyVZfmje7qCgIGAgYCBgIFAll3ser2Gs9ROVdf13d+bpgmvOR6PX36vHFxBwEDAQMBA\n",
       "wEDAQCDLNn+73cLZ4XAIZ13X5Xj8plxBwEDAQMBAwEDAQCDLNp8yTVM4i86J27YNr0mdcW/BFQQM\n",
       "BAwEDAQMBDb/sno+n799v9SZdOpZW3AFAQMBAwEDAQMBA4HdM/9pf7lc7v5+Op3Ca+Z5Dmf7/f7B\n",
       "N/rMFQQMBAwEDAQMBAwENt/mU5+lo/Pl1L/IfvtztSsIGAgYCBgIGAgYCGTZ5lNbeVEU4Sw60O/7\n",
       "/tFXysYVBAwEDAQMBAwEDASeemj/H7iCgIGAgYCBgIGAgYCBgIHAOxMHSS82N/xyAAAAAElFTkSu\n",
       "QmCC\n",
       "\" />"
      ],
      "text/plain": [
       "<IPython.core.display.HTML object>"
      ]
     },
     "metadata": {},
     "output_type": "display_data"
    },
    {
     "data": {
      "text/html": [
       "<img style=\"display:inline\" src=\"data:image/png;base64,iVBORw0KGgoAAAANSUhEUgAAAEgAAABICAYAAABV7bNHAAAABHNCSVQICAgIfAhkiAAAAAlwSFlz\n",
       "AAALEgAACxIB0t1+/AAAAbRJREFUeJzt3MtKw0AYhuGMCba20tAI1q4U1yJ4AV6b8eYE14ILd7Zg\n",
       "dCVELT2l4w3kzxfbEV28z3J+pwyvA6Ee6rz3PoJp768P8N8RSCCQQCCBQAKBBAIJBBKStl+Y57fm\n",
       "rKpic1YUF+bsMrurXV/F9us9FNfmLMsm5mwweDNneX5jzrhBAoEEAgkEEggktH6KNen7uTlL0xdz\n",
       "9lyd1a4PO4W55/z03px55+xZZM+acIMEAgkEEggkEEggkBDkMb9I7JfZbOw3nmn6Wru+DnOsILhB\n",
       "AoEEAgkEEggkEEgI8jydLw7NWVmemLPj/rR2/Svqm3uSZNn+YAFwgwQCCQQSCCQQSAj0rtD+ee94\n",
       "/GjOhrNZ7fpoXZp7JtlR+2MFwA0SCCQQSCCQQCCBQEKQx3yn87nVvrLbrV0/WK3MPd7b31PnNlud\n",
       "owk3SCCQQCCBQAKBBAIJv/47XhfZ/6+3NP4e+iPumXtiV+18pp/gBgkEEggkEEggkEAgIchjfr3e\n",
       "N2fT6ZU5G42eatd7vfedzxQKN0ggkEAggUACgQQCCY6Px2nGDRIIJBBIIJBAIIFAAoEEAgnfQ3ZB\n",
       "wGZcJ+YAAAAASUVORK5CYII=\n",
       "\" />"
      ],
      "text/plain": [
       "<IPython.core.display.HTML object>"
      ]
     },
     "metadata": {},
     "output_type": "display_data"
    },
    {
     "name": "stdout",
     "output_type": "stream",
     "text": [
      "==============================\n",
      "yhat=2 [0.000 0.000 0.997 0.003 0.000 0.000 0.000 0.000 0.000 0.000] (example 9)\n"
     ]
    },
    {
     "data": {
      "text/html": [
       "<img style=\"display:inline\" src=\"data:image/png;base64,iVBORw0KGgoAAAANSUhEUgAAAEgAAABICAYAAABV7bNHAAAABHNCSVQICAgIfAhkiAAAAAlwSFlz\n",
       "AAALEgAACxIB0t1+/AAAAWxJREFUeJzt2tFtgzAUQFFS9R82ICNkBEbICGSDjEA2YYSMwAiMQiag\n",
       "C/S9K4gjWumez1p2oitLLjGndV3XSqGvo7/AX2cgYCBgIGAgYCBgIGAg8F1ikWmawrHr9bp5vfv9\n",
       "Ho4Nw7B5vXe4g4CBgIGAgYCBwMdPsdfrtXm9x+MRjmWn4uVy2fxZxB0EDAQMBAwEDAQMBE4lbjWW\n",
       "ZQnHmqbZPO98PodzxnEMx/Y8GBN3EDAQMBAwEDAQMBAo8jSfHeV75nVdF87J/qX4BHcQMBAwEDAQ\n",
       "MBAo8rC61zzPv/49O8WiOVWVP+Tu5Q4CBgIGAgYCBgIGAh8/5ve8XJVdV7dtG45lL1f1fR+OZdxB\n",
       "wEDAQMBAwEDAQKDIb9LZdfDtdtu8Xl3X4Vj2FplvmB3AQMBAwEDAQMBAoMgxn10HZ0/f0bH8fD7f\n",
       "/k6luIOAgYCBgIGAgYCBwKF38/+BOwgYCBgIGAgYCBgIGAgYCPwABOFIpdIPGxEAAAAASUVORK5C\n",
       "YII=\n",
       "\" />"
      ],
      "text/plain": [
       "<IPython.core.display.HTML object>"
      ]
     },
     "metadata": {},
     "output_type": "display_data"
    },
    {
     "data": {
      "text/html": [
       "<img style=\"display:inline\" src=\"data:image/png;base64,iVBORw0KGgoAAAANSUhEUgAAAEgAAABICAYAAABV7bNHAAAABHNCSVQICAgIfAhkiAAAAAlwSFlz\n",
       "AAALEgAACxIB0t1+/AAAAa9JREFUeJzt3LFNw0AYhmH7HGI3wdAARQooMwMbsAaDYBZhAkZgCmoE\n",
       "DUigVAnCJonsY4H7/UXmQijep7wf4+TlpCOJIPXe+wQmt+8H8N8RSCCQQCCBQAKBBAIJBBJG235h\n",
       "Vd2aM+9Tc+bSzpx9rybB9SL/tO+V2PcaqqpuzBk7SCCQQCCBQAKBhK1PsT7L5ak5G48bc3biPoLr\n",
       "r4sL85rjwzdz1qXxf97sIIFAAoEEAgkEEggkRDnmy/J90HV1dxBcd+v2Nw8nKnaQQCCBQAKBBAIJ\n",
       "BBKiHPNDtS4Lrp+7Z/OauS/NmUvj/3rADhIIJBBIIJBAIGGvp1jWhU+dRVGY1xR+Zc7WO3g67CCB\n",
       "QAKBBAIJBBIIJOz8mG/b8AvSJEmSp5fL4Pp1d2de85Xn5uxxOjVn62zYU2UHCQQSCCQQSCCQQCAh\n",
       "yjG/2divvuv6yJw1TXh2f3bVczf77//K1v4IfJzVPd/Txg4SCCQQSCCQQCCBQEKUY75p7I+DJ5O5\n",
       "OZvNHoLro5H9xvxfYwcJBBIIJBBIIJBAICHl3+P0YwcJBBIIJBBIIJBAIIFAAoGEH+wJQ4pH/7hc\n",
       "AAAAAElFTkSuQmCC\n",
       "\" />"
      ],
      "text/plain": [
       "<IPython.core.display.HTML object>"
      ]
     },
     "metadata": {},
     "output_type": "display_data"
    },
    {
     "name": "stdout",
     "output_type": "stream",
     "text": [
      "==============================\n",
      "yhat=1 [0.000 0.987 0.010 0.002 0.000 0.000 0.000 0.000 0.000 0.000] (example 10)\n"
     ]
    },
    {
     "data": {
      "text/html": [
       "<img style=\"display:inline\" src=\"data:image/png;base64,iVBORw0KGgoAAAANSUhEUgAAAEgAAABICAYAAABV7bNHAAAABHNCSVQICAgIfAhkiAAAAAlwSFlz\n",
       "AAALEgAACxIB0t1+/AAAAUpJREFUeJzt22GJhFAUQOGdZQIYwQg2sYIRjGAEIxjBCNrACNpAE7gF\n",
       "vB6X4aED5/vpQ/ZxuHBhcF/7vu8/Cv3efYGnMxAwEDAQMBAwEDAQMBB4p/4DwzCEZ03THD5f1zV8\n",
       "p+u68Kwoiou3us4JAgYCBgIGAgYCybfYNE3h2TzPh8+XZQnfOdtibdtevdZlThAwEDAQMBAwEDAQ\n",
       "SL7m67oOz/q+P3x+tuazLPv4Tv/hBAEDAQMBAwEDAQOB5Gv+TFVVh8/HcQzfyfM8zWUCThAwEDAQ\n",
       "MBAwELh1i539Xv0UThAwEDAQMBAwEDAQ+Lo1n+IjqTNOEDAQMBAwEDAQMBC4dc2ffQ/9FE4QMBAw\n",
       "EDAQMBAwEHjd+X/z0ddi27aF75RlGZ5FX6x9wgkCBgIGAgYCBgIGAreu+W/gBAEDAQMBAwEDAQMB\n",
       "AwEDgT+mSDkJW1kb4gAAAABJRU5ErkJggg==\n",
       "\" />"
      ],
      "text/plain": [
       "<IPython.core.display.HTML object>"
      ]
     },
     "metadata": {},
     "output_type": "display_data"
    },
    {
     "data": {
      "text/html": [
       "<img style=\"display:inline\" src=\"data:image/png;base64,iVBORw0KGgoAAAANSUhEUgAAAEgAAABICAYAAABV7bNHAAAABHNCSVQICAgIfAhkiAAAAAlwSFlz\n",
       "AAALEgAACxIB0t1+/AAAAZdJREFUeJzt3L1KA0EUQOHEjdGAhhBBrBJUsLK18uGM7yZY2tgIgiik\n",
       "UEQMorD5YW0lzPWsLnEtzlfOzZDhMDBNSLMoiqKh0FrdB/jvDAQMBAwEDAQMBAwEDARaZT84Gp3/\n",
       "6gvai3k425inZ8fjcbjnYngUzrJsUf5gX4xGZ+HMGwQMBAwEDAQMBEq/Yr+1N5mEs3mWJdcvDw7D\n",
       "PdvTj3D2kW2UP1hJ3iBgIGAgYCBgIGAgsPJn/qG/E85ub0+T6938Kdyz37uufKaf8AYBAwEDAQMB\n",
       "AwEDgZU/898ZDK6S63m+Fe6ZrG2Hs1ZjWvlMy7xBwEDAQMBAwECg1lesX7wk1++nu+Gedvs9nLVa\n",
       "vmJ/zkDAQMBAwEDAQKDWZ/7m+SS53uvFP6DqZq/hLG+sVz7TMm8QMBAwEDAQMBAwEKj1me92H5Pr\n",
       "s1kn3LPYbK7qOEneIGAgYCBgIGAgYCBQ6zM/zO6S6++ddrhnMuuHs83srfKZlnmDgIGAgYCBgIGA\n",
       "gUDTv8f5njcIGAgYCBgIGAgYCBgIGAh8AuJLOY9BARc+AAAAAElFTkSuQmCC\n",
       "\" />"
      ],
      "text/plain": [
       "<IPython.core.display.HTML object>"
      ]
     },
     "metadata": {},
     "output_type": "display_data"
    },
    {
     "name": "stdout",
     "output_type": "stream",
     "text": [
      "==============================\n",
      "yhat=9 [0.000 0.002 0.000 0.000 0.002 0.001 0.000 0.000 0.014 0.980] (example 11)\n"
     ]
    },
    {
     "data": {
      "text/html": [
       "<img style=\"display:inline\" src=\"data:image/png;base64,iVBORw0KGgoAAAANSUhEUgAAAEgAAABICAYAAABV7bNHAAAABHNCSVQICAgIfAhkiAAAAAlwSFlz\n",
       "AAALEgAACxIB0t1+/AAAAW5JREFUeJzt28GNgkAYQGHcbAGWYAmUoB3YAS3YgdgJJdAB0IEdQAl0\n",
       "wN72svzzlMXFbN53ZDJm8jLJCOhumqYpU+hj6wW8OwMBAwEDAQMBAwEDAQOBz60XMKcsy3Csqqpw\n",
       "7Hg8LpqX4g4CBgIGAgYCBgKbnmKXy2X2+uFwCOecz+dw7H6//3ZJP7iDgIGAgYCBgIGAgcDLj/no\n",
       "KM+yLNvv90/PSd2Q5nn+8Loe5Q4CBgIGAgYCBgIGArs1frzQtm04djqdwrHr9fr053VdF471fR+O\n",
       "pZ4QpLiDgIGAgYCBgIHAKjer4zgumne73WavF0URzkk9d156UqW4g4CBgIGAgYCBgIHAKsd86nVw\n",
       "0zThWPR8ua7rcM7SrxRLuYOAgYCBgIGAgYCBwMtfPadeFUf++o49xR0EDAQMBAwEDAQMBN7y71DD\n",
       "MGy9hG/uIGAgYCBgIGAgYCCwyi/M/jN3EDAQMBAwEDAQMBAwEDAQ+AJ5jj79PmN/uQAAAABJRU5E\n",
       "rkJggg==\n",
       "\" />"
      ],
      "text/plain": [
       "<IPython.core.display.HTML object>"
      ]
     },
     "metadata": {},
     "output_type": "display_data"
    },
    {
     "data": {
      "text/html": [
       "<img style=\"display:inline\" src=\"data:image/png;base64,iVBORw0KGgoAAAANSUhEUgAAAEgAAABICAYAAABV7bNHAAAABHNCSVQICAgIfAhkiAAAAAlwSFlz\n",
       "AAALEgAACxIB0t1+/AAAAaBJREFUeJzt3NtKAlEYQOEcRzwlnaSrIAjsZXqo7NF6g6L78C6K7ICG\n",
       "oul0WzC/awpHu1jf5fxtGFYbNpNjlSzLsh2Fkm3fwH9nIGAgYCBgIGAgYCBgIJAW/cF+/6rM+/hh\n",
       "saiFs8PZezgb1vbDWZrOwlm/fxnO3EHAQMBAwEDAQKDwKVaGJFvmXk8r03DNsHYQziaTvXDW6TwV\n",
       "v7Fv3EHAQMBAwEDAQMBAoPRjfj5vhLMkmeder1YX4Zq724tw1utdF7+xgtxBwEDAQMBAwEDAQGAt\n",
       "x/xyWQ1no9FxOEuS/OO8Xh+Fa05ObsJZs/kWzv7KHQQMBAwEDAQMBNZyip29Poazae0lnN2np7nX\n",
       "z6eDcM24/RDOXqvtcPZX7iBgIGAgYCBgIGAgsJZjfnDUDWfdcfzg2WrlP1xOlvELVI15/t+xy+IO\n",
       "AgYCBgIGAgYCBgKlf/T8vNv59ZpkxXf8ZulmX4pzBwEDAQMBAwEDAQOBrb5IHvmo18PZZ7LZ36k7\n",
       "CBgIGAgYCBgIGAhU/Pc4q7mDgIGAgYCBgIGAgYCBgIHAF2FFP2f4XHZqAAAAAElFTkSuQmCC\n",
       "\" />"
      ],
      "text/plain": [
       "<IPython.core.display.HTML object>"
      ]
     },
     "metadata": {},
     "output_type": "display_data"
    },
    {
     "name": "stdout",
     "output_type": "stream",
     "text": [
      "==============================\n",
      "yhat=4 [0.000 0.000 0.000 0.000 1.000 0.000 0.000 0.000 0.000 0.000] (example 12)\n"
     ]
    },
    {
     "data": {
      "text/html": [
       "<img style=\"display:inline\" src=\"data:image/png;base64,iVBORw0KGgoAAAANSUhEUgAAAEgAAABICAYAAABV7bNHAAAABHNCSVQICAgIfAhkiAAAAAlwSFlz\n",
       "AAALEgAACxIB0t1+/AAAAXFJREFUeJzt3N1xglAQQOGYybstUIIlYAVagiXQCdABJWAHlmAJ0IEd\n",
       "kAbYPQNCzMP5Htm50TlzZ674k8M0TdOXQt+ffgL/nYGAgYCBgIGAgYCBgIHAz94P8Hw+w1lZlrPX\n",
       "m6YJ19xutzef0TLuIGAgYCBgIGAgsMkp9nq9wtn1eg1nRVEsuv4J7iBgIGAgYCBgIGAgsMkxn92Q\n",
       "juMYzqKb0vP5HK6p6zqcVVUVztZyBwEDAQMBAwEDAQOBTY75x+Oxal328iAyDEM46/s+nGXvKmTc\n",
       "QcBAwEDAQMBAYJNTLDtZMl3XLV7Ttu2qx/IU24mBgIGAgYCBgIHAJsd89l5w9rH0/X6fvX65XMI1\n",
       "2Zer9vjI2h0EDAQMBAwEDAQMBDY55k+nUzjLXgJEx3z29/7622fuIGAgYCBgIGAgYCCw+8+hsrv5\n",
       "4/E4ez36mdQnuIOAgYCBgIGAgYCBwMF/j5NzBwEDAQMBAwEDAQMBAwEDgV/RV0DdFZhdYwAAAABJ\n",
       "RU5ErkJggg==\n",
       "\" />"
      ],
      "text/plain": [
       "<IPython.core.display.HTML object>"
      ]
     },
     "metadata": {},
     "output_type": "display_data"
    },
    {
     "data": {
      "text/html": [
       "<img style=\"display:inline\" src=\"data:image/png;base64,iVBORw0KGgoAAAANSUhEUgAAAEgAAABICAYAAABV7bNHAAAABHNCSVQICAgIfAhkiAAAAAlwSFlz\n",
       "AAALEgAACxIB0t1+/AAAAa1JREFUeJzt3NFKwlAcx/F21jRsBCITFIKQLgp6iZ6s9Wo9QiDdiVDS\n",
       "xQpFCsNN1wuc/36yturi+7k8/+bky4HjIgvKsiyPYHJ//Qb+OwIJBBIIJBBIIJBAIIFAwvGhP5im\n",
       "97VucFLk5uxmsfCuP41G5jWfnW6t91ElTe/MGTtIIJBAIIFAAoGEg0+xuobrtTl76ffbvv2PsYME\n",
       "AgkEEggkEEggkNDIMV8U9gPkNLoyZ73eyrvuXGHfK7fvFUVf5qwudpBAIIFAAoEEAgkEEho55jeb\n",
       "M3O2XJ6bszh+867vdh3zGufs33Fn2cScJcnMnFVhBwkEEggkEEggkNDIKbbf2y8zGMzN2Wnuf7ic\n",
       "ry7Na6oeZMPQPuHqYgcJBBIIJBBIIJBAIKGRYz4Mt+ZsGL2as8fnW+96t/thXjMeT82ZcztzVhc7\n",
       "SCCQQCCBQAKBBAIJjRzzcfxuzvZ5YM6uLx6869uw9T98Oxg7SCCQQCCBQAKBBAIJrZ+nQcXX8idZ\n",
       "5l2fJYl5zW9/BGAHCQQSCCQQSCCQQCAh4N/jVGMHCQQSCCQQSCCQQCCBQAKBhG9BH0Ket1OXbgAA\n",
       "AABJRU5ErkJggg==\n",
       "\" />"
      ],
      "text/plain": [
       "<IPython.core.display.HTML object>"
      ]
     },
     "metadata": {},
     "output_type": "display_data"
    },
    {
     "name": "stdout",
     "output_type": "stream",
     "text": [
      "==============================\n",
      "yhat=0 [1.000 0.000 0.000 0.000 0.000 0.000 0.000 0.000 0.000 0.000] (example 13)\n"
     ]
    },
    {
     "data": {
      "text/html": [
       "<img style=\"display:inline\" src=\"data:image/png;base64,iVBORw0KGgoAAAANSUhEUgAAAEgAAABICAYAAABV7bNHAAAABHNCSVQICAgIfAhkiAAAAAlwSFlz\n",
       "AAALEgAACxIB0t1+/AAAAXBJREFUeJzt22GNgzAAQOHucgZAAhIYEoYVLAwJaJiFWZgFJICFSeAM\n",
       "rH2jV7K75H0/1zDIS5MGKKdt27agqK9PX8BfZyBgIGAgYCBgIGAgYCDwffQJ7vd7dGyappe/d123\n",
       "+5gQQqiq6v0Le5MzCBgIGAgYCBgInI5+3JGzsuSuRuu6Zh2X4gwCBgIGAgYCBgIGAkVuVud5jo41\n",
       "TRMdezweu891Pp+z/u9yuew+VwjOIGQgYCBgIGAgYCBQZJlPLa9930fHcu7ax3HMug6X+YMYCBgI\n",
       "GAgYCBRZxZ7PZ4m/ecsRb09TnEHAQMBAwEDAQMBAoMgyn3pOnNpAleN2u0XHrtdr0XOF4AxCBgIG\n",
       "AgYCBgIGAkV2mKXu5uu6jo4Nw/Dy99ROsWVZomPuMPsAAwEDAQMBAwEDgSJ386kH6anPl2Kvkdu2\n",
       "jR6TsyvtN5xBwEDAQMBAwEDAQODw78X+O2cQMBAwEDAQMBAwEDAQMBD4ARRsRIuLFUyWAAAAAElF\n",
       "TkSuQmCC\n",
       "\" />"
      ],
      "text/plain": [
       "<IPython.core.display.HTML object>"
      ]
     },
     "metadata": {},
     "output_type": "display_data"
    },
    {
     "data": {
      "text/html": [
       "<img style=\"display:inline\" src=\"data:image/png;base64,iVBORw0KGgoAAAANSUhEUgAAAEgAAABICAYAAABV7bNHAAAABHNCSVQICAgIfAhkiAAAAAlwSFlz\n",
       "AAALEgAACxIB0t1+/AAAAaFJREFUeJzt3GFLwkAcgPGds2FqRgT1cbPPG4FRKWrbehcF+98zx6Sg\n",
       "5/fSa+54OjjuiFLbtm2h0OS3J/DXGQgYCBgIGAgYCBgIGAhM+/7gev046AVlU4dj++ay+5nyGD4z\n",
       "SU041hap/8S+Wa8f4vcN+sZ/xEDAQMBAwECg9y42VMrcptR1FXx+ET7TtvHvdDZ77T+xnlxBwEDA\n",
       "QMBAwEDAQGCUbT4V8Va+2d2HY8vlc+fnuQPuy/Zu0DyGHmRdQcBAwEDAQMBAwEBglG3+fXsTjpXl\n",
       "x8nfV0/KcCx3Ys/NYz7fnDyPonAFIQMBAwEDAQOBUXaxpol3narajfGKLynFB9ncffVQriBgIGAg\n",
       "YCBgIGAgMMo2v1o8hWNvu9twrKq2J78rZa6Wl4vuO+6i8E76bAwEDAQMBAwEDARG2ebbzN6bMn/X\n",
       "XNfdtwD7/VX4zHR6CMcmVXzSH8oVBAwEDAQMBAwEDATG2eYzJ+XrKj5hH8ru169m8TPHdPa/ff/B\n",
       "FQQMBAwEDAQMBAwEkv8eJ88VBAwEDAQMBAwEDAQMBAwEPgEWx0auiVp7+wAAAABJRU5ErkJggg==\n",
       "\" />"
      ],
      "text/plain": [
       "<IPython.core.display.HTML object>"
      ]
     },
     "metadata": {},
     "output_type": "display_data"
    },
    {
     "name": "stdout",
     "output_type": "stream",
     "text": [
      "==============================\n",
      "yhat=4 [0.000 0.000 0.000 0.000 1.000 0.000 0.000 0.000 0.000 0.000] (example 14)\n"
     ]
    },
    {
     "data": {
      "text/html": [
       "<img style=\"display:inline\" src=\"data:image/png;base64,iVBORw0KGgoAAAANSUhEUgAAAEgAAABICAYAAABV7bNHAAAABHNCSVQICAgIfAhkiAAAAAlwSFlz\n",
       "AAALEgAACxIB0t1+/AAAAW5JREFUeJzt22GNg0AQQOHt5YRUQh1QCUhAQusACZWAA5BQHCABCXXA\n",
       "GejMCz0Id8n7frJpIC+TbOi2p2VZlqLQ19EP8NcZCBgIGAgYCBgIGAgYCHwfefPH47HqeimlzPO8\n",
       "09O85wQBAwEDAQMBA4Hdd7Hn8xmu3e/3t9f7vt/padZzgoCBgIGAgYCBgIHAae9TjfP5HK7Vdf32\n",
       "evaymmmaJly73W7h2uVyCdecIGAgYCBgIGAgYCCwyTafbctt24Zrr9dr9b2y7brruk3vVYoThAwE\n",
       "DAQMBAwENvlOehiGjz4X7XDZ6Wl2r+jl9zecIGAgYCBgIGAgYCCwyTZ/vV7DtWmawrXoWHocx/Az\n",
       "VVWFa59+l51xgoCBgIGAgYCBgIHA7kfPmejNPDtCzn6xlh0hf8oJAgYCBgIGAgYCBgKH/h0q2rKz\n",
       "X6XtsZVnnCBgIGAgYCBgIGAgcOjb/H/gBAEDAQMBAwEDAQMBAwEDgR8aNE6iQVTBNQAAAABJRU5E\n",
       "rkJggg==\n",
       "\" />"
      ],
      "text/plain": [
       "<IPython.core.display.HTML object>"
      ]
     },
     "metadata": {},
     "output_type": "display_data"
    },
    {
     "data": {
      "text/html": [
       "<img style=\"display:inline\" src=\"data:image/png;base64,iVBORw0KGgoAAAANSUhEUgAAAEgAAABICAYAAABV7bNHAAAABHNCSVQICAgIfAhkiAAAAAlwSFlz\n",
       "AAALEgAACxIB0t1+/AAAAahJREFUeJzt3MFKAlEYQOEZM9IshEJQxNxF+B49V/ZePUCbNkFuolWr\n",
       "WqgMpWiivcD8nhzGanG+5f0dZjhcuOhE6Waz2SQKVf76Af47AwEDAQMBAwEDAQMBA4HqTz84HN6W\n",
       "fvOz2Wfu+jpNw2um9ePSn2M4vAln7iBgIGAgYCBgIPDjU6yo2uornFXW69z1Wa22r8fZmTsIGAgY\n",
       "CBgIGAgYCOz9mP9ITsLZ5OA8d71ezQrdK03iFzSLZbEvue4gYCBgIGAgYCBgIFDKMb9YNMJZlrXD\n",
       "Wav1svO9th3lT6PrcDYY3O18ryRxByEDAQMBAwEDgVJOseWWL4L1+jScRSfSZNoNr1mtjsJZr/cY\n",
       "zopyBwEDAQMBAwEDAQOBUo758fginF1278PZ6/tV7nqWdcJrOp1ROGs0xuGsKHcQMBAwEDAQMBAw\n",
       "ECjlmO/3H8LZIjkMZ+3Wc+56s/kWXnNajX8dWO7hTbo7CBgIGAgYCBgIGAjs/S/MtmnO57nrlVr8\n",
       "enlZ+d1HdgcBAwEDAQMBAwEDgdR/j7OdOwgYCBgIGAgYCBgIGAgYCHwD+nk/vj6YqN0AAAAASUVO\n",
       "RK5CYII=\n",
       "\" />"
      ],
      "text/plain": [
       "<IPython.core.display.HTML object>"
      ]
     },
     "metadata": {},
     "output_type": "display_data"
    },
    {
     "name": "stdout",
     "output_type": "stream",
     "text": [
      "==============================\n",
      "yhat=2 [0.000 0.000 1.000 0.000 0.000 0.000 0.000 0.000 0.000 0.000] (example 15)\n"
     ]
    },
    {
     "data": {
      "text/html": [
       "<img style=\"display:inline\" src=\"data:image/png;base64,iVBORw0KGgoAAAANSUhEUgAAAEgAAABICAYAAABV7bNHAAAABHNCSVQICAgIfAhkiAAAAAlwSFlz\n",
       "AAALEgAACxIB0t1+/AAAAWtJREFUeJzt22Ftg0AcQHFYJgAJSKgEJNQBSEACDrAAEuoACUhAAg7Y\n",
       "5yX93ytbL2zJ+33k0nJ5ueTaoy2P4zgKhT6unsBfZyBgIGAgYCBgIGAgYCDwmfsG9/s9HHs8Hk+v\n",
       "t20bvmaapt9O6RRXEDAQMBAwEDAQeMsultpZlmU5/X7zPIdjTdOEY13Xnb4XcQUBAwEDAQMBAwED\n",
       "gfLKpxrbtj293vd9+Jp938Oxn3ykIK4gYCBgIGAgYCBgIJD9TDqlrutT14uiKKqqyjOZgCsIGAgY\n",
       "CBgIGAhcuotFXy5TZ9zruuaZTMAVBAwEDAQMBAwEDATess2nzomHYQjHou089Qg5da8cXEHAQMBA\n",
       "wEDAQMBAIPuj57Isc779N+M4hmOpx9kpriBgIGAgYCBgIGAgkP3QPvXXpugAPvUXqtQPyW+328vz\n",
       "epUrCBgIGAgYCBgIGAhc+kPy/8AVBAwEDAQMBAwEDAQMBAwEvgCJvEHZzhHF+gAAAABJRU5ErkJg\n",
       "gg==\n",
       "\" />"
      ],
      "text/plain": [
       "<IPython.core.display.HTML object>"
      ]
     },
     "metadata": {},
     "output_type": "display_data"
    },
    {
     "data": {
      "text/html": [
       "<img style=\"display:inline\" src=\"data:image/png;base64,iVBORw0KGgoAAAANSUhEUgAAAEgAAABICAYAAABV7bNHAAAABHNCSVQICAgIfAhkiAAAAAlwSFlz\n",
       "AAALEgAACxIB0t1+/AAAAZtJREFUeJzt3EFOwlAUQNFCS2LaoOjEBRjW4ED3Zt2XM2fuQUc60IGo\n",
       "CQQDpW6grxcLDcbcM+z30+b6kxcIOqjruk4UGh76Af46AwEDAQMBAwEDAQMBA4Fs2x8sy9tON1it\n",
       "jsK1zSZtvD4aLcM9w2HV6TnalOVNfL+93+2fMRAwEDAQMBDYeoq1mc/P4htk3+FakX02Xn+dXYR7\n",
       "zk+fwrX1sHkq7sITBAwEDAQMBAwEDAT2MuaL4r3bxuB953j8Fm4ZL+M3srO86PYcLTxBwEDAQMBA\n",
       "wEDAQGAvY76rddp8++P6K9zTxyhv4wkCBgIGAgYCBgIHnWJZtW68vsxGv96TJPFU3IUnCBgIGAgY\n",
       "CBgIGAj0PubrOv4dPD5fNl6/OrkL98zyPFxzzB+AgYCBgIGAgYCBQO9jvu170ovFpPH6w+g6fsFF\n",
       "vDSZvIRref4Rb2zhCQIGAgYCBgIGAgYCvY/5qoo/gJ9O74OVQbgn+hOqJEmSNI2/tN6VJwgYCBgI\n",
       "GAgYCBgIDPz3OO08QcBAwEDAQMBAwEDAQMBA4AdEkj6zlwuLaQAAAABJRU5ErkJggg==\n",
       "\" />"
      ],
      "text/plain": [
       "<IPython.core.display.HTML object>"
      ]
     },
     "metadata": {},
     "output_type": "display_data"
    },
    {
     "name": "stdout",
     "output_type": "stream",
     "text": [
      "==============================\n",
      "yhat=3 [0.000 0.000 0.000 1.000 0.000 0.000 0.000 0.000 0.000 0.000] (example 16)\n"
     ]
    },
    {
     "data": {
      "text/html": [
       "<img style=\"display:inline\" src=\"data:image/png;base64,iVBORw0KGgoAAAANSUhEUgAAAEgAAABICAYAAABV7bNHAAAABHNCSVQICAgIfAhkiAAAAAlwSFlz\n",
       "AAALEgAACxIB0t1+/AAAAXlJREFUeJzt21GRglAYQOF1ZwMYwQg0EBpgAolAA4xgBCNoA5qgDWjA\n",
       "FuC/RwRGHs73yD8oc+bO3AFxNwzD8KPQ77cvYOsMBAwEDAQMBAwEDAQMBP7W/oLL5RLObrfb6PG+\n",
       "78NzrtdrOKuq6s2rep8rCBgIGAgYCBgI7JZ43NG2bTgriiKcHY/H0ePP5zM8J8uycHa/38PZp1xB\n",
       "wEDAQMBAwEDAQGD1m9WmacJZXdejx1NbeZ7ncy9pElcQMBAwEDAQMBAwEFhkm09tvanZ4XAYPf56\n",
       "vSafsxZXEDAQMBAwEDAQWP1mNSW6KU3tYqfTKZx1XRfOPt39XEHAQMBAwEDAQMBAYJGfnpeWeoEq\n",
       "tV2nXtaKnn8TVxAwEDAQMBAwEDAQWP1uPvX2WfTOc+qn5/1+P/eSJnEFAQMBAwEDAQMBA4HV7+bL\n",
       "sgxnj8dj8uedz+dwFv29ag5XEDAQMBAwEDAQMBDY5EP7LXEFAQMBAwEDAQMBAwEDAQOBfxKPR1Xn\n",
       "LyiCAAAAAElFTkSuQmCC\n",
       "\" />"
      ],
      "text/plain": [
       "<IPython.core.display.HTML object>"
      ]
     },
     "metadata": {},
     "output_type": "display_data"
    },
    {
     "data": {
      "text/html": [
       "<img style=\"display:inline\" src=\"data:image/png;base64,iVBORw0KGgoAAAANSUhEUgAAAEgAAABICAYAAABV7bNHAAAABHNCSVQICAgIfAhkiAAAAAlwSFlz\n",
       "AAALEgAACxIB0t1+/AAAAa1JREFUeJzt3FFLwlAYh/HNNodlKI2ikKBP0E0fsPUZg+4CvRhIkGWt\n",
       "Beo83XpxXv9zTuzi+V3u7eDh6cChIYXOORfA1Dn2Bv47AgkEEggkEEggkEAggUBCVPcHs+yp0Qd0\n",
       "q5U5K6pz7/M8vzfXjEbP9md1y/ob25Blj+aMEyQQSCCQQCCBQELtW2ybxeLUnJWrxJwlSeF9nqZj\n",
       "c41zYe19tYETJBBIIJBAIIFAAoGEVq75XvRtzu7mY3M2SS68z8twba65qd7M2Sw4M2dNcYIEAgkE\n",
       "EggkEEggkNDKNV91TszZ6+WVObv9mHmfz7v2mnhlv+M+BE6QQCCBQAKBBAIJrdxiTeXDofe5+7Hf\n",
       "Oy8je8thYH+b0AXN3mVzggQCCQQSCCQQSCCQcNRrfh36fz/9/ru55mX6YM56y09zNhhM629sAydI\n",
       "IJBAIIFAAoEEAgkHv+a3/YWdFv5vmOXxtbkmjn/33tMuOEECgQQCCQQSCCQQSDj4NT//sq/s0rqy\n",
       "7S+YBWk62XNHu+EECQQSCCQQSCCQQCAh5N/jbMcJEggkEEggkEAggUACgQQCCX+EsENaVCLMTQAA\n",
       "AABJRU5ErkJggg==\n",
       "\" />"
      ],
      "text/plain": [
       "<IPython.core.display.HTML object>"
      ]
     },
     "metadata": {},
     "output_type": "display_data"
    },
    {
     "name": "stdout",
     "output_type": "stream",
     "text": [
      "==============================\n",
      "yhat=7 [0.000 0.000 0.000 0.000 0.000 0.000 0.000 1.000 0.000 0.000] (example 17)\n"
     ]
    },
    {
     "data": {
      "text/html": [
       "<img style=\"display:inline\" src=\"data:image/png;base64,iVBORw0KGgoAAAANSUhEUgAAAEgAAABICAYAAABV7bNHAAAABHNCSVQICAgIfAhkiAAAAAlwSFlz\n",
       "AAALEgAACxIB0t1+/AAAAWNJREFUeJzt21GNg0AUQNHtZgXggDoACyiilVAFRQISkIADkIAEqoA1\n",
       "0DeXkhL4uOeTF7aTm0nYAr0sy7L8KPR79ALOzkDAQMBAwEDAQMBAwEDgb+8PaJomnN3v969+VlEU\n",
       "4Wwcx01/0x0EDAQMBAwEDAR2v4rN8xzO6rp+ezzLsvCc1FVxmqbV61rLHQQMBAwEDAQMBAwELmd8\n",
       "qtH3fTirqiqcPZ/PcHa73TatxR0EDAQMBAwEDAQMBHb/Np+6ZEez1Dkp1+t103kp7iBgIGAgYCBg\n",
       "IPCVq1jqqWXqy+UWeZ6HM+9JH8BAwEDAQMBAwEBg93vSqX8Buq57e/zxeITnDMMQzsqyXL+wldxB\n",
       "wEDAQMBAwEDAQODQR8/Rm2Spe8tb33feyh0EDAQMBAwEDAQMBA79OdTr9Xp7vG3bnVbzOXcQMBAw\n",
       "EDAQMBAwEDjli+Rn4g4CBgIGAgYCBgIGAgYCBgL/SCtI0ha6OBAAAAAASUVORK5CYII=\n",
       "\" />"
      ],
      "text/plain": [
       "<IPython.core.display.HTML object>"
      ]
     },
     "metadata": {},
     "output_type": "display_data"
    },
    {
     "data": {
      "text/html": [
       "<img style=\"display:inline\" src=\"data:image/png;base64,iVBORw0KGgoAAAANSUhEUgAAAEgAAABICAYAAABV7bNHAAAABHNCSVQICAgIfAhkiAAAAAlwSFlz\n",
       "AAALEgAACxIB0t1+/AAAAbJJREFUeJzt3DFPwkAYh/HjICUGEaQ6yUDcXZz9btav5uTK7iAkGpTo\n",
       "YIJYaKmD6739Q6Xq8PzGvl5aHy+5GKqNoigKB5P/6wf47wgkEEggkEAggUACgQQCCa1tvzBJbird\n",
       "IMsic7bZhG+fph1zTb8zM2eTp0tzNhyOzVmSXJszdpBAIIFAAoEEAglbn2JVWSeVc855nwWvr1b2\n",
       "KRa7hTk7Pbo1ZzPXM2dl2EECgQQCCQQSCCQQSKj9mI+ij53XxPGDOZt+nlW6l3f5zs/xvQ6lCCQQ\n",
       "SCCQQCCBQELtx7wvNubsfD4PXp/GsbnmdTEwZ+v1gTnrdl/MWRl2kEAggUACgQQCCXs5xbKsXWnd\n",
       "Mgp/6vr8PjLXpOmhOctz+9vhFKsJgQQCCQQSCCQQSNjLMd9qpeas7JfV+/YoeL3TfDPXnPQm5iz3\n",
       "TXNWFTtIIJBAIIFAAoEEAgn1v2HWsH8Gy2X4ra8Lb7/T/Ng//vEz7YIdJBBIIJBAIIFAAoGE2o/5\n",
       "sj9tukrvgtenA/vj5d/GDhIIJBBIIJBAIIFAQoN/j1OOHSQQSCCQQCCBQAKBBAIJBBK+AJz+SHQW\n",
       "IE1IAAAAAElFTkSuQmCC\n",
       "\" />"
      ],
      "text/plain": [
       "<IPython.core.display.HTML object>"
      ]
     },
     "metadata": {},
     "output_type": "display_data"
    },
    {
     "name": "stdout",
     "output_type": "stream",
     "text": [
      "==============================\n",
      "yhat=8 [0.000 0.000 0.000 0.000 0.000 0.000 0.000 0.000 0.999 0.001] (example 18)\n"
     ]
    },
    {
     "data": {
      "text/html": [
       "<img style=\"display:inline\" src=\"data:image/png;base64,iVBORw0KGgoAAAANSUhEUgAAAEgAAABICAYAAABV7bNHAAAABHNCSVQICAgIfAhkiAAAAAlwSFlz\n",
       "AAALEgAACxIB0t1+/AAAAWRJREFUeJzt2mGNg0AQQGF6OSFIwEGRgIRKQAISkIADLICD1gES6oAz\n",
       "0JmXbkroJe/72Qmhedlku9DLvu97pdDP2V/g2xkIGAgYCBgIGAgYCBgI/B59g/v9Hs76vn/7mrZt\n",
       "w9k4juGsrutwlnEFAQMBAwEDAQOBy9GPO7quC2fbtr38/Ha7hddM01R0r2EYwlnGFQQMBAwEDAQM\n",
       "BAwEPnJYzQ6Jy7KEs2ibL7mmqvJtvpQrCBgIGAgYCBgIGAh85DT/fD7DWbb1ruv69r3meS66VylX\n",
       "EDAQMBAwEDAQOPyZdKZpmpefZwfSTPZG1jerBzEQMBAwEDAQMBA4/A9UJVt2dvjNXku7zZ/AQMBA\n",
       "wEDAQMBA4NRtPtp6s1fP2U+AbFbKFQQMBAwEDAQMBAwEDn9oX/KPsMfjEV5zvV7DWfbzoJQrCBgI\n",
       "GAgYCBgIGAic+m7+P3AFAQMBAwEDAQMBAwEDAQOBPy91YxvkKvO8AAAAAElFTkSuQmCC\n",
       "\" />"
      ],
      "text/plain": [
       "<IPython.core.display.HTML object>"
      ]
     },
     "metadata": {},
     "output_type": "display_data"
    },
    {
     "data": {
      "text/html": [
       "<img style=\"display:inline\" src=\"data:image/png;base64,iVBORw0KGgoAAAANSUhEUgAAAEgAAABICAYAAABV7bNHAAAABHNCSVQICAgIfAhkiAAAAAlwSFlz\n",
       "AAALEgAACxIB0t1+/AAAAdFJREFUeJzt3MtKw0AYhuHJoQcwHgJKwY2gLty78uqsd+ZduBDRoqgU\n",
       "BbHVWkkbb2C+fKW06uJ9lvMbbF8HhtjQpK7rOkBK//oF/HcEMghkEMggkEEgg0AGgYx80R/s9y+W\n",
       "+gXZfCZn5edndP25uyuv2Z6/y9ks1X/vr7wlZ/3+uZyxgwwCGQQyCGQQyFj4FFvWd92Vs3F3Hl3v\n",
       "TV/lNYP6QM5arS856+QfctaEHWQQyCCQQSCDQAaBjJUc83WtO49Ge3KW7TxG16uGm852NZGzNK3k\n",
       "bFnsIINABoEMAhkEMghkrOSYTxP9f+deMZCzm4fT6PrZxqW85mlbv44qzfRwSewgg0AGgQwCGQQy\n",
       "VnOzGhI5mzZ8otnpjKPrd1v6BvfwbShnL0UhZx/tjpw1YQcZBDIIZBDIIJBBIGPtHz1XlT5ei+Il\n",
       "up5l+ub3qnssZ+00/kBWCCHkYSpnTdhBBoEMAhkEMghkEMj4hWO+LWcnk9vo+jDflNdMkvhTaSGE\n",
       "MJvpt5PnHPNrQSCDQAaBDAIZBDLWfsyXmX4o/L4so+vD1yN5zX55LWff2erfDjvIIJBBIINABoEM\n",
       "AhkJX4/TjB1kEMggkEEgg0AGgQwCGQQyfgC0tE1walDG4gAAAABJRU5ErkJggg==\n",
       "\" />"
      ],
      "text/plain": [
       "<IPython.core.display.HTML object>"
      ]
     },
     "metadata": {},
     "output_type": "display_data"
    },
    {
     "name": "stdout",
     "output_type": "stream",
     "text": [
      "==============================\n",
      "yhat=8 [0.000 0.000 0.000 0.000 0.000 0.000 0.000 0.000 1.000 0.000] (example 19)\n"
     ]
    },
    {
     "data": {
      "text/html": [
       "<img style=\"display:inline\" src=\"data:image/png;base64,iVBORw0KGgoAAAANSUhEUgAAAEgAAABICAYAAABV7bNHAAAABHNCSVQICAgIfAhkiAAAAAlwSFlz\n",
       "AAALEgAACxIB0t1+/AAAAXtJREFUeJzt2mGNwkAUAOHlcgKQUBwgARwgoRLqBAuVgIMiAQmtAxz0\n",
       "DPDeXMs2xyXz/WSzQCabbNvtbp7nuSj09dd/4NMZCBgIGAgYCBgIGAgYCHzX+JLn8xmOnU6nxfPu\n",
       "93s4p2maX/6rOlxBwEDAQMBAwECgyi7W9304lu1wl8vl5eePxyOc4y72YQwEDAQMBAwEDASqbPP7\n",
       "/X7VWNu2Lz/vui6ck102ZJcA2U1zxhUEDAQMBAwEDAQMBHY1Xl7Itt7j8RiORdvyOI7hnGmawrFh\n",
       "GMIxt/mNGAgYCBgIGAhsfrOanZIeDofFv3W9XsOxtTtVxhUEDAQMBAwEDAQMBKrcrGai4+VS4iPm\n",
       "6Fl1KaXcbrfF3/cOVxAwEDAQMBAwEDAQqLLNZ3fs5/M5HIueIa89Qt7i/WpXEDAQMBAwEDAQMBDY\n",
       "/Og5u5uPjpizQ4Ds7bPsKcBariBgIGAgYCBgIGAgsPlD+//OFQQMBAwEDAQMBAwEDAQMBH4AOHZc\n",
       "6zEr4j4AAAAASUVORK5CYII=\n",
       "\" />"
      ],
      "text/plain": [
       "<IPython.core.display.HTML object>"
      ]
     },
     "metadata": {},
     "output_type": "display_data"
    },
    {
     "data": {
      "text/html": [
       "<img style=\"display:inline\" src=\"data:image/png;base64,iVBORw0KGgoAAAANSUhEUgAAAEgAAABICAYAAABV7bNHAAAABHNCSVQICAgIfAhkiAAAAAlwSFlz\n",
       "AAALEgAACxIB0t1+/AAAAchJREFUeJzt3E1OwlAYheHbQlv5USRxwMCRE9fg6sTluQLjzJgwxBCS\n",
       "YoH+uIGenmpqdPA+w37WkNeb3F4kRE3TNAFS/Ncv4L8jkEEgg0AGgQwCGQQyCGSM+/7gev2kf0ld\n",
       "yVlWlt+ebSdzeU8UDf9cu14/yhkryCCQQSCDQAaBjN67WJcyHslZEU/kbJodWq/Pz4W8J0+z/i9s\n",
       "AKwgg0AGgQwCGQQyCGQMs82XqZwVxaWcJfNj6/VjnMh7qlLP6lo/bqTpp5x1YQUZBDIIZBDIIJBB\n",
       "IGOQbT4Zt2/XIYSwTPZy9ra9b71+N32R9zRRJGd5qh83qqAfAbqwggwCGQQyCGQQyBhkF2uC3lkO\n",
       "iT5cnk6z1uvbxbW85+a8k7Oq473xn2IFGQQyCGQQyCCQQSBjkG2+yy5fydlq1X4oLUv97+VNfStn\n",
       "s/DR/4X1xAoyCGQQyCCQQSCDQMYg23zc1HKmTuwhhLA4vrdez1P92epzdCFnVaVP86OR/ix3F1aQ\n",
       "QSCDQAaBDAIZBDJ+/TT/UD3L2WvWftLf7/U7AMurjZzV0fB/b1aQQSCDQAaBDAIZBDIivh6nGyvI\n",
       "IJBBIINABoEMAhkEMghkfAFWe0+NUnXSjAAAAABJRU5ErkJggg==\n",
       "\" />"
      ],
      "text/plain": [
       "<IPython.core.display.HTML object>"
      ]
     },
     "metadata": {},
     "output_type": "display_data"
    },
    {
     "name": "stdout",
     "output_type": "stream",
     "text": [
      "==============================\n",
      "yhat=4 [0.000 0.000 0.000 0.000 1.000 0.000 0.000 0.000 0.000 0.000] (example 20)\n"
     ]
    },
    {
     "data": {
      "text/html": [
       "<img style=\"display:inline\" src=\"data:image/png;base64,iVBORw0KGgoAAAANSUhEUgAAAEgAAABICAYAAABV7bNHAAAABHNCSVQICAgIfAhkiAAAAAlwSFlz\n",
       "AAALEgAACxIB0t1+/AAAAUxJREFUeJzt29ENgjAYAGFrHIQNYARGYBRGYCQ2IGzACIzABrgAf0+J\n",
       "FR7ue6RRyaVJbdG07/v+UOh59Q3cnYGAgYCBgIGAgYCBgIHA68oPX9f18Hrbtl+/phRnEDAQMBAw\n",
       "EDAQuHQVG4bh8HrXdf+9kQxnEDAQMBAwEDAQMBBIpZ9qbNsWjlVVdXi97/vwNcuyhGPjOH58X59y\n",
       "BgEDAQMBAwEDAQOB4rv53M482s3nluvceXUJziBgIGAgYCBgIPCTVSy36szz/PX75TakuSerTdOE\n",
       "Y2fPuZ1BwEDAQMBAwEDAQOAny3xuWa7rOhyLluXcV4PoHJvGznIGAQMBAwEDAQMBA4Hij57PSCmF\n",
       "Y9M0hWMlzqudQcBAwEDAQMBAwEDg0h+Sn+HfoW7GQMBAwEDAQMBA4JbL/J0OGJxBwEDAQMBAwEDA\n",
       "QMBAwEDgDRlSPVCc3DoJAAAAAElFTkSuQmCC\n",
       "\" />"
      ],
      "text/plain": [
       "<IPython.core.display.HTML object>"
      ]
     },
     "metadata": {},
     "output_type": "display_data"
    },
    {
     "data": {
      "text/html": [
       "<img style=\"display:inline\" src=\"data:image/png;base64,iVBORw0KGgoAAAANSUhEUgAAAEgAAABICAYAAABV7bNHAAAABHNCSVQICAgIfAhkiAAAAAlwSFlz\n",
       "AAALEgAACxIB0t1+/AAAAZ1JREFUeJzt3MFKQkEYQOGrpoaSiwqNNgm6adGiJ8zeLdq2DGqVIFib\n",
       "wBSvmt1e4P4ek2u1ON9y/oaGw8AIRqUsy7JEofJfH+C/MxAwEDAQMBAwEDAQMBA42PYHB4Pbwn95\n",
       "/XOVu96ZTMI9w+OTws8xGNyEM28QMBAwEDAQMBDY+hXbh9p6nbueVqu/fJKYNwgYCBgIGAgYCBgI\n",
       "7P2Zz7JSOBstLnLXzw6H4Z7KV/5HgyRJknW5sv3BtuQNAgYCBgIGAgYCBgJ7f+ZHo6tw1j1/yF1f\n",
       "bDjWKqmFs3ISfwTYlTcIGAgYCBgIGAgU8opNp/G3nY3GezhrpWnu+su6G+5ZLpvhrFqdx7+r9RrO\n",
       "NvEGAQMBAwEDAQMBA4FCnvnx+DKc9Xr34ezx7Tp3PU2Pwj3t9nM4q9dn4WxX3iBgIGAgYCBgIGAg\n",
       "UMgz3+/f7bSv03n68Z7mchHOZuX6TufYxBsEDAQMBAwEDAQMBP70D8kjp9OPcDavxV8974M3CBgI\n",
       "GAgYCBgIGAiU/Pc4m3mDgIGAgYCBgIGAgYCBgIHAN8tvPZ///TCaAAAAAElFTkSuQmCC\n",
       "\" />"
      ],
      "text/plain": [
       "<IPython.core.display.HTML object>"
      ]
     },
     "metadata": {},
     "output_type": "display_data"
    },
    {
     "name": "stdout",
     "output_type": "stream",
     "text": [
      "==============================\n",
      "yhat=3 [0.000 0.000 0.000 1.000 0.000 0.000 0.000 0.000 0.000 0.000] (example 21)\n"
     ]
    },
    {
     "data": {
      "text/html": [
       "<img style=\"display:inline\" src=\"data:image/png;base64,iVBORw0KGgoAAAANSUhEUgAAAEgAAABICAYAAABV7bNHAAAABHNCSVQICAgIfAhkiAAAAAlwSFlz\n",
       "AAALEgAACxIB0t1+/AAAAWRJREFUeJzt2sFtg0AUANE4yh2XQAm0QAfuBEpwB4hO7A6gAlyCSzAV\n",
       "kAbyd8Taq3CYd/TXEjRaaQXktG3b9qXQ93/fwNEZCBgIGAgYCBgIGAgYCPx84iKPxyOc9X2/e926\n",
       "rln3sSxLOGuaJuua7iBgIGAgYCBgIFD8FJvnOZx1Xbf7b43jmHUfnmKFGAgYCBgIGAgYCJxKf9XI\n",
       "OXovl0u4ZpqmcPZ8PsPZ+XwOZynuIGAgYCBgIGAgYCDwkaf5lNRTdHRk3+/3cM0wDOEs9yhPcQcB\n",
       "AwEDAQMBA4Hip1hK6kE2kvtuOZc7CBgIGAgYCBgIGAgUfyedI3WU13Udzm6328fvxR0EDAQMBAwE\n",
       "DAQMBIo/zac+Fb9erz9/T31CjtaU4g4CBgIGAgYCBgIGAsX/kbxt293Xq6oqnF2v193Xe4c7CBgI\n",
       "GAgYCBgIGAgc8qX9kbiDgIGAgYCBgIGAgYCBgIHAL3txTFy0VLelAAAAAElFTkSuQmCC\n",
       "\" />"
      ],
      "text/plain": [
       "<IPython.core.display.HTML object>"
      ]
     },
     "metadata": {},
     "output_type": "display_data"
    },
    {
     "data": {
      "text/html": [
       "<img style=\"display:inline\" src=\"data:image/png;base64,iVBORw0KGgoAAAANSUhEUgAAAEgAAABICAYAAABV7bNHAAAABHNCSVQICAgIfAhkiAAAAAlwSFlz\n",
       "AAALEgAACxIB0t1+/AAAAaxJREFUeJzt3MFOwkAYReHWIiAQSFBwgVv3vqH1KV0QF8YEDYnGKLEi\n",
       "rfUF5s4l2gYX51v2Z5CcTDKhVtO6rusE0tGhP8B/RyCDQAaBDAIZBDIIZBDI6Oz7wjy/kbPtdiRn\n",
       "i92jnK2658Hr6/WlXDOfL+XspPMuZ9VRJmd5fi1n7CCDQAaBDAIZBDL2PsViqkq/zUO2kLP+8SZ4\n",
       "fTa7i/w0fXfmrZjJ2XD4EnlPjR1kEMggkEEgg0AGgYxGjvnB4FXORttPOduk/eD13a4n11wVt3K2\n",
       "PAt/+f0LdpBBIINABoEMAhkEMho55mM2vfBRniRJ0vmugtfrWt8//sr0LE2bfw6DHWQQyCCQQSCD\n",
       "QEbrp1jMRxn+jWxRTOSa1ametYEdZBDIIJBBIINABoGMgx7z3W4RvD4eP8k1z5sLOZtM9LrfYgcZ\n",
       "BDIIZBDIIJBBIKP1Yz6NPBGWVeqedCrXlKW+x90GdpBBIINABoEMAhkEMho55mN/DhV7yDzLSjHR\n",
       "x/x0er/vx2oEO8ggkEEgg0AGgQwCGSn/HieOHWQQyCCQQSCDQAaBDAIZBDJ+ABVlRa+cYosEAAAA\n",
       "AElFTkSuQmCC\n",
       "\" />"
      ],
      "text/plain": [
       "<IPython.core.display.HTML object>"
      ]
     },
     "metadata": {},
     "output_type": "display_data"
    },
    {
     "name": "stdout",
     "output_type": "stream",
     "text": [
      "==============================\n",
      "yhat=9 [0.000 0.000 0.000 0.000 0.000 0.000 0.000 0.000 0.000 1.000] (example 22)\n"
     ]
    },
    {
     "data": {
      "text/html": [
       "<img style=\"display:inline\" src=\"data:image/png;base64,iVBORw0KGgoAAAANSUhEUgAAAEgAAABICAYAAABV7bNHAAAABHNCSVQICAgIfAhkiAAAAAlwSFlz\n",
       "AAALEgAACxIB0t1+/AAAAXJJREFUeJzt22utgzAAQGF2cwUgYQ6YhOFgEiYBCUhAAjhAwiQgAQlM\n",
       "Aff3TWjPVsp9JOf7SQNrTpp03eO0rutaKOjjtyfw1xkIGAgYCBgIGAgYCBgIfB79Avf7PTg2juPm\n",
       "9bZtg/c0TbNzRu9xBQEDAQMBAwEDgVOOjzsej0dwrK7r4FhVVZvXz+dz0jxCu+IeriBgIGAgYCBg\n",
       "IGAgkOWw2vd90n1lWW5ej71teD6fwbHYfdfr9cVZfecKAgYCBgIGAgYCBgJZtvnY58TzPL/9vND2\n",
       "XxTxbf4IriBgIGAgYCBgIJBlF7tcLsGx2AEyJPZt7DAMbz9vD1cQMBAwEDAQMBAwEDj8B1QpYofV\n",
       "n+YKAgYCBgIGAgYCBgJZfmEWk3Kav91uSa+1LEvSfTGuIGAgYCBgIGAgYCCQ5TQf215jf22apmnz\n",
       "euxLgK7rXp5XDq4gYCBgIGAgYCBgIHD4af6/cwUBAwEDAQMBAwEDAQMBA4Ev94VCosRbKL4AAAAA\n",
       "SUVORK5CYII=\n",
       "\" />"
      ],
      "text/plain": [
       "<IPython.core.display.HTML object>"
      ]
     },
     "metadata": {},
     "output_type": "display_data"
    },
    {
     "data": {
      "text/html": [
       "<img style=\"display:inline\" src=\"data:image/png;base64,iVBORw0KGgoAAAANSUhEUgAAAEgAAABICAYAAABV7bNHAAAABHNCSVQICAgIfAhkiAAAAAlwSFlz\n",
       "AAALEgAACxIB0t1+/AAAAaVJREFUeJzt3D1OAlEUQOFBfg3RRkNMwNaOyrg+cU8uRCsLG6zsJCog\n",
       "mcCMG5j7DkyGaHG+cq5PyfElN8SfVlmWZabQyV+/gP/OQMBAwEDAQMBAwEDAQKCz7wfOZg/1vsBu\n",
       "G87m77eVz0ej1/BMr7eu9TpSZrP7cOYNAgYCBgIGAgYCe2+xlDw/DWc/u244u548VT4/22zCM+ui\n",
       "F862J+1wVpc3CBgIGAgYCBgIGAg0sua73Xgtl2X8PSjK6rU8X9+EZ95e7sLZdPoYzjqdPJyleIOA\n",
       "gYCBgIGAgYCBQCNrPmW77YezxWJS+Xw4XIRnxuPncNZqNf97GN4gYCBgIGAgYCDQyBZLbY/h8OPg\n",
       "2dXXZ3imHMSvY5XYmMt24mCCNwgYCBgIGAgYCBgIHP3Nah3niR89pywH9VZ5ijcIGAgYCBgIGAgY\n",
       "CBx9zbeLXTjrFkVwpvp5lmXZsh+/Y1/14lld3iBgIGAgYCBgIGAg0MiaT/3J03d+cfgnvIxHebv5\n",
       "XxZP8QYBAwEDAQMBAwEDgZb/HifNGwQMBAwEDAQMBAwEDAQMBH4BcxxGppiTVkIAAAAASUVORK5C\n",
       "YII=\n",
       "\" />"
      ],
      "text/plain": [
       "<IPython.core.display.HTML object>"
      ]
     },
     "metadata": {},
     "output_type": "display_data"
    },
    {
     "name": "stdout",
     "output_type": "stream",
     "text": [
      "==============================\n",
      "yhat=7 [0.000 0.000 0.000 0.000 0.000 0.000 0.000 1.000 0.000 0.000] (example 23)\n"
     ]
    },
    {
     "data": {
      "text/html": [
       "<img style=\"display:inline\" src=\"data:image/png;base64,iVBORw0KGgoAAAANSUhEUgAAAEgAAABICAYAAABV7bNHAAAABHNCSVQICAgIfAhkiAAAAAlwSFlz\n",
       "AAALEgAACxIB0t1+/AAAAWlJREFUeJzt2kGNhDAAQFFmswKQgARwMBJwgAUk4AAkgAMkIAEpoIC9\n",
       "7Yn2MzOwy+G/I80MzU+TpsBj27YtUdDXf0/g7gwEDAQMBAwEDAQMBAwEvq++QdM0wbGu63avr+sa\n",
       "/E1VVcGxvu+PTuswVxAwEDAQMBAwELh8F0vTNDhWluXL/zeO4yfTeZkrCBgIGAgYCBgIGAg87vhW\n",
       "I3SITZL4gXSe59Pn4goCBgIGAgYCBgIGApef5mOmadq9HtvmsywLji3LEhyLPVWIcQUBAwEDAQMB\n",
       "A4FTdrHYIbEoijNu8Su2i8Xm8Xw+37qfKwgYCBgIGAgYCBgInLLNx7be2AdPwzDsXm/bNvibuq4P\n",
       "z+sMriBgIGAgYCBgIGAgcPmr59h30qFnyLFn0n/NFQQMBAwEDAQMBAwELt/m8zwPjoVePb/7mvgK\n",
       "riBgIGAgYCBgIGAgcMsPye/EFQQMBAwEDAQMBAwEDAQMBH4A9+VD8ibq5YoAAAAASUVORK5CYII=\n",
       "\" />"
      ],
      "text/plain": [
       "<IPython.core.display.HTML object>"
      ]
     },
     "metadata": {},
     "output_type": "display_data"
    },
    {
     "data": {
      "text/html": [
       "<img style=\"display:inline\" src=\"data:image/png;base64,iVBORw0KGgoAAAANSUhEUgAAAEgAAABICAYAAABV7bNHAAAABHNCSVQICAgIfAhkiAAAAAlwSFlz\n",
       "AAALEgAACxIB0t1+/AAAAadJREFUeJzt3MtKw0AYQOFJo2JrvIBIH0F8SutbihtFxIXihYJa08S4\n",
       "dZHfk8YUBc+3nHHa4TAwkqBZ0zRNUmj02xv46wwEDAQMBAwEDAQMBAwENrr+4Gx21usLynISzlXV\n",
       "Vuv4crkdrtndvQ/nRqO6+8a+mM1O48/s9Yn/iIGAgYCBgIFA51usryz7COfyfNk6Pp9PwzUn6Tyc\n",
       "u90/6L6xjjxBwEDAQMBAwEDAQGDt1/zm5mLlNdPpRTh3Xce/Amyk95W/i3iCgIGAgYCBgIGAgcDa\n",
       "r/nv7L+9to4/bxfhmsUinhuPq3Auz/s9r/YEAQMBAwEDAQOBQW6x6A1pSinVdTw3KZ9bx2+qw3BN\n",
       "We5039gXRfHQa50nCBgIGAgYCBgIGAgMcs1Hr5BTSqlIL+HcTXHUOr6X34VrmpR139gAPEHAQMBA\n",
       "wEDAQMBAYJBrPsviv8nbquLnxI8f7c+X88nTj/c0FE8QMBAwEDAQMBAwEFj7q+er1+Nw7ujgsnW8\n",
       "Tvm6trMyTxAwEDAQMBAwEDAQyPz3ON/zBAEDAQMBAwEDAQMBAwEDgU+DgT+CHMNc9wAAAABJRU5E\n",
       "rkJggg==\n",
       "\" />"
      ],
      "text/plain": [
       "<IPython.core.display.HTML object>"
      ]
     },
     "metadata": {},
     "output_type": "display_data"
    },
    {
     "name": "stdout",
     "output_type": "stream",
     "text": [
      "==============================\n",
      "yhat=5 [0.000 0.001 0.000 0.000 0.000 0.998 0.000 0.000 0.001 0.000] (example 24)\n"
     ]
    },
    {
     "data": {
      "text/html": [
       "<img style=\"display:inline\" src=\"data:image/png;base64,iVBORw0KGgoAAAANSUhEUgAAAEgAAABICAYAAABV7bNHAAAABHNCSVQICAgIfAhkiAAAAAlwSFlz\n",
       "AAALEgAACxIB0t1+/AAAAWxJREFUeJzt2uGNgjAcQPHzcgO4gWyCIzACG+AG4gau4Ahs4AiMIBvA\n",
       "BNwC/vsUaLxL3u8jjdi8NGlq3c3zPH8p9P3pCfx1BgIGAgYCBgIGAgYCBgI/ub+g7/twrKqqp8+H\n",
       "YQg/czgcwrHH4/HyvF7lCgIGAgYCBgIGApvsYqmd6nQ6hWPRbnU+nxe9LwdXEDAQMBAwEDAQMBDY\n",
       "bXGrsd/vw7FpmsKxsiyfPr/f72untBlXEDAQMBAwEDAQMBDYZJuv6zocu91ub78vdZpv2/bt963h\n",
       "CgIGAgYCBgIGApvsYinX6zUciw6lqcNq6vY0dWheyhUEDAQMBAwEDAQMBLL/gWrJVXHXdRlmsowr\n",
       "CBgIGAgYCBgIGAhk3+ZTvyGnTvqRcRzDMU/zH2AgYCBgIGAgYCCQfZs/Ho/h2OVyefq8aZrwM0VR\n",
       "rJzRe1xBwEDAQMBAwEDAQCD73fx/5woCBgIGAgYCBgIGAgYCBgK/5BBJNfrB/30AAAAASUVORK5C\n",
       "YII=\n",
       "\" />"
      ],
      "text/plain": [
       "<IPython.core.display.HTML object>"
      ]
     },
     "metadata": {},
     "output_type": "display_data"
    },
    {
     "data": {
      "text/html": [
       "<img style=\"display:inline\" src=\"data:image/png;base64,iVBORw0KGgoAAAANSUhEUgAAAEgAAABICAYAAABV7bNHAAAABHNCSVQICAgIfAhkiAAAAAlwSFlz\n",
       "AAALEgAACxIB0t1+/AAAAZlJREFUeJzt3MFKAlEYQOEZM8cggxQqWhjRI/SATc8XrdtmGbQIAofK\n",
       "1Jy2Leb3TDFTLc63vH82l9OFSyKmZVmWiUKdv97Af2cgYCBgIGAgYCBgIGAg0K37g3l++aMHzOeD\n",
       "cDbsPFWuv/ay8DWTyXk4Ozm5rr+xL/L8Ipx5goCBgIGAgYCBQO1bbJOt9Uc423SL3S6OKtePRzfh\n",
       "a07HV+Fs3cLf2xMEDAQMBAwEDAQMBBq55nff38NZ0XsLZ6O9+8r1VaeRbTXCEwQMBAwEDAQMBAwE\n",
       "GrlPH5Pq/8qTJElms8NwNl7fVa4/bMe/L8te6m+sAZ4gYCBgIGAgYCDQyC22szMLZ/1+ET+8WFeu\n",
       "n71Nw9dMs/36G2uAJwgYCBgIGAgYCBgItP7mb5p+/4P8RRZ/gKos00afRTxBwEDAQMBAwEDAQKD1\n",
       "az5bLcNZ0e9Xrs+78bbauMo38QQBAwEDAQMBAwEDgdav+efFQThbLquv+eEgftP+t3mCgIGAgYCB\n",
       "gIGAgUDq1+Ns5gkCBgIGAgYCBgIGAgYCBgKfsyA+foDgbNgAAAAASUVORK5CYII=\n",
       "\" />"
      ],
      "text/plain": [
       "<IPython.core.display.HTML object>"
      ]
     },
     "metadata": {},
     "output_type": "display_data"
    },
    {
     "name": "stdout",
     "output_type": "stream",
     "text": [
      "==============================\n",
      "yhat=6 [0.000 0.000 0.000 0.000 0.000 0.000 1.000 0.000 0.000 0.000] (example 25)\n"
     ]
    },
    {
     "data": {
      "text/html": [
       "<img style=\"display:inline\" src=\"data:image/png;base64,iVBORw0KGgoAAAANSUhEUgAAAEgAAABICAYAAABV7bNHAAAABHNCSVQICAgIfAhkiAAAAAlwSFlz\n",
       "AAALEgAACxIB0t1+/AAAAVlJREFUeJzt2stthDAYAOFslEIogQ6gBEqgBKgESqEESoAS6IAOyC2n\n",
       "9T+KF+chzXdcy2s0smRh8biu63pT0vtvP8BfZyBgIGAgYCBgIGAgYCDwUXqBbduSY13XPf19WZbk\n",
       "nLquX36m73AHAQMBAwEDAQOBR+nrjpxTJzr5fpo7CBgIGAgYCBgIGAgUf1nd9z05Nk1T6eVf5g4C\n",
       "BgIGAgYCBgIGArcc89EdcqRt2zuWL8odBAwEDAQMBAwEbjnFqqrKmreu69Pfz/PMWiv3OSLuIGAg\n",
       "YCBgIGAgYCBwyzEfHcuRcRzvWP5LdMc9DEPWf7qDgIGAgYCBgIGAgcAtX5hFx3z0hVlqXnTHPc9z\n",
       "cix1OxCtRdxBwEDAQMBAwEDAQKD4h+TRkZ16wz6OIzmnaZrkWN/3WWMRdxAwEDAQMBAwEDAQKH7M\n",
       "/3fuIGAgYCBgIGAgYCBgIGAg8AnrE0nCARkejAAAAABJRU5ErkJggg==\n",
       "\" />"
      ],
      "text/plain": [
       "<IPython.core.display.HTML object>"
      ]
     },
     "metadata": {},
     "output_type": "display_data"
    },
    {
     "data": {
      "text/html": [
       "<img style=\"display:inline\" src=\"data:image/png;base64,iVBORw0KGgoAAAANSUhEUgAAAEgAAABICAYAAABV7bNHAAAABHNCSVQICAgIfAhkiAAAAAlwSFlz\n",
       "AAALEgAACxIB0t1+/AAAAZdJREFUeJzt3MtOwkAYQOG2XAoR4gV2Pqz1SV240WhcGKEm0NYXmL+H\n",
       "NFW7ON9yfhua4ySD2JB3XddlChX/fQNTZyBgIGAgYCBgIGAgYCAwv/QHq+px2As053C2OxyS6++b\n",
       "TXhNU8wG3UefqnoIZ+4gYCBgIGAgYCBw8Sk21E1dh7O37Ta53ubT+b1N504mykDAQMBAwEDAQODX\n",
       "j/nn2X04m51OyfXlMn5r8NfcQcBAwEDAQMBAwEBglGP+fC7DWdvGL1GW6c+kp8QdBAwEDAQMBAwE\n",
       "RjnF2jbuXNfX4awsv5LrRdGE13RdHs7yfPynCd1BwEDAQMBAwEDAQGCUY349Tx/XWZZlL8fbcLZa\n",
       "fSbX+47roogfyOqzXqdfi7iDgIGAgYCBgIGAgcAox3yXx39h7/dP4Wy5PCbXF/Pv8JpjfRPOFovx\n",
       "/2XtDgIGAgYCBgIGAgYC43xo3/Pg927xGs5mTZtc/2jvwmuaJr7lq1X89qAduBfcQcBAwEDAQMBA\n",
       "wEAg9+tx+rmDgIGAgYCBgIGAgYCBgIHADyjvP58zNk/lAAAAAElFTkSuQmCC\n",
       "\" />"
      ],
      "text/plain": [
       "<IPython.core.display.HTML object>"
      ]
     },
     "metadata": {},
     "output_type": "display_data"
    },
    {
     "name": "stdout",
     "output_type": "stream",
     "text": [
      "==============================\n",
      "yhat=3 [0.000 0.000 0.000 1.000 0.000 0.000 0.000 0.000 0.000 0.000] (example 26)\n"
     ]
    },
    {
     "data": {
      "text/html": [
       "<img style=\"display:inline\" src=\"data:image/png;base64,iVBORw0KGgoAAAANSUhEUgAAAEgAAABICAYAAABV7bNHAAAABHNCSVQICAgIfAhkiAAAAAlwSFlz\n",
       "AAALEgAACxIB0t1+/AAAAXJJREFUeJzt2uGNgjAcQHG83AKswAjKCo6AK7gCI8gIOoKMILOwgm7A\n",
       "LcC/jxCqXvJ+H2kam5cmpoXdNE1TodDPpxfw7QwEDAQMBAwEDAQMBAwEfnP/wDiO4VjXdbPPH49H\n",
       "OOd0OoVjl8tl+cIWcgcBAwEDAQMBA4HdFtcdz+czHKuqKhyr63r2+eFwCOdcr9dV61jLHQQMBAwE\n",
       "DAQMBAwENjmstm27al50KC3LMpwTHXBzcQcBAwEDAQMBAwEDgU1O8ympO+lo7Hg8hnPe/a2FOwgY\n",
       "CBgIGAgYCGR/s5q6kx6GYfb5fr8P56Tuq/u+X7WOFHcQMBAwEDAQMBAwEMh+WN3a+XxeNS/1yjrF\n",
       "HQQMBAwEDAQMBAwEsp/mU6+Ro7Hb7RbOSX1F5hdmH2AgYCBgIGAgYCCQ/W8+upgvivhrsaZpwjmv\n",
       "1yscu9/vyxe2kDsIGAgYCBgIGAgYCPy7S/t3cwcBAwEDAQMBAwEDAQMBA4E/8sRPg5Y/8zIAAAAA\n",
       "SUVORK5CYII=\n",
       "\" />"
      ],
      "text/plain": [
       "<IPython.core.display.HTML object>"
      ]
     },
     "metadata": {},
     "output_type": "display_data"
    },
    {
     "data": {
      "text/html": [
       "<img style=\"display:inline\" src=\"data:image/png;base64,iVBORw0KGgoAAAANSUhEUgAAAEgAAABICAYAAABV7bNHAAAABHNCSVQICAgIfAhkiAAAAAlwSFlz\n",
       "AAALEgAACxIB0t1+/AAAAb5JREFUeJzt3L1OAkEUhuGzBNflL2oChaHC3gvw6lzvzsrC3lhJNBqJ\n",
       "wQArwthSzJlvQxa1eJ9yDpvdvJlkwkrMQgjB4Gr99QP8dwQSCCQQSCCQQCCBQAKBhHbdD5blzV43\n",
       "aIWtO1tvj6Lr0+mle81o9ODOimJe/8F2lOW1O2MHCQQSCCQQSCCQUPsUSwnB7/y5PPVv3q6i66mT\n",
       "Kst+9+0MO0ggkEAggUACgQQCCY0c88UmflybmV293Lmz28lFdH25PHGvOd9O3dnMeu5sX+wggUAC\n",
       "gQQCCQQSCCQ0csxX7fi7ZTOz+/HYnRXf6+j6bDVwr5mdNX+Up7CDBAIJBBIIJBBIaOQUS1nkx+4s\n",
       "s/j75TxfuNf0q5U7m+cd/157vstmBwkEEggkEEggkEAg4eDHfEqwLLre67271zx9TNzZel64s+Hw\n",
       "sf6D7WAHCQQSCCQQSCCQQCDh4Md86nfSZ4v4t/bXjv+nZ+9XaWZmVdWv/2A1sYMEAgkEEggkEEgg\n",
       "kHDwY/5r43/Dfs670fVW2LjXDLpv7iz1FmBf7CCBQAKBBAIJBBIIJGT8e5w0dpBAIIFAAoEEAgkE\n",
       "EggkEEj4ASEWSId2Ujn3AAAAAElFTkSuQmCC\n",
       "\" />"
      ],
      "text/plain": [
       "<IPython.core.display.HTML object>"
      ]
     },
     "metadata": {},
     "output_type": "display_data"
    },
    {
     "name": "stdout",
     "output_type": "stream",
     "text": [
      "==============================\n",
      "yhat=5 [0.000 0.000 0.000 0.000 0.000 1.000 0.000 0.000 0.000 0.000] (example 27)\n"
     ]
    },
    {
     "data": {
      "text/html": [
       "<img style=\"display:inline\" src=\"data:image/png;base64,iVBORw0KGgoAAAANSUhEUgAAAEgAAABICAYAAABV7bNHAAAABHNCSVQICAgIfAhkiAAAAAlwSFlz\n",
       "AAALEgAACxIB0t1+/AAAAW5JREFUeJzt2sFtwjAYQOFS9Q4jsEEYIRsAG8AEWQkmSDaAEWADRkgm\n",
       "SG895fcTrimp9L6jLRP0ZMkyYTGO4/ih0Oe7v8DcGQgYCBgIGAgYCBgIGAh8lfiQruvCuf1+X+IR\n",
       "P7bbbTh3Op3CudVqlfU8dxAwEDAQMBAwEChyiuWeEMvlcnJ8t9uFa9brddazcrmDgIGAgYCBgIGA\n",
       "gUCRYz7XZrOZHE9dOv+aOwgYCBgIGAgYCBgILEr8eaHv+3Curutw7n6/T463bRuuSd30X8EdBAwE\n",
       "DAQMBAwEipxiKamL5/F4nByvqipcc7vdfvuVnuIOAgYCBgIGAgYCBgIvP+ZTDofD5Pj5fA7XXC6X\n",
       "cC51Mc7lDgIGAgYCBgIGAgYCL3/1fL1ew7mcm7n/MJsZAwEDAQMBAwEDgSLH/OPxCOdSr4qHYZgc\n",
       "b5omXOMxPzMGAgYCBgIGAgYCb/3R/j9wBwEDAQMBAwEDAQMBAwEDgW9ZF0C/MGrWVAAAAABJRU5E\n",
       "rkJggg==\n",
       "\" />"
      ],
      "text/plain": [
       "<IPython.core.display.HTML object>"
      ]
     },
     "metadata": {},
     "output_type": "display_data"
    },
    {
     "data": {
      "text/html": [
       "<img style=\"display:inline\" src=\"data:image/png;base64,iVBORw0KGgoAAAANSUhEUgAAAEgAAABICAYAAABV7bNHAAAABHNCSVQICAgIfAhkiAAAAAlwSFlz\n",
       "AAALEgAACxIB0t1+/AAAAcFJREFUeJzt3MFKAlEYhuE5zmRkiRVhCUnQplp7gdlldSERFBThInQR\n",
       "RUahjdMNnO98Q4zU4n2W53dweDlwmEEMVVVVGaTWX9/Af0cgg0AGgQwCGQQyCGQQyCjqfnA8vpKz\n",
       "t7cjOZtOz+RsdHIdXV/kubxm8nIuZ/v7EzkrioWcjceXcsYOMghkEMggkEEgo/YplnK4rU+PcKTf\n",
       "pjy+X0TXj3fv5DWnvRs5+yg25azKgpylsIMMAhkEMghkEMggkNHIMb9s6c6rlX7w7HZn0fWvYkN/\n",
       "WWq2Buwgg0AGgQwCGQQyCGQ0csx/B330zucHcjbceoiuv5ZdeU2eL+vfWAPYQQaBDAIZBDIIZDRy\n",
       "ioWwkrPB4FbOhrOX6PpO50te89zbrX9jDWAHGQQyCGQQyCCQQSCjkWM+JfVw+dluR9cXhb6tstTv\n",
       "uPO8rH9jNbGDDAIZBDIIZBDIIJCx9mO+Vekn/cneXnR9mXjHXYRvOfvtr8hS2EEGgQwCGQQyCGQQ\n",
       "yGjkmC9LfSw/PI3krN+/j673OvFfnmVZlpVBP82vAzvIIJBBIINABoEMAhmBv8dJYwcZBDIIZBDI\n",
       "IJBBIINABoGMH/PUQt5gG+TqAAAAAElFTkSuQmCC\n",
       "\" />"
      ],
      "text/plain": [
       "<IPython.core.display.HTML object>"
      ]
     },
     "metadata": {},
     "output_type": "display_data"
    },
    {
     "name": "stdout",
     "output_type": "stream",
     "text": [
      "==============================\n",
      "yhat=6 [0.000 0.000 0.000 0.000 0.000 0.000 1.000 0.000 0.000 0.000] (example 28)\n"
     ]
    },
    {
     "data": {
      "text/html": [
       "<img style=\"display:inline\" src=\"data:image/png;base64,iVBORw0KGgoAAAANSUhEUgAAAEgAAABICAYAAABV7bNHAAAABHNCSVQICAgIfAhkiAAAAAlwSFlz\n",
       "AAALEgAACxIB0t1+/AAAAXdJREFUeJzt29FtglAYQGFpOgAb6Ag4AY7gCI7gCG6iG8AIjgAbwASM\n",
       "QN/6xH9Pegu1Jud75OYWc3KTPyIt5nmedwp9vPoD/HcGAgYCBgIGAgYCBgIGAp9b3+DxeIRrt9tt\n",
       "8XrXdeGesix/+Yl+xhMEDAQMBAwEDAReOsVOp9Pi9b+eVCmeIGAgYCBgIGAgYCBQrPGrRurL5fF4\n",
       "DNemaVq87ph/IwYCBgIGAgYCBgKrfJsfhiFc2+/34Vo0zp/PZ7jncDhkreXyBAEDAQMBAwEDgc2n\n",
       "2DiO4VpRFGvc/lvTNOHa+XzO+pueIGAgYCBgIGAgYCCwypivqipr3/1+X7x+uVzCPdfrNVxL/czt\n",
       "mN+IgYCBgIGAgYCBwCpjPnpTbLdLP5OOngK0bRvuST2vTn2OXJ4gYCBgIGAgYCBgILDKG2YpqZEd\n",
       "/TtU3/fhnrqus+6V+9aaJwgYCBgIGAgYCBgIbD7m350nCBgIGAgYCBgIGAgYCBgIfAEXdkdD21kZ\n",
       "AwAAAABJRU5ErkJggg==\n",
       "\" />"
      ],
      "text/plain": [
       "<IPython.core.display.HTML object>"
      ]
     },
     "metadata": {},
     "output_type": "display_data"
    },
    {
     "data": {
      "text/html": [
       "<img style=\"display:inline\" src=\"data:image/png;base64,iVBORw0KGgoAAAANSUhEUgAAAEgAAABICAYAAABV7bNHAAAABHNCSVQICAgIfAhkiAAAAAlwSFlz\n",
       "AAALEgAACxIB0t1+/AAAAZ9JREFUeJzt3EtOAkEUQFELGuUfgomJK3AHbk9cphMHOvBDYqIhgK10\n",
       "uYF+XMQmMrhnWM+Wzu1KCtGYcs75RKHWf9/AsTMQMBAwEDAQMBAwEDAQKHb9wtnsdq8X6Jef4Wyy\n",
       "WtWuP4/H4TVVav6ZzmY34cwdBAwEDAQMBAwEdj7F9jVer8PZy2hUu36Ik2pfx3MnR8pAwEDAQMBA\n",
       "wECgkWO+XW3C2V2+Cmfj9Fq7nk6qP99TU9xBwEDAQMBAwEDAQKCRY369GYSzTif+TDql+uO82PK2\n",
       "oUppy6z55+0OAgYCBgIGAgYCzZxi6/g3oWXZD2fd7kfterv6Cq9Z5frPsUmnE382vo07CBgIGAgY\n",
       "CBgIGAg0csxPBk/h7P7tOpwNh/Pa9dZZ/MNqkctwtlxOwpnH/IEYCBgIGAgYCBgINHLMb1rtcDad\n",
       "PsQvXsRHdmSxOA9nvd77r78fcQcBAwEDAQMBAwEDgYP/Ifnl6WM8/K5fnpcX4SU5x890n7cNxB0E\n",
       "DAQMBAwEDAQMBJL/Hmc7dxAwEDAQMBAwEDAQMBAwEPgB7MtEmybt+lcAAAAASUVORK5CYII=\n",
       "\" />"
      ],
      "text/plain": [
       "<IPython.core.display.HTML object>"
      ]
     },
     "metadata": {},
     "output_type": "display_data"
    },
    {
     "name": "stdout",
     "output_type": "stream",
     "text": [
      "==============================\n",
      "yhat=3 [0.000 0.000 0.000 1.000 0.000 0.000 0.000 0.000 0.000 0.000] (example 29)\n"
     ]
    },
    {
     "data": {
      "text/html": [
       "<img style=\"display:inline\" src=\"data:image/png;base64,iVBORw0KGgoAAAANSUhEUgAAAEgAAABICAYAAABV7bNHAAAABHNCSVQICAgIfAhkiAAAAAlwSFlz\n",
       "AAALEgAACxIB0t1+/AAAAX1JREFUeJzt2uFtgkAYgOGz6X/cAEZwBDYQN3AERnAUR3AER4ANcAOZ\n",
       "gC7gd69QiE3zPj/7hXJ5c8nVq7tpmqak0NenF/DXGQgYCBgIGAgYCBgIGAh8b/2CqqrC2ePxePnz\n",
       "oijCZ+73ezg7HA7vLutt7iBgIGAgYCBgILD5KXa5XMLZfr+f/cztdgtnnmIfYCBgIGAgYCBgILD5\n",
       "MX8+n8NZdJz3fT/7ma24g4CBgIGAgYCBgIHA5sd8Ttd1s5/JfZpvmuY3y3nJHQQMBAwEDAQMBHZr\n",
       "fAXv+XyGs2EYwll0h5z772nupGrbNpwt/ZDrDgIGAgYCBgIGAgYCqxzz1+s1nOWO3tyfB0t+X24d\n",
       "S96VkjsIGQgYCBgIGAgYCKxyJx19UyyllMZxDGfR/XLuSM7dSefWsZQ7CBgIGAgYCBgIGAiscszX\n",
       "dR3OjsdjODudTrPfVZZlOMtd9i/lDgIGAgYCBgIGAgYCq1za/2fuIGAgYCBgIGAgYCBgIGAg8ANH\n",
       "nU+8saL0xwAAAABJRU5ErkJggg==\n",
       "\" />"
      ],
      "text/plain": [
       "<IPython.core.display.HTML object>"
      ]
     },
     "metadata": {},
     "output_type": "display_data"
    },
    {
     "data": {
      "text/html": [
       "<img style=\"display:inline\" src=\"data:image/png;base64,iVBORw0KGgoAAAANSUhEUgAAAEgAAABICAYAAABV7bNHAAAABHNCSVQICAgIfAhkiAAAAAlwSFlz\n",
       "AAALEgAACxIB0t1+/AAAAcxJREFUeJzt3E9LAkEYx3HX3SE2SA1Jj6WBdu7Sy2t7ZdEpgg6dCzxI\n",
       "hHboH5mV627XoH3mt2xKHb6f4zyNLl8GBo0K8jzPazDV//oB/jsCCQQSCCQQSCCQQCCBQEJU9geT\n",
       "5KTSG2y/zczZNNopXB+PD809vd65OQvDZfkH+yZJjs0ZJ0ggkEAggUACgYTSt1hV965tzsL6onC9\n",
       "270292SZs1+v4i3mwwkSCCQQSCCQQCCBQMLar3nn3s3ZcDopXL9qbJp72stHc/bi4vIPVhInSCCQ\n",
       "QCCBQAKBBAIJa7/mfZ7i4ms5TTfMPYOHqTm73N377SP9wAkSCCQQSCCQQCBhJbdYmNnfBUdZZs6m\n",
       "jWbhepw+m3tuOh3Pe9nPkdZDc+bDCRIIJBBIIJBAIIFAwkqueee5yo9GI3N2NhgWrkfRh7lnPNs3\n",
       "Z5PxgTkbDk/NmQ8nSCCQQCCBQAKBBAIJK7nmA8/f5F30++YsXnwWrs/Car9Cdm5eaZ8PJ0ggkEAg\n",
       "gUACgQQCCSu55l/r9rU8n7fMmXPFn9qD3P7yvb11a85azTtzltcCc+bDCRIIJBBIIJBAIIFAQsC/\n",
       "x/HjBAkEEggkEEggkEAggUACgYQvREBLngoLJ5kAAAAASUVORK5CYII=\n",
       "\" />"
      ],
      "text/plain": [
       "<IPython.core.display.HTML object>"
      ]
     },
     "metadata": {},
     "output_type": "display_data"
    }
   ],
   "source": [
    "# Sample some data and compute predictions, probabilities, and gradients for plotting.\n",
    "x_sample = X[sample_ind, :]\n",
    "yhat_sample = gs.predict(x_sample)\n",
    "yhat_proba_sample = gs.predict_proba(x_sample)\n",
    "pg_sample = mlp.prediction_gradient(x_sample)\n",
    "\n",
    "# color scale for plots\n",
    "vmax_abs = np.abs(pg_sample * x_sample[:, np.newaxis, :]).max()\n",
    "\n",
    "for i, (x, yhat, yprob, pg) in enumerate(zip(x_sample, yhat_sample, yhat_proba_sample, pg_sample)):\n",
    "    print(\"=\" * 30)\n",
    "    print(\"yhat=%d %s (example %d)\" %\n",
    "          (yhat, '[' + ' '.join(['%.3f' % v for v in yprob]) + ']', i))\n",
    "    # Note: np.newaxis is used just because show_images expects a (n_examples, n_inputs) array\n",
    "    # but we're only plotting one image at a time.\n",
    "    show_images(np.reshape(x, (8, 8))[np.newaxis, :], mono_cmap)\n",
    "    show_images(pg[yhat][np.newaxis, :] * x, dual_cmap, vmin=-vmax_abs, vmax=vmax_abs)"
   ]
  }
 ],
 "metadata": {
  "kernelspec": {
   "display_name": "Python 3",
   "language": "python",
   "name": "python3"
  },
  "language_info": {
   "codemirror_mode": {
    "name": "ipython",
    "version": 3
   },
   "file_extension": ".py",
   "mimetype": "text/x-python",
   "name": "python",
   "nbconvert_exporter": "python",
   "pygments_lexer": "ipython3",
   "version": "3.6.2"
  }
 },
 "nbformat": 4,
 "nbformat_minor": 2
}
